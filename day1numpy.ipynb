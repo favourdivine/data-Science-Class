{
 "cells": [
  {
   "cell_type": "code",
   "execution_count": 1,
   "id": "561d3323",
   "metadata": {},
   "outputs": [
    {
     "name": "stdout",
     "output_type": "stream",
     "text": [
      "['ALLOW_THREADS', 'AxisError', 'BUFSIZE', 'Bytes0', 'CLIP', 'ComplexWarning', 'DataSource', 'Datetime64', 'ERR_CALL', 'ERR_DEFAULT', 'ERR_IGNORE', 'ERR_LOG', 'ERR_PRINT', 'ERR_RAISE', 'ERR_WARN', 'FLOATING_POINT_SUPPORT', 'FPE_DIVIDEBYZERO', 'FPE_INVALID', 'FPE_OVERFLOW', 'FPE_UNDERFLOW', 'False_', 'Inf', 'Infinity', 'MAXDIMS', 'MAY_SHARE_BOUNDS', 'MAY_SHARE_EXACT', 'MachAr', 'ModuleDeprecationWarning', 'NAN', 'NINF', 'NZERO', 'NaN', 'PINF', 'PZERO', 'RAISE', 'RankWarning', 'SHIFT_DIVIDEBYZERO', 'SHIFT_INVALID', 'SHIFT_OVERFLOW', 'SHIFT_UNDERFLOW', 'ScalarType', 'Str0', 'Tester', 'TooHardError', 'True_', 'UFUNC_BUFSIZE_DEFAULT', 'UFUNC_PYVALS_NAME', 'Uint64', 'VisibleDeprecationWarning', 'WRAP', '_NoValue', '_UFUNC_API', '__NUMPY_SETUP__', '__all__', '__builtins__', '__cached__', '__config__', '__deprecated_attrs__', '__dir__', '__doc__', '__expired_functions__', '__file__', '__getattr__', '__git_version__', '__loader__', '__mkl_version__', '__name__', '__package__', '__path__', '__spec__', '__version__', '_add_newdoc_ufunc', '_distributor_init', '_financial_names', '_globals', '_mat', '_pytesttester', '_version', 'abs', 'absolute', 'add', 'add_docstring', 'add_newdoc', 'add_newdoc_ufunc', 'alen', 'all', 'allclose', 'alltrue', 'amax', 'amin', 'angle', 'any', 'append', 'apply_along_axis', 'apply_over_axes', 'arange', 'arccos', 'arccosh', 'arcsin', 'arcsinh', 'arctan', 'arctan2', 'arctanh', 'argmax', 'argmin', 'argpartition', 'argsort', 'argwhere', 'around', 'array', 'array2string', 'array_equal', 'array_equiv', 'array_repr', 'array_split', 'array_str', 'asanyarray', 'asarray', 'asarray_chkfinite', 'ascontiguousarray', 'asfarray', 'asfortranarray', 'asmatrix', 'asscalar', 'atleast_1d', 'atleast_2d', 'atleast_3d', 'average', 'bartlett', 'base_repr', 'binary_repr', 'bincount', 'bitwise_and', 'bitwise_not', 'bitwise_or', 'bitwise_xor', 'blackman', 'block', 'bmat', 'bool8', 'bool_', 'broadcast', 'broadcast_arrays', 'broadcast_shapes', 'broadcast_to', 'busday_count', 'busday_offset', 'busdaycalendar', 'byte', 'byte_bounds', 'bytes0', 'bytes_', 'c_', 'can_cast', 'cast', 'cbrt', 'cdouble', 'ceil', 'cfloat', 'char', 'character', 'chararray', 'choose', 'clip', 'clongdouble', 'clongfloat', 'column_stack', 'common_type', 'compare_chararrays', 'compat', 'complex128', 'complex64', 'complex_', 'complexfloating', 'compress', 'concatenate', 'conj', 'conjugate', 'convolve', 'copy', 'copysign', 'copyto', 'core', 'corrcoef', 'correlate', 'cos', 'cosh', 'count_nonzero', 'cov', 'cross', 'csingle', 'ctypeslib', 'cumprod', 'cumproduct', 'cumsum', 'datetime64', 'datetime_as_string', 'datetime_data', 'deg2rad', 'degrees', 'delete', 'deprecate', 'deprecate_with_doc', 'diag', 'diag_indices', 'diag_indices_from', 'diagflat', 'diagonal', 'diff', 'digitize', 'disp', 'divide', 'divmod', 'dot', 'double', 'dsplit', 'dstack', 'dtype', 'e', 'ediff1d', 'einsum', 'einsum_path', 'emath', 'empty', 'empty_like', 'equal', 'errstate', 'euler_gamma', 'exp', 'exp2', 'expand_dims', 'expm1', 'extract', 'eye', 'fabs', 'fastCopyAndTranspose', 'fft', 'fill_diagonal', 'find_common_type', 'finfo', 'fix', 'flatiter', 'flatnonzero', 'flexible', 'flip', 'fliplr', 'flipud', 'float16', 'float32', 'float64', 'float_', 'float_power', 'floating', 'floor', 'floor_divide', 'fmax', 'fmin', 'fmod', 'format_float_positional', 'format_float_scientific', 'format_parser', 'frexp', 'frombuffer', 'fromfile', 'fromfunction', 'fromiter', 'frompyfunc', 'fromregex', 'fromstring', 'full', 'full_like', 'gcd', 'generic', 'genfromtxt', 'geomspace', 'get_array_wrap', 'get_include', 'get_printoptions', 'getbufsize', 'geterr', 'geterrcall', 'geterrobj', 'gradient', 'greater', 'greater_equal', 'half', 'hamming', 'hanning', 'heaviside', 'histogram', 'histogram2d', 'histogram_bin_edges', 'histogramdd', 'hsplit', 'hstack', 'hypot', 'i0', 'identity', 'iinfo', 'imag', 'in1d', 'index_exp', 'indices', 'inexact', 'inf', 'info', 'infty', 'inner', 'insert', 'int0', 'int16', 'int32', 'int64', 'int8', 'int_', 'intc', 'integer', 'interp', 'intersect1d', 'intp', 'invert', 'is_busday', 'isclose', 'iscomplex', 'iscomplexobj', 'isfinite', 'isfortran', 'isin', 'isinf', 'isnan', 'isnat', 'isneginf', 'isposinf', 'isreal', 'isrealobj', 'isscalar', 'issctype', 'issubclass_', 'issubdtype', 'issubsctype', 'iterable', 'ix_', 'kaiser', 'kron', 'lcm', 'ldexp', 'left_shift', 'less', 'less_equal', 'lexsort', 'lib', 'linalg', 'linspace', 'little_endian', 'load', 'loads', 'loadtxt', 'log', 'log10', 'log1p', 'log2', 'logaddexp', 'logaddexp2', 'logical_and', 'logical_not', 'logical_or', 'logical_xor', 'logspace', 'longcomplex', 'longdouble', 'longfloat', 'longlong', 'lookfor', 'ma', 'mafromtxt', 'mask_indices', 'mat', 'math', 'matmul', 'matrix', 'matrixlib', 'max', 'maximum', 'maximum_sctype', 'may_share_memory', 'mean', 'median', 'memmap', 'meshgrid', 'mgrid', 'min', 'min_scalar_type', 'minimum', 'mintypecode', 'mkl', 'mod', 'modf', 'moveaxis', 'msort', 'multiply', 'nan', 'nan_to_num', 'nanargmax', 'nanargmin', 'nancumprod', 'nancumsum', 'nanmax', 'nanmean', 'nanmedian', 'nanmin', 'nanpercentile', 'nanprod', 'nanquantile', 'nanstd', 'nansum', 'nanvar', 'nbytes', 'ndarray', 'ndenumerate', 'ndfromtxt', 'ndim', 'ndindex', 'nditer', 'negative', 'nested_iters', 'newaxis', 'nextafter', 'nonzero', 'not_equal', 'numarray', 'number', 'obj2sctype', 'object0', 'object_', 'ogrid', 'oldnumeric', 'ones', 'ones_like', 'os', 'outer', 'packbits', 'pad', 'partition', 'percentile', 'pi', 'piecewise', 'place', 'poly', 'poly1d', 'polyadd', 'polyder', 'polydiv', 'polyfit', 'polyint', 'polymul', 'polynomial', 'polysub', 'polyval', 'positive', 'power', 'printoptions', 'prod', 'product', 'promote_types', 'ptp', 'put', 'put_along_axis', 'putmask', 'quantile', 'r_', 'rad2deg', 'radians', 'random', 'ravel', 'ravel_multi_index', 'real', 'real_if_close', 'rec', 'recarray', 'recfromcsv', 'recfromtxt', 'reciprocal', 'record', 'remainder', 'repeat', 'require', 'reshape', 'resize', 'result_type', 'right_shift', 'rint', 'roll', 'rollaxis', 'roots', 'rot90', 'round', 'round_', 'row_stack', 's_', 'safe_eval', 'save', 'savetxt', 'savez', 'savez_compressed', 'sctype2char', 'sctypeDict', 'sctypes', 'searchsorted', 'select', 'set_numeric_ops', 'set_printoptions', 'set_string_function', 'setbufsize', 'setdiff1d', 'seterr', 'seterrcall', 'seterrobj', 'setxor1d', 'shape', 'shares_memory', 'short', 'show_config', 'sign', 'signbit', 'signedinteger', 'sin', 'sinc', 'single', 'singlecomplex', 'sinh', 'size', 'sometrue', 'sort', 'sort_complex', 'source', 'spacing', 'split', 'sqrt', 'square', 'squeeze', 'stack', 'std', 'str0', 'str_', 'string_', 'subtract', 'sum', 'swapaxes', 'sys', 'take', 'take_along_axis', 'tan', 'tanh', 'tensordot', 'test', 'testing', 'tile', 'timedelta64', 'trace', 'tracemalloc_domain', 'transpose', 'trapz', 'tri', 'tril', 'tril_indices', 'tril_indices_from', 'trim_zeros', 'triu', 'triu_indices', 'triu_indices_from', 'true_divide', 'trunc', 'typecodes', 'typename', 'ubyte', 'ufunc', 'uint', 'uint0', 'uint16', 'uint32', 'uint64', 'uint8', 'uintc', 'uintp', 'ulonglong', 'unicode_', 'union1d', 'unique', 'unpackbits', 'unravel_index', 'unsignedinteger', 'unwrap', 'use_hugepage', 'ushort', 'vander', 'var', 'vdot', 'vectorize', 'version', 'void', 'void0', 'vsplit', 'vstack', 'warnings', 'where', 'who', 'zeros', 'zeros_like']\n"
     ]
    }
   ],
   "source": [
    "import numpy as np\n",
    "print(dir(np))"
   ]
  },
  {
   "cell_type": "code",
   "execution_count": 2,
   "id": "a2bf28cf",
   "metadata": {},
   "outputs": [],
   "source": [
    "arr1= np.array([84,58,96,36])"
   ]
  },
  {
   "cell_type": "code",
   "execution_count": 3,
   "id": "7503050e",
   "metadata": {},
   "outputs": [
    {
     "data": {
      "text/plain": [
       "1"
      ]
     },
     "execution_count": 3,
     "metadata": {},
     "output_type": "execute_result"
    }
   ],
   "source": [
    "arr1.ndim"
   ]
  },
  {
   "cell_type": "code",
   "execution_count": 4,
   "id": "f66dd95d",
   "metadata": {},
   "outputs": [
    {
     "data": {
      "text/plain": [
       "(4,)"
      ]
     },
     "execution_count": 4,
     "metadata": {},
     "output_type": "execute_result"
    }
   ],
   "source": [
    "arr1.shape"
   ]
  },
  {
   "cell_type": "code",
   "execution_count": 5,
   "id": "be731616",
   "metadata": {},
   "outputs": [
    {
     "data": {
      "text/plain": [
       "dtype('int32')"
      ]
     },
     "execution_count": 5,
     "metadata": {},
     "output_type": "execute_result"
    }
   ],
   "source": [
    "arr1.dtype"
   ]
  },
  {
   "cell_type": "code",
   "execution_count": 6,
   "id": "760d480f",
   "metadata": {},
   "outputs": [
    {
     "data": {
      "text/plain": [
       "array([[87, 45, 78, 50],\n",
       "       [45, 78, 96, 35]])"
      ]
     },
     "execution_count": 6,
     "metadata": {},
     "output_type": "execute_result"
    }
   ],
   "source": [
    "arr2 = np.array([[87,45,78,50],[45,78,96,35]],dtype=int)\n",
    "arr2"
   ]
  },
  {
   "cell_type": "code",
   "execution_count": 7,
   "id": "93e851de",
   "metadata": {},
   "outputs": [
    {
     "data": {
      "text/plain": [
       "(2, 4)"
      ]
     },
     "execution_count": 7,
     "metadata": {},
     "output_type": "execute_result"
    }
   ],
   "source": [
    "arr2.shape"
   ]
  },
  {
   "cell_type": "code",
   "execution_count": 8,
   "id": "27eec10e",
   "metadata": {},
   "outputs": [
    {
     "data": {
      "text/plain": [
       "2"
      ]
     },
     "execution_count": 8,
     "metadata": {},
     "output_type": "execute_result"
    }
   ],
   "source": [
    "arr2.ndim"
   ]
  },
  {
   "cell_type": "code",
   "execution_count": 9,
   "id": "3571dfbd",
   "metadata": {},
   "outputs": [
    {
     "data": {
      "text/plain": [
       "array([14.        , 14.73469388, 15.46938776, 16.20408163, 16.93877551,\n",
       "       17.67346939, 18.40816327, 19.14285714, 19.87755102, 20.6122449 ,\n",
       "       21.34693878, 22.08163265, 22.81632653, 23.55102041, 24.28571429,\n",
       "       25.02040816, 25.75510204, 26.48979592, 27.2244898 , 27.95918367,\n",
       "       28.69387755, 29.42857143, 30.16326531, 30.89795918, 31.63265306,\n",
       "       32.36734694, 33.10204082, 33.83673469, 34.57142857, 35.30612245,\n",
       "       36.04081633, 36.7755102 , 37.51020408, 38.24489796, 38.97959184,\n",
       "       39.71428571, 40.44897959, 41.18367347, 41.91836735, 42.65306122,\n",
       "       43.3877551 , 44.12244898, 44.85714286, 45.59183673, 46.32653061,\n",
       "       47.06122449, 47.79591837, 48.53061224, 49.26530612, 50.        ])"
      ]
     },
     "execution_count": 9,
     "metadata": {},
     "output_type": "execute_result"
    }
   ],
   "source": [
    "np.linspace(14,50)"
   ]
  },
  {
   "cell_type": "code",
   "execution_count": 11,
   "id": "104feddd",
   "metadata": {},
   "outputs": [
    {
     "data": {
      "text/plain": [
       "array([14.        , 15.89473684, 17.78947368, 19.68421053, 21.57894737,\n",
       "       23.47368421, 25.36842105, 27.26315789, 29.15789474, 31.05263158,\n",
       "       32.94736842, 34.84210526, 36.73684211, 38.63157895, 40.52631579,\n",
       "       42.42105263, 44.31578947, 46.21052632, 48.10526316, 50.        ])"
      ]
     },
     "execution_count": 11,
     "metadata": {},
     "output_type": "execute_result"
    }
   ],
   "source": [
    "np.linspace(14,50,20)"
   ]
  },
  {
   "cell_type": "code",
   "execution_count": 12,
   "id": "4d4b281f",
   "metadata": {},
   "outputs": [
    {
     "data": {
      "text/plain": [
       "array([0., 0., 0., 0., 0., 0., 0., 0., 0., 0., 0., 0., 0., 0., 0.])"
      ]
     },
     "execution_count": 12,
     "metadata": {},
     "output_type": "execute_result"
    }
   ],
   "source": [
    "np.zeros(15)"
   ]
  },
  {
   "cell_type": "code",
   "execution_count": 13,
   "id": "f499139a",
   "metadata": {},
   "outputs": [
    {
     "data": {
      "text/plain": [
       "array([1., 1., 1., 1., 1., 1., 1., 1., 1., 1., 1., 1., 1., 1., 1.])"
      ]
     },
     "execution_count": 13,
     "metadata": {},
     "output_type": "execute_result"
    }
   ],
   "source": [
    "np.ones(15)"
   ]
  },
  {
   "cell_type": "code",
   "execution_count": 14,
   "id": "3dfd3e7e",
   "metadata": {},
   "outputs": [
    {
     "data": {
      "text/plain": [
       "array([5., 5., 5., 5., 5., 5., 5., 5., 5., 5., 5., 5., 5., 5., 5.])"
      ]
     },
     "execution_count": 14,
     "metadata": {},
     "output_type": "execute_result"
    }
   ],
   "source": [
    "np.ones(15) * 5"
   ]
  },
  {
   "cell_type": "code",
   "execution_count": 16,
   "id": "0d3ed620",
   "metadata": {},
   "outputs": [
    {
     "data": {
      "text/plain": [
       "array([5., 5., 5., 5., 5., 5., 5., 5., 5., 5., 5., 5., 5., 5., 5.])"
      ]
     },
     "execution_count": 16,
     "metadata": {},
     "output_type": "execute_result"
    }
   ],
   "source": [
    "np.zeros(15) + 5"
   ]
  },
  {
   "cell_type": "code",
   "execution_count": 17,
   "id": "ed0e706b",
   "metadata": {},
   "outputs": [
    {
     "data": {
      "text/plain": [
       "array([[1., 0., 0., 0., 0., 0.],\n",
       "       [0., 1., 0., 0., 0., 0.],\n",
       "       [0., 0., 1., 0., 0., 0.],\n",
       "       [0., 0., 0., 1., 0., 0.],\n",
       "       [0., 0., 0., 0., 1., 0.],\n",
       "       [0., 0., 0., 0., 0., 1.]])"
      ]
     },
     "execution_count": 17,
     "metadata": {},
     "output_type": "execute_result"
    }
   ],
   "source": [
    "np.eye(6)"
   ]
  },
  {
   "cell_type": "code",
   "execution_count": 21,
   "id": "e033fb12",
   "metadata": {},
   "outputs": [
    {
     "data": {
      "text/plain": [
       "array([  1,   2,   3,   4,   5,   6,   7,   8,   9,  10,  11,  12,  13,\n",
       "        14,  15,  16,  17,  18,  19,  20,  21,  22,  23,  24,  25,  26,\n",
       "        27,  28,  29,  30,  31,  32,  33,  34,  35,  36,  37,  38,  39,\n",
       "        40,  41,  42,  43,  44,  45,  46,  47,  48,  49,  50,  51,  52,\n",
       "        53,  54,  55,  56,  57,  58,  59,  60,  61,  62,  63,  64,  65,\n",
       "        66,  67,  68,  69,  70,  71,  72,  73,  74,  75,  76,  77,  78,\n",
       "        79,  80,  81,  82,  83,  84,  85,  86,  87,  88,  89,  90,  91,\n",
       "        92,  93,  94,  95,  96,  97,  98,  99, 100, 101])"
      ]
     },
     "execution_count": 21,
     "metadata": {},
     "output_type": "execute_result"
    }
   ],
   "source": [
    "arr3 = np. arange(1,101)\n",
    "arr3"
   ]
  },
  {
   "cell_type": "code",
   "execution_count": 22,
   "id": "2091be73",
   "metadata": {},
   "outputs": [
    {
     "data": {
      "text/plain": [
       "array([  1,   4,   7,  10,  13,  16,  19,  22,  25,  28,  31,  34,  37,\n",
       "        40,  43,  46,  49,  52,  55,  58,  61,  64,  67,  70,  73,  76,\n",
       "        79,  82,  85,  88,  91,  94,  97, 100])"
      ]
     },
     "execution_count": 22,
     "metadata": {},
     "output_type": "execute_result"
    }
   ],
   "source": [
    "arr3 = np. arange(1,101,3)\n",
    "arr3"
   ]
  },
  {
   "cell_type": "code",
   "execution_count": 23,
   "id": "ffaee48c",
   "metadata": {},
   "outputs": [
    {
     "data": {
      "text/plain": [
       "95"
      ]
     },
     "execution_count": 23,
     "metadata": {},
     "output_type": "execute_result"
    }
   ],
   "source": [
    "arr4 = np.random.randint(15,100)\n",
    "arr4"
   ]
  },
  {
   "cell_type": "code",
   "execution_count": 34,
   "id": "0cf040ae",
   "metadata": {},
   "outputs": [
    {
     "data": {
      "text/plain": [
       "array([52, 27, 87, 24, 90, 20, 94, 79, 31, 16, 91, 86, 21, 40, 65, 35, 33,\n",
       "       99, 26, 43, 44, 29, 65, 83, 28, 24, 22, 78, 76, 37, 72, 16, 15, 75,\n",
       "       96, 23, 28, 62, 87, 45, 86, 18, 85, 36, 64, 72, 18, 83, 39, 58, 91,\n",
       "       41, 67, 95, 56, 97, 30, 79, 83, 40, 22, 41, 40, 37, 24, 82, 38, 42,\n",
       "       52, 72, 98, 53, 23, 47, 49, 25, 38, 30, 40, 86, 89, 77, 61, 47, 38,\n",
       "       70, 80, 92, 18, 15, 92, 21, 67, 85, 17, 91, 36, 90, 22, 92])"
      ]
     },
     "execution_count": 34,
     "metadata": {},
     "output_type": "execute_result"
    }
   ],
   "source": [
    "np.random.seed(1)\n",
    "arr4 = np.random.randint(15,100,100)\n",
    "arr4"
   ]
  },
  {
   "cell_type": "code",
   "execution_count": 35,
   "id": "6a1db5b5",
   "metadata": {},
   "outputs": [
    {
     "data": {
      "text/plain": [
       "array([[52, 27, 87, 24, 90, 20, 94, 79, 31, 16],\n",
       "       [91, 86, 21, 40, 65, 35, 33, 99, 26, 43],\n",
       "       [44, 29, 65, 83, 28, 24, 22, 78, 76, 37],\n",
       "       [72, 16, 15, 75, 96, 23, 28, 62, 87, 45],\n",
       "       [86, 18, 85, 36, 64, 72, 18, 83, 39, 58],\n",
       "       [91, 41, 67, 95, 56, 97, 30, 79, 83, 40],\n",
       "       [22, 41, 40, 37, 24, 82, 38, 42, 52, 72],\n",
       "       [98, 53, 23, 47, 49, 25, 38, 30, 40, 86],\n",
       "       [89, 77, 61, 47, 38, 70, 80, 92, 18, 15],\n",
       "       [92, 21, 67, 85, 17, 91, 36, 90, 22, 92]])"
      ]
     },
     "execution_count": 35,
     "metadata": {},
     "output_type": "execute_result"
    }
   ],
   "source": [
    "arr4 =arr4.reshape(10,10)\n",
    "arr4"
   ]
  },
  {
   "cell_type": "code",
   "execution_count": 36,
   "id": "5ccba7d3",
   "metadata": {},
   "outputs": [
    {
     "data": {
      "text/plain": [
       "array([[52, 27, 87, 24, 90, 20, 94, 79, 31, 16],\n",
       "       [91, 86, 21, 40, 65, 35, 33, 99, 26, 43],\n",
       "       [44, 29, 65, 50, 50, 50, 50, 78, 76, 37],\n",
       "       [72, 16, 15, 50, 50, 50, 50, 62, 87, 45],\n",
       "       [86, 18, 85, 50, 50, 50, 50, 83, 39, 58],\n",
       "       [91, 41, 67, 50, 50, 50, 50, 79, 83, 40],\n",
       "       [22, 41, 40, 50, 50, 50, 50, 42, 52, 72],\n",
       "       [98, 53, 23, 47, 49, 25, 38, 30, 40, 86],\n",
       "       [89, 77, 61, 47, 38, 70, 80, 92, 18, 15],\n",
       "       [92, 21, 67, 85, 17, 91, 36, 90, 22, 92]])"
      ]
     },
     "execution_count": 36,
     "metadata": {},
     "output_type": "execute_result"
    }
   ],
   "source": [
    "arr4 [2:7,3:7]=50\n",
    "arr4"
   ]
  },
  {
   "cell_type": "code",
   "execution_count": 37,
   "id": "7cbaf488",
   "metadata": {},
   "outputs": [
    {
     "data": {
      "text/plain": [
       "50"
      ]
     },
     "execution_count": 37,
     "metadata": {},
     "output_type": "execute_result"
    }
   ],
   "source": [
    "arr4[4,4]"
   ]
  },
  {
   "cell_type": "code",
   "execution_count": 38,
   "id": "42d4d6e8",
   "metadata": {},
   "outputs": [
    {
     "data": {
      "text/plain": [
       "array([52, 27, 87, 24, 90, 20, 94, 79, 31, 16, 91, 86, 21, 40, 65, 35, 33,\n",
       "       99, 26, 43, 44, 29, 65, 50, 50, 50, 50, 78, 76, 37, 72, 16, 15, 50,\n",
       "       50, 50, 50, 62, 87, 45, 86, 18, 85, 50, 50, 50, 50, 83, 39, 58, 91,\n",
       "       41, 67, 50, 50, 50, 50, 79, 83, 40, 22, 41, 40, 50, 50, 50, 50, 42,\n",
       "       52, 72, 98, 53, 23, 47, 49, 25, 38, 30, 40, 86, 89, 77, 61, 47, 38,\n",
       "       70, 80, 92, 18, 15, 92, 21, 67, 85, 17, 91, 36, 90, 22, 92])"
      ]
     },
     "execution_count": 38,
     "metadata": {},
     "output_type": "execute_result"
    }
   ],
   "source": [
    "arr4 = arr4.flatten()\n",
    "arr4"
   ]
  },
  {
   "cell_type": "code",
   "execution_count": 40,
   "id": "af7bf767",
   "metadata": {},
   "outputs": [
    {
     "data": {
      "text/plain": [
       "array([52, 87, 90, 94, 79, 91, 86, 65, 99, 65, 50, 50, 50, 50, 78, 76, 72,\n",
       "       50, 50, 50, 50, 62, 87, 45, 86, 85, 50, 50, 50, 50, 83, 58, 91, 67,\n",
       "       50, 50, 50, 50, 79, 83, 50, 50, 50, 50, 52, 72, 98, 53, 47, 49, 86,\n",
       "       89, 77, 61, 47, 70, 80, 92, 92, 67, 85, 91, 90, 92])"
      ]
     },
     "execution_count": 40,
     "metadata": {},
     "output_type": "execute_result"
    }
   ],
   "source": [
    "arr4[arr4 >=45]"
   ]
  },
  {
   "cell_type": "code",
   "execution_count": 41,
   "id": "1417b1b8",
   "metadata": {},
   "outputs": [
    {
     "data": {
      "text/plain": [
       "array([45])"
      ]
     },
     "execution_count": 41,
     "metadata": {},
     "output_type": "execute_result"
    }
   ],
   "source": [
    "arr4[arr4 ==45]"
   ]
  },
  {
   "cell_type": "code",
   "execution_count": 42,
   "id": "ef75380e",
   "metadata": {},
   "outputs": [
    {
     "data": {
      "text/plain": [
       "array([52, 27, 87, 24, 90, 20, 94, 79, 31, 16, 91, 86, 21, 40, 65, 35, 33,\n",
       "       99, 26, 43, 44, 29, 65, 50, 50, 50, 50, 78, 76, 37, 72, 16, 15, 50,\n",
       "       50, 50, 50, 62, 87, 86, 18, 85, 50, 50, 50, 50, 83, 39, 58, 91, 41,\n",
       "       67, 50, 50, 50, 50, 79, 83, 40, 22, 41, 40, 50, 50, 50, 50, 42, 52,\n",
       "       72, 98, 53, 23, 47, 49, 25, 38, 30, 40, 86, 89, 77, 61, 47, 38, 70,\n",
       "       80, 92, 18, 15, 92, 21, 67, 85, 17, 91, 36, 90, 22, 92])"
      ]
     },
     "execution_count": 42,
     "metadata": {},
     "output_type": "execute_result"
    }
   ],
   "source": [
    "arr4[arr4 !=45]"
   ]
  },
  {
   "cell_type": "code",
   "execution_count": 43,
   "id": "26b55a24",
   "metadata": {},
   "outputs": [
    {
     "data": {
      "text/plain": [
       "array([27, 24, 20, 31, 16, 21, 40, 35, 33, 26, 43, 44, 29, 37, 16, 15, 18,\n",
       "       39, 41, 40, 22, 41, 40, 42, 23, 25, 38, 30, 40, 38, 18, 15, 21, 17,\n",
       "       36, 22])"
      ]
     },
     "execution_count": 43,
     "metadata": {},
     "output_type": "execute_result"
    }
   ],
   "source": [
    "arr4[arr4 < 45]"
   ]
  },
  {
   "cell_type": "code",
   "execution_count": 44,
   "id": "9d23315d",
   "metadata": {},
   "outputs": [
    {
     "data": {
      "text/plain": [
       "54.13"
      ]
     },
     "execution_count": 44,
     "metadata": {},
     "output_type": "execute_result"
    }
   ],
   "source": [
    "np.mean(arr4)"
   ]
  },
  {
   "cell_type": "code",
   "execution_count": 45,
   "id": "7273a435",
   "metadata": {},
   "outputs": [
    {
     "data": {
      "text/plain": [
       "50.0"
      ]
     },
     "execution_count": 45,
     "metadata": {},
     "output_type": "execute_result"
    }
   ],
   "source": [
    "np.median(arr4)"
   ]
  },
  {
   "cell_type": "code",
   "execution_count": 46,
   "id": "7debbc3f",
   "metadata": {},
   "outputs": [
    {
     "data": {
      "text/plain": [
       "5413"
      ]
     },
     "execution_count": 46,
     "metadata": {},
     "output_type": "execute_result"
    }
   ],
   "source": [
    "np.sum(arr4)"
   ]
  },
  {
   "cell_type": "code",
   "execution_count": 47,
   "id": "8e75eee8",
   "metadata": {},
   "outputs": [
    {
     "data": {
      "text/plain": [
       "15"
      ]
     },
     "execution_count": 47,
     "metadata": {},
     "output_type": "execute_result"
    }
   ],
   "source": [
    "np.min(arr4)"
   ]
  },
  {
   "cell_type": "code",
   "execution_count": 48,
   "id": "93fa69bc",
   "metadata": {},
   "outputs": [
    {
     "data": {
      "text/plain": [
       "99"
      ]
     },
     "execution_count": 48,
     "metadata": {},
     "output_type": "execute_result"
    }
   ],
   "source": [
    "np.max(arr4)"
   ]
  },
  {
   "cell_type": "code",
   "execution_count": 49,
   "id": "e17f6fdb",
   "metadata": {},
   "outputs": [
    {
     "data": {
      "text/plain": [
       "17"
      ]
     },
     "execution_count": 49,
     "metadata": {},
     "output_type": "execute_result"
    }
   ],
   "source": [
    "np.argmax(arr4)"
   ]
  },
  {
   "cell_type": "code",
   "execution_count": 50,
   "id": "9ff4d36f",
   "metadata": {},
   "outputs": [
    {
     "data": {
      "text/plain": [
       "23.913868361266857"
      ]
     },
     "execution_count": 50,
     "metadata": {},
     "output_type": "execute_result"
    }
   ],
   "source": [
    "np.std(arr4)"
   ]
  },
  {
   "cell_type": "code",
   "execution_count": 51,
   "id": "9ba71715",
   "metadata": {},
   "outputs": [
    {
     "data": {
      "text/plain": [
       "571.8731"
      ]
     },
     "execution_count": 51,
     "metadata": {},
     "output_type": "execute_result"
    }
   ],
   "source": [
    "np.var(arr4)"
   ]
  },
  {
   "cell_type": "code",
   "execution_count": 52,
   "id": "baedeaa1",
   "metadata": {},
   "outputs": [
    {
     "data": {
      "text/plain": [
       "array([-0.16299078, -0.29213881,  0.56975033,  0.42417901, -0.44807362,\n",
       "        0.40808206,  0.96945937, -0.89597095,  0.91474236, -0.95765948,\n",
       "       -0.99436746, -0.38369844, -0.54772926, -0.66693806, -0.56245385,\n",
       "       -0.90369221, -0.01327675,  0.03982088,  0.64691932,  0.5551133 ,\n",
       "        0.99984331, -0.74805753, -0.56245385,  0.96496603,  0.96496603,\n",
       "        0.96496603,  0.96496603, -0.85780309,  0.82433133,  0.76541405,\n",
       "       -0.96725059, -0.95765948, -0.75968791,  0.96496603,  0.96496603,\n",
       "        0.96496603,  0.96496603,  0.67350716,  0.56975033,  0.52532199,\n",
       "       -0.38369844,  0.66031671, -0.98437664,  0.96496603,  0.96496603,\n",
       "        0.96496603,  0.96496603,  0.24954012,  0.26664293,  0.11918014,\n",
       "       -0.99436746, -0.98733928, -0.5177698 ,  0.96496603,  0.96496603,\n",
       "        0.96496603,  0.96496603, -0.89597095,  0.24954012, -0.66693806,\n",
       "       -0.99996083, -0.98733928, -0.66693806,  0.96496603,  0.96496603,\n",
       "        0.96496603,  0.96496603, -0.39998531, -0.16299078, -0.96725059,\n",
       "       -0.81928825, -0.91828279, -0.53283302, -0.99233547,  0.30059254,\n",
       "        0.99120281,  0.95507364,  0.15425145, -0.66693806, -0.38369844,\n",
       "        0.51017704, -0.03097503, -0.25810164, -0.99233547,  0.95507364,\n",
       "        0.6333192 , -0.11038724, -0.62644445,  0.66031671, -0.75968791,\n",
       "       -0.62644445, -0.54772926, -0.5177698 , -0.98437664, -0.27516334,\n",
       "       -0.99436746, -0.12796369, -0.44807362, -0.99996083, -0.62644445])"
      ]
     },
     "execution_count": 52,
     "metadata": {},
     "output_type": "execute_result"
    }
   ],
   "source": [
    "np.cos(arr4)"
   ]
  },
  {
   "cell_type": "code",
   "execution_count": 53,
   "id": "e9d89336",
   "metadata": {},
   "outputs": [
    {
     "data": {
      "text/plain": [
       "17"
      ]
     },
     "execution_count": 53,
     "metadata": {},
     "output_type": "execute_result"
    }
   ],
   "source": [
    "np.argmax(arr4)"
   ]
  },
  {
   "cell_type": "code",
   "execution_count": 54,
   "id": "ea6c3a0a",
   "metadata": {},
   "outputs": [
    {
     "data": {
      "text/plain": [
       "32"
      ]
     },
     "execution_count": 54,
     "metadata": {},
     "output_type": "execute_result"
    }
   ],
   "source": [
    "np.argmin(arr4)"
   ]
  },
  {
   "cell_type": "code",
   "execution_count": 55,
   "id": "7453168e",
   "metadata": {},
   "outputs": [
    {
     "data": {
      "text/plain": [
       "79.22"
      ]
     },
     "execution_count": 55,
     "metadata": {},
     "output_type": "execute_result"
    }
   ],
   "source": [
    "np.percentile(arr4,78)"
   ]
  },
  {
   "cell_type": "code",
   "execution_count": 56,
   "id": "8e8500fd",
   "metadata": {},
   "outputs": [
    {
     "data": {
      "text/plain": [
       "array([7.21110255, 5.19615242, 9.32737905, 4.89897949, 9.48683298,\n",
       "       4.47213595, 9.69535971, 8.88819442, 5.56776436, 4.        ,\n",
       "       9.53939201, 9.2736185 , 4.58257569, 6.32455532, 8.06225775,\n",
       "       5.91607978, 5.74456265, 9.94987437, 5.09901951, 6.55743852,\n",
       "       6.63324958, 5.38516481, 8.06225775, 7.07106781, 7.07106781,\n",
       "       7.07106781, 7.07106781, 8.83176087, 8.71779789, 6.08276253,\n",
       "       8.48528137, 4.        , 3.87298335, 7.07106781, 7.07106781,\n",
       "       7.07106781, 7.07106781, 7.87400787, 9.32737905, 6.70820393,\n",
       "       9.2736185 , 4.24264069, 9.21954446, 7.07106781, 7.07106781,\n",
       "       7.07106781, 7.07106781, 9.11043358, 6.244998  , 7.61577311,\n",
       "       9.53939201, 6.40312424, 8.18535277, 7.07106781, 7.07106781,\n",
       "       7.07106781, 7.07106781, 8.88819442, 9.11043358, 6.32455532,\n",
       "       4.69041576, 6.40312424, 6.32455532, 7.07106781, 7.07106781,\n",
       "       7.07106781, 7.07106781, 6.4807407 , 7.21110255, 8.48528137,\n",
       "       9.89949494, 7.28010989, 4.79583152, 6.8556546 , 7.        ,\n",
       "       5.        , 6.164414  , 5.47722558, 6.32455532, 9.2736185 ,\n",
       "       9.43398113, 8.77496439, 7.81024968, 6.8556546 , 6.164414  ,\n",
       "       8.36660027, 8.94427191, 9.59166305, 4.24264069, 3.87298335,\n",
       "       9.59166305, 4.58257569, 8.18535277, 9.21954446, 4.12310563,\n",
       "       9.53939201, 6.        , 9.48683298, 4.69041576, 9.59166305])"
      ]
     },
     "execution_count": 56,
     "metadata": {},
     "output_type": "execute_result"
    }
   ],
   "source": [
    "np.sqrt(arr4)"
   ]
  },
  {
   "cell_type": "markdown",
   "id": "13330ac3",
   "metadata": {},
   "source": [
    "# Exercise\n",
    "# GENERATE AN ARRAY CONSISTING OF 120 VALUES USING SEED NUMBER 5\n",
    "# RESHAPE THE ARRAY TO 2D OF 12 ROWS AND 10 COLUMNS\n",
    "# SELECT THE VALUES FROM 5 TO 8 ON THE ROW AND 4 TO 6 ON THE COLUMN\n",
    "# BROADCAST 32 ALL OVER THE SELECTED VALUE\n",
    "# FIND THE MEAN, MEDIAN,(25,75,85 PERCENTILE)"
   ]
  },
  {
   "cell_type": "code",
   "execution_count": 61,
   "id": "bd6076d9",
   "metadata": {},
   "outputs": [
    {
     "data": {
      "text/plain": [
       "array([  1,   2,   3,   4,   5,   6,   7,   8,   9,  10,  11,  12,  13,\n",
       "        14,  15,  16,  17,  18,  19,  20,  21,  22,  23,  24,  25,  26,\n",
       "        27,  28,  29,  30,  31,  32,  33,  34,  35,  36,  37,  38,  39,\n",
       "        40,  41,  42,  43,  44,  45,  46,  47,  48,  49,  50,  51,  52,\n",
       "        53,  54,  55,  56,  57,  58,  59,  60,  61,  62,  63,  64,  65,\n",
       "        66,  67,  68,  69,  70,  71,  72,  73,  74,  75,  76,  77,  78,\n",
       "        79,  80,  81,  82,  83,  84,  85,  86,  87,  88,  89,  90,  91,\n",
       "        92,  93,  94,  95,  96,  97,  98,  99, 100, 101, 102, 103, 104,\n",
       "       105, 106, 107, 108, 109, 110, 111, 112, 113, 114, 115, 116, 117,\n",
       "       118, 119, 120])"
      ]
     },
     "execution_count": 61,
     "metadata": {},
     "output_type": "execute_result"
    }
   ],
   "source": [
    "arr5 = np. arange(1,121)\n",
    "arr5"
   ]
  },
  {
   "cell_type": "code",
   "execution_count": 62,
   "id": "29e5aca4",
   "metadata": {},
   "outputs": [
    {
     "data": {
      "text/plain": [
       "array([ 82,  57, 117,  54, 120,  50, 109,  61,  46, 121, 116,  51,  70,\n",
       "        95,  65,  63,  56,  73,  74,  59,  95, 113,  58,  54,  52, 108,\n",
       "       106,  67, 102,  46,  45, 105,  53,  58,  92, 117,  75, 116,  48,\n",
       "       115,  66,  94, 102,  48, 113,  69,  88, 121,  71,  97,  86,  60,\n",
       "       109, 113,  70,  52,  71,  70,  67,  54, 112,  68,  72,  82, 102,\n",
       "        83,  53,  77,  79,  55,  68,  60,  70, 116, 119, 107,  91,  77,\n",
       "        68, 100, 110, 122,  48,  45, 122,  51,  97, 115,  47, 121,  66,\n",
       "       120,  52, 122, 117, 120, 121,  88,  65,  75,  81,  52,  90, 113,\n",
       "       102,  58,  55,  68,  52,  69, 119,  65,  77,  57, 110, 105,  69,\n",
       "        47,  55,  99])"
      ]
     },
     "execution_count": 62,
     "metadata": {},
     "output_type": "execute_result"
    }
   ],
   "source": [
    "np.random.seed(1)\n",
    "arr5 = np.random.randint(45,124,120)\n",
    "arr5"
   ]
  },
  {
   "cell_type": "code",
   "execution_count": 64,
   "id": "6a332d64",
   "metadata": {},
   "outputs": [
    {
     "data": {
      "text/plain": [
       "array([[ 82,  57, 117,  54, 120,  50, 109,  61,  46, 121, 116,  51],\n",
       "       [ 70,  95,  65,  63,  56,  73,  74,  59,  95, 113,  58,  54],\n",
       "       [ 52, 108, 106,  67, 102,  46,  45, 105,  53,  58,  92, 117],\n",
       "       [ 75, 116,  48, 115,  66,  94, 102,  48, 113,  69,  88, 121],\n",
       "       [ 71,  97,  86,  60, 109, 113,  70,  52,  71,  70,  67,  54],\n",
       "       [112,  68,  72,  82, 102,  83,  53,  77,  79,  55,  68,  60],\n",
       "       [ 70, 116, 119, 107,  91,  77,  68, 100, 110, 122,  48,  45],\n",
       "       [122,  51,  97, 115,  47, 121,  66, 120,  52, 122, 117, 120],\n",
       "       [121,  88,  65,  75,  81,  52,  90, 113, 102,  58,  55,  68],\n",
       "       [ 52,  69, 119,  65,  77,  57, 110, 105,  69,  47,  55,  99]])"
      ]
     },
     "execution_count": 64,
     "metadata": {},
     "output_type": "execute_result"
    }
   ],
   "source": [
    "arr5 =arr5.reshape(10,12)\n",
    "arr5"
   ]
  },
  {
   "cell_type": "code",
   "execution_count": 65,
   "id": "e7e82ec9",
   "metadata": {
    "scrolled": true
   },
   "outputs": [
    {
     "data": {
      "text/plain": [
       "array([[ 82,  57, 117,  54, 120,  50, 109,  61,  46, 121, 116,  51],\n",
       "       [ 70,  95,  65,  63,  56,  73,  74,  59,  95, 113,  58,  54],\n",
       "       [ 52, 108, 106,  67, 102,  46,  45, 105,  53,  58,  92, 117],\n",
       "       [ 75, 116,  48, 115,  66,  94, 102,  48, 113,  69,  88, 121],\n",
       "       [ 71,  97,  86,  60, 109, 113,  70,  52,  71,  70,  67,  54],\n",
       "       [112,  68,  72,  82, 102,  83,  53,  77,  79,  55,  68,  60],\n",
       "       [ 70, 116, 119, 107,  91,  77,  68, 100, 110, 122,  48,  45],\n",
       "       [122,  51,  97, 115,  47, 121,  66, 120,  52, 122, 117, 120],\n",
       "       [121,  88,  65,  75,  81,  52,  90, 113, 102,  58,  55,  68],\n",
       "       [ 52,  69, 119,  65,  77,  57, 110, 105,  69,  47,  55,  99]])"
      ]
     },
     "execution_count": 65,
     "metadata": {},
     "output_type": "execute_result"
    }
   ],
   "source": [
    "arr5 [5:8,4:6]\n",
    "arr5"
   ]
  },
  {
   "cell_type": "code",
   "execution_count": 66,
   "id": "bc357d36",
   "metadata": {},
   "outputs": [
    {
     "data": {
      "text/plain": [
       "array([[ 82,  57, 117,  54, 120,  50, 109,  61,  46, 121, 116,  51],\n",
       "       [ 70,  95,  65,  63,  56,  73,  74,  59,  95, 113,  58,  54],\n",
       "       [ 52, 108, 106,  67, 102,  46,  45, 105,  53,  58,  92, 117],\n",
       "       [ 75, 116,  48, 115,  66,  94, 102,  48, 113,  69,  88, 121],\n",
       "       [ 71,  97,  86,  60, 109, 113,  70,  52,  71,  70,  67,  54],\n",
       "       [112,  68,  72,  82,  32,  32,  53,  77,  79,  55,  68,  60],\n",
       "       [ 70, 116, 119, 107,  32,  32,  68, 100, 110, 122,  48,  45],\n",
       "       [122,  51,  97, 115,  32,  32,  66, 120,  52, 122, 117, 120],\n",
       "       [121,  88,  65,  75,  81,  52,  90, 113, 102,  58,  55,  68],\n",
       "       [ 52,  69, 119,  65,  77,  57, 110, 105,  69,  47,  55,  99]])"
      ]
     },
     "execution_count": 66,
     "metadata": {},
     "output_type": "execute_result"
    }
   ],
   "source": [
    "arr5 [5:8,4:6]=32\n",
    "arr5"
   ]
  },
  {
   "cell_type": "code",
   "execution_count": 67,
   "id": "e6eb2377",
   "metadata": {},
   "outputs": [
    {
     "data": {
      "text/plain": [
       "25.0"
      ]
     },
     "execution_count": 67,
     "metadata": {},
     "output_type": "execute_result"
    }
   ],
   "source": [
    "np.mean(25)"
   ]
  },
  {
   "cell_type": "code",
   "execution_count": 68,
   "id": "a267a379",
   "metadata": {},
   "outputs": [
    {
     "data": {
      "text/plain": [
       "75.0"
      ]
     },
     "execution_count": 68,
     "metadata": {},
     "output_type": "execute_result"
    }
   ],
   "source": [
    "np.median(75)"
   ]
  },
  {
   "cell_type": "code",
   "execution_count": 71,
   "id": "4b9c0735",
   "metadata": {},
   "outputs": [
    {
     "data": {
      "text/plain": [
       "55.75"
      ]
     },
     "execution_count": 71,
     "metadata": {},
     "output_type": "execute_result"
    }
   ],
   "source": [
    "np.percentile(arr5,25)"
   ]
  },
  {
   "cell_type": "code",
   "execution_count": 72,
   "id": "6948070d",
   "metadata": {},
   "outputs": [
    {
     "data": {
      "text/plain": [
       "106.25"
      ]
     },
     "execution_count": 72,
     "metadata": {},
     "output_type": "execute_result"
    }
   ],
   "source": [
    "np.percentile(arr5,75)"
   ]
  },
  {
   "cell_type": "code",
   "execution_count": 73,
   "id": "275a609a",
   "metadata": {},
   "outputs": [
    {
     "data": {
      "text/plain": [
       "115.0"
      ]
     },
     "execution_count": 73,
     "metadata": {},
     "output_type": "execute_result"
    }
   ],
   "source": [
    "np.percentile(arr5,85)"
   ]
  },
  {
   "cell_type": "code",
   "execution_count": null,
   "id": "d291f7cd",
   "metadata": {},
   "outputs": [],
   "source": []
  }
 ],
 "metadata": {
  "kernelspec": {
   "display_name": "Python 3 (ipykernel)",
   "language": "python",
   "name": "python3"
  },
  "language_info": {
   "codemirror_mode": {
    "name": "ipython",
    "version": 3
   },
   "file_extension": ".py",
   "mimetype": "text/x-python",
   "name": "python",
   "nbconvert_exporter": "python",
   "pygments_lexer": "ipython3",
   "version": "3.11.5"
  }
 },
 "nbformat": 4,
 "nbformat_minor": 5
}
