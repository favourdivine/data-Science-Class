{
 "cells": [
  {
   "cell_type": "code",
   "execution_count": null,
   "id": "ea24bb9f",
   "metadata": {},
   "outputs": [],
   "source": [
    "USING A FUNCTION, WRITE A PROGRAM TO CALCULATE THE TOTAL COST OF A CUSTOMER'S PURCHASE, INCLUDING DISCOUNTS AND SALES TAX?\n",
    "IF THE CUSTOMER PURCHASE IS ABOVE 500000 YOU GIVE DISCOUNT\n",
    "SOUTH SOUTH 15%\n",
    "SOUTH EAST 10%\n",
    "SOUTH WEST 8%\n",
    "NORTH EAST 12%\n",
    "NORTH WEST 11%\n",
    "NORTH CENTRAL 6%\n",
    "THE VA5T IS SLATED AT 3.5%"
   ]
  },
  {
   "cell_type": "code",
   "execution_count": 10,
   "id": "c99ba28b",
   "metadata": {},
   "outputs": [
    {
     "name": "stdout",
     "output_type": "stream",
     "text": [
      "How much do you wnat to purchase900000\n",
      "what is your region:North central\n",
      "______purchase list______\n",
      "PURCHASE AMOUNT: 900000.0\n",
      "Discount:99000.0\n",
      "VAT:31500.000000000004\n",
      "Total amount including vat :832500.0\n",
      "        \n"
     ]
    }
   ],
   "source": [
    "def broadcast():\n",
    "    Purchase= float(input('How much do you wnat to purchase'))\n",
    "    Region= input('what is your region:')\n",
    "    if Purchase >= 500000 and Region == 'South south':\n",
    "        print(f'''________PURCHASE LIST_______\n",
    "PURCHASE AMOUNT:{Purchase}\n",
    "Discount:{Purchase * 0.15}\n",
    "VAT:{Purchase * 0.035}\n",
    "Total amount including vat :{Purchase + (Purchase * 0.035) - (Purchase * 0.15)} \n",
    "''')\n",
    "    elif Purchase >= 500000 and Region =='South east':\n",
    "        print(f'''________PURCHASE LIST_______\n",
    "PURCHASE AMOUNT:{Purchase}\n",
    "Discount:{Purchase * 0.10}\n",
    "VAT:{Purchase * 0.035}\n",
    "Total amount including vat :{Purchase + (Purchase * 0.035) - (Purchase * 0.10)} \n",
    "''')\n",
    "    elif Purchase >= 500000 and Region == 'South west':\n",
    "        print(f'''________PURCHASE LIST_______\n",
    "PURCHASE AMOUNT:{Purchase}\n",
    "Discount:{Purchase * 0.08}\n",
    "VAT:{Purchase * 0.035}\n",
    "Total amount including vat :{purchase + (Purchase * 0.035) - (Purchase * 0.08)} \n",
    "''')\n",
    "    elif Purchase >= 500000 and Region == 'North west':\n",
    "        print(f'''________PURCHASE LIST_______\n",
    "PURCHASE AMOUNT:{Purchase}\n",
    "Discount:{Purchase * 0.12}\n",
    "VAT:{Purchase * 0.035}\n",
    "Total amount including vat :{Purchase + (Purchase * 0.035) - (Purchase * 0.12)} \n",
    "''')\n",
    "    elif Purchase >= 500000 and Region == 'North central':\n",
    "        print(f'''______purchase list______\n",
    "PURCHASE AMOUNT: {Purchase}\n",
    "Discount:{Purchase * 0.11}\n",
    "VAT:{Purchase * 0.035}\n",
    "Total amount including vat :{Purchase+(Purchase * 0.035) - (Purchase * 0.11)}\n",
    "        ''')\n",
    "broadcast()"
   ]
  },
  {
   "cell_type": "markdown",
   "id": "9a9b0afc",
   "metadata": {},
   "source": [
    "## FOR LOOP\n",
    "## You want to calculate the sum of numbers from 1 to 5. Instead of adding them manually, you can use a loop."
   ]
  },
  {
   "cell_type": "code",
   "execution_count": 4,
   "id": "b353dbb3",
   "metadata": {},
   "outputs": [
    {
     "name": "stdout",
     "output_type": "stream",
     "text": [
      "The sum of numbers of the number selected is 15\n"
     ]
    }
   ],
   "source": [
    "Sum_of_numbers=0\n",
    "for numbers in range(1,6):\n",
    "    Sum_of_numbers += numbers\n",
    "print(\"The sum of numbers of the number selected is\",Sum_of_numbers)"
   ]
  },
  {
   "cell_type": "code",
   "execution_count": 5,
   "id": "2b11f595",
   "metadata": {},
   "outputs": [],
   "source": [
    "### THEY ARE DIFFERENT TYPE OF FOR LOOPS AVAILABLE IN PYTHON."
   ]
  },
  {
   "cell_type": "code",
   "execution_count": 6,
   "id": "47dae7b4",
   "metadata": {},
   "outputs": [],
   "source": [
    "## RANGE LOOP "
   ]
  },
  {
   "cell_type": "code",
   "execution_count": 7,
   "id": "d554143c",
   "metadata": {},
   "outputs": [],
   "source": [
    "## ITERATING OVER A LOOP  "
   ]
  },
  {
   "cell_type": "code",
   "execution_count": 8,
   "id": "2b213fda",
   "metadata": {},
   "outputs": [],
   "source": [
    "## WHILE LOOP "
   ]
  },
  {
   "cell_type": "code",
   "execution_count": 17,
   "id": "e242ef78",
   "metadata": {},
   "outputs": [
    {
     "name": "stdout",
     "output_type": "stream",
     "text": [
      "1\n",
      "2\n",
      "3\n",
      "4\n",
      "5\n"
     ]
    }
   ],
   "source": [
    "## RANGE LOOP\n",
    "for i in range(1,6):\n",
    "        print(i)"
   ]
  },
  {
   "cell_type": "code",
   "execution_count": 19,
   "id": "7bc2aa58",
   "metadata": {},
   "outputs": [
    {
     "name": "stdout",
     "output_type": "stream",
     "text": [
      "banana\n",
      "mango\n",
      "oranges\n",
      "pineapples\n"
     ]
    }
   ],
   "source": [
    "## ITERATING OVER A LOOP\n",
    "Fruits=['banana','mango','oranges','pineapples']\n",
    "for fruit in Fruits:\n",
    "    print(fruit)"
   ]
  },
  {
   "cell_type": "code",
   "execution_count": 24,
   "id": "1e145eab",
   "metadata": {},
   "outputs": [
    {
     "name": "stdout",
     "output_type": "stream",
     "text": [
      "1\n",
      "2\n",
      "3\n",
      "4\n",
      "5\n",
      "6\n",
      "7\n",
      "8\n"
     ]
    }
   ],
   "source": [
    "## While loops\n",
    "number=1\n",
    "while number <9:\n",
    "    print(number)\n",
    "    number += 1"
   ]
  },
  {
   "cell_type": "markdown",
   "id": "852c5ff4",
   "metadata": {},
   "source": [
    "## loop control statement"
   ]
  },
  {
   "cell_type": "code",
   "execution_count": 31,
   "id": "3ced6be8",
   "metadata": {},
   "outputs": [
    {
     "name": "stdout",
     "output_type": "stream",
     "text": [
      "1\n",
      "2\n",
      "3\n",
      "4\n"
     ]
    }
   ],
   "source": [
    "for i in range(1,10):\n",
    "    if i== 5:\n",
    "        break\n",
    "    print(i)"
   ]
  },
  {
   "cell_type": "code",
   "execution_count": 46,
   "id": "6ed55251",
   "metadata": {},
   "outputs": [
    {
     "name": "stdout",
     "output_type": "stream",
     "text": [
      "5\n",
      "5\n",
      "5\n",
      "5\n"
     ]
    }
   ],
   "source": [
    "## USING BREAK TO STOP A LOOP\n",
    "for u in range(1,10):\n",
    "    if u == 5:\n",
    "        break\n",
    "    print(i)"
   ]
  },
  {
   "cell_type": "code",
   "execution_count": 48,
   "id": "35744492",
   "metadata": {},
   "outputs": [
    {
     "name": "stdout",
     "output_type": "stream",
     "text": [
      "1\n",
      "2\n",
      "4\n",
      "5\n"
     ]
    }
   ],
   "source": [
    "## USING CONTINUE TO SKIP AN INTERATION\n",
    "for i in range(1,6):\n",
    "    if i == 3:\n",
    "        continue ## THIS SKIPS THE NUMBER 3\n",
    "    print(i)"
   ]
  },
  {
   "cell_type": "code",
   "execution_count": 52,
   "id": "8026a5e3",
   "metadata": {},
   "outputs": [
    {
     "name": "stdout",
     "output_type": "stream",
     "text": [
      "1\t2\t3\t4\t5\t2\t4\t6\t8\t10\t3\t6\t9\t12\t15\t4\t8\t12\t16\t20\t5\t10\t15\t20\t25\t"
     ]
    }
   ],
   "source": [
    "### NESTED LOOPS\n",
    "for i in range(1,6):\n",
    "    for j in range(1,6):\n",
    "        print(i*j, end=\"\\t\")## end=\"\\t\" to separate each printed result with a tab character instead of a newline.   "
   ]
  },
  {
   "cell_type": "markdown",
   "id": "7b7ab962",
   "metadata": {},
   "source": [
    "##### looping in word\n",
    "word=\"python\"\n",
    "for letter in word:\n",
    "    print(letter)"
   ]
  },
  {
   "cell_type": "code",
   "execution_count": 55,
   "id": "09d3e470",
   "metadata": {},
   "outputs": [
    {
     "name": "stdout",
     "output_type": "stream",
     "text": [
      "Name : David\n",
      "Age : 45\n",
      "City : Abuaj\n",
      "Town : Bwari\n"
     ]
    }
   ],
   "source": [
    "## looping through dictionary \n",
    "person={\"Name\":\"David\",\"Age\":\"45\",\"City\":\"Abuaj\",\"Town\":\"Bwari\"}\n",
    "for key,value in person.items():## The .items() method is used to get a sequence of key-value pairs from the dictionary.\n",
    "    print(key,\":\",value)## Inside the loop, you print each key-value pair. key represents the current key, and value represents the corresponding value. By printing them with a colon in between (\" : \"), you format the output to display each attribute and its associated information."
   ]
  },
  {
   "cell_type": "code",
   "execution_count": 56,
   "id": "0e0fee99",
   "metadata": {},
   "outputs": [
    {
     "name": "stdout",
     "output_type": "stream",
     "text": [
      "1\n",
      "2\n",
      "3\n",
      "4\n",
      "5\n"
     ]
    }
   ],
   "source": [
    "for i in range(1,6):\n",
    "    print(i)"
   ]
  },
  {
   "cell_type": "code",
   "execution_count": 57,
   "id": "0d147a84",
   "metadata": {},
   "outputs": [],
   "source": [
    "## 3. Looping with Enumerate"
   ]
  },
  {
   "cell_type": "code",
   "execution_count": 65,
   "id": "6e543c0b",
   "metadata": {},
   "outputs": [
    {
     "name": "stdout",
     "output_type": "stream",
     "text": [
      "Index 0:banana\n",
      "Index 1:apples\n",
      "Index 2:cherry\n",
      "Index 3:oranges\n"
     ]
    }
   ],
   "source": [
    "Fruits=[\"banana\",\"apples\",\"cherry\",\"oranges\"]\n",
    "for index, fruit in enumerate(Fruits):\n",
    "    print(f\"Index {index}:{fruit}\")"
   ]
  },
  {
   "cell_type": "code",
   "execution_count": 66,
   "id": "b55f7022",
   "metadata": {
    "collapsed": true
   },
   "outputs": [
    {
     "name": "stdout",
     "output_type": "stream",
     "text": [
      "$ $ \n",
      "$ $ $ \n",
      "$ $ $ $ \n",
      "$ $ $ $ $ \n",
      "$ $ $ $ $ $ \n",
      "$ $ $ $ $ $ $ \n",
      "$ $ $ $ $ $ $ $ \n",
      "$ $ $ $ $ $ $ $ $ \n",
      "$ $ $ $ $ $ $ $ $ $ \n"
     ]
    }
   ],
   "source": [
    "for i in range(1,10):\n",
    "    for j in range(i+1):\n",
    "        print(\"$\",end=\" \") ### this used in creating a shape in python \n",
    "    print()"
   ]
  },
  {
   "cell_type": "code",
   "execution_count": 70,
   "id": "88ab50c1",
   "metadata": {},
   "outputs": [
    {
     "name": "stdout",
     "output_type": "stream",
     "text": [
      "1*12=12\t\n",
      "2*12=24\t\n",
      "3*12=36\t\n",
      "4*12=48\t\n",
      "5*12=60\t\n",
      "6*12=72\t\n",
      "7*12=84\t\n",
      "8*12=96\t\n",
      "9*12=108\t\n",
      "10*12=120\t\n",
      "11*12=132\t\n",
      "12*12=144\t\n"
     ]
    }
   ],
   "source": [
    "### let make a mutiplication table of \n",
    "for i in range(1,13):\n",
    "    for j in range(1,13):\n",
    "        result=i * j\n",
    "    print(f\"{i}*{j}={result}\",end=\"\\t\") \n",
    "    print()"
   ]
  },
  {
   "cell_type": "code",
   "execution_count": 78,
   "id": "0d3ea9ef",
   "metadata": {},
   "outputs": [
    {
     "name": "stdout",
     "output_type": "stream",
     "text": [
      "12 * 1= 12\n",
      "\n",
      "12 * 2= 24\n",
      "\n",
      "12 * 3= 36\n",
      "\n",
      "12 * 4= 48\n",
      "\n",
      "12 * 5= 60\n",
      "\n",
      "12 * 6= 72\n",
      "\n",
      "12 * 7= 84\n",
      "\n",
      "12 * 8= 96\n",
      "\n",
      "12 * 9= 108\n",
      "\n",
      "12 * 10= 120\n",
      "\n"
     ]
    }
   ],
   "source": [
    "numbers=12\n",
    "for i in range(1,11):\n",
    "    result= numbers * i\n",
    "    print(f\"{numbers} * {i}= {result}\")\n",
    "    print()"
   ]
  },
  {
   "cell_type": "markdown",
   "id": "3898a501",
   "metadata": {},
   "source": [
    "## Processing Multidimensional Data\n"
   ]
  },
  {
   "cell_type": "code",
   "execution_count": 85,
   "id": "592d78f6",
   "metadata": {},
   "outputs": [
    {
     "ename": "NameError",
     "evalue": "name 'matrix' is not defined",
     "output_type": "error",
     "traceback": [
      "\u001b[1;31m---------------------------------------------------------------------------\u001b[0m",
      "\u001b[1;31mNameError\u001b[0m                                 Traceback (most recent call last)",
      "Cell \u001b[1;32mIn[85], line 3\u001b[0m\n\u001b[0;32m      1\u001b[0m Row\u001b[38;5;241m=\u001b[39m [[\u001b[38;5;241m1\u001b[39m,\u001b[38;5;241m2\u001b[39m,\u001b[38;5;241m3\u001b[39m],[\u001b[38;5;241m3\u001b[39m,\u001b[38;5;241m10\u001b[39m,\u001b[38;5;241m12\u001b[39m],[\u001b[38;5;241m15\u001b[39m,\u001b[38;5;241m16\u001b[39m,\u001b[38;5;241m18\u001b[39m]]\n\u001b[1;32m----> 3\u001b[0m \u001b[38;5;28;01mfor\u001b[39;00m row \u001b[38;5;129;01min\u001b[39;00m matrix:\n\u001b[0;32m      4\u001b[0m     \u001b[38;5;28;01mfor\u001b[39;00m element \u001b[38;5;129;01min\u001b[39;00m Row:\n\u001b[0;32m      5\u001b[0m         \u001b[38;5;28mprint\u001b[39m(element,end\u001b[38;5;241m=\u001b[39m\u001b[38;5;124m\"\u001b[39m\u001b[38;5;124m\"\u001b[39m)\n",
      "\u001b[1;31mNameError\u001b[0m: name 'matrix' is not defined"
     ]
    }
   ],
   "source": [
    "Row= [[1,2,3],[3,10,12],[15,16,18]]\n",
    "\n",
    "for row in matrix:\n",
    "    for element in Row:\n",
    "        print(element,end=\"\")\n",
    "    print()    "
   ]
  },
  {
   "cell_type": "code",
   "execution_count": 89,
   "id": "b3024dca",
   "metadata": {},
   "outputs": [
    {
     "name": "stdout",
     "output_type": "stream",
     "text": [
      " ['Alice', 'Bob', 'David', 'Rita'] : [85, 80, 90, 23]\n",
      " ['Alice', 'Bob', 'David', 'Rita'] : [85, 80, 90, 23]\n"
     ]
    }
   ],
   "source": [
    "## using zips in looping\n",
    "names=[\"Alice\",\"Bob\",\"David\",\"Rita\"]\n",
    "score=[85,80,90,23]\n",
    "for i in names,score in zip(names, score):\n",
    "    print(f\" {names} : {score}\")"
   ]
  },
  {
   "cell_type": "code",
   "execution_count": null,
   "id": "fd6c2bc1",
   "metadata": {},
   "outputs": [],
   "source": [
    "## infinite loops \n",
    "## IS JUST SOMETHING THAT IS JUST IN A CONTINOUS LOOP"
   ]
  },
  {
   "cell_type": "code",
   "execution_count": 91,
   "id": "921e0cea",
   "metadata": {},
   "outputs": [
    {
     "name": "stdout",
     "output_type": "stream",
     "text": [
      "Number 6 was found in the list\n"
     ]
    }
   ],
   "source": [
    "## LOOP WITH ELSE\n",
    "numbers= [1,15,12,89,20,26,16,25,45]\n",
    "\n",
    "for num in numbers:\n",
    "    if num == 12:\n",
    "        print(\"Number 12 was found in the list\")\n",
    "        break\n",
    "else:\n",
    "    print(f\"Number 12 was not found in the list\")\n",
    "    "
   ]
  },
  {
   "cell_type": "markdown",
   "id": "8750f3e6",
   "metadata": {},
   "source": [
    "## while loops "
   ]
  },
  {
   "cell_type": "code",
   "execution_count": 92,
   "id": "3c96de58",
   "metadata": {},
   "outputs": [
    {
     "name": "stdout",
     "output_type": "stream",
     "text": [
      "1\n",
      "2\n",
      "3\n",
      "4\n",
      "5\n",
      "6\n",
      "7\n"
     ]
    }
   ],
   "source": [
    "count = 1\n",
    "while count <= 7:\n",
    "    print(count)\n",
    "    count += 1"
   ]
  },
  {
   "cell_type": "markdown",
   "id": "99993b9f",
   "metadata": {},
   "source": [
    "## count down in while loops"
   ]
  },
  {
   "cell_type": "code",
   "execution_count": 93,
   "id": "4f0e6089",
   "metadata": {},
   "outputs": [
    {
     "name": "stdout",
     "output_type": "stream",
     "text": [
      "5\n",
      "4\n",
      "3\n",
      "2\n",
      "1\n",
      "Blast off\n"
     ]
    }
   ],
   "source": [
    "count = 5\n",
    "while count > 0:\n",
    "    print(count)\n",
    "    count -= 1\n",
    "print(\"Blast off\")    "
   ]
  },
  {
   "cell_type": "markdown",
   "id": "13584a8d",
   "metadata": {},
   "source": [
    "## User Input Validation:"
   ]
  },
  {
   "cell_type": "code",
   "execution_count": 96,
   "id": "82bf64de",
   "metadata": {},
   "outputs": [
    {
     "name": "stdout",
     "output_type": "stream",
     "text": [
      "Do you want to continue yes/No:no\n",
      "Do you want to continue yes/No:no\n",
      "Do you want to continue yes/No:yes\n",
      "continuing\n"
     ]
    }
   ],
   "source": [
    "input_user = \"\"\n",
    "while input_user.lower() != \"yes\":\n",
    "    input_user=input('Do you want to continue yes/No:')\n",
    "print(\"continuing\")    "
   ]
  },
  {
   "cell_type": "markdown",
   "id": "8e0bcbb2",
   "metadata": {},
   "source": [
    "## sum of numbers"
   ]
  },
  {
   "cell_type": "code",
   "execution_count": 99,
   "id": "babe7a58",
   "metadata": {},
   "outputs": [
    {
     "name": "stdout",
     "output_type": "stream",
     "text": [
      "The sum of number from 1 to 10 is: 55\n"
     ]
    }
   ],
   "source": [
    "total = 0\n",
    "numbers= 1\n",
    "while numbers <= 10:\n",
    "    total += numbers\n",
    "    numbers += 1\n",
    "print(\"The sum of number from 1 to 10 is:\",total)    "
   ]
  },
  {
   "cell_type": "markdown",
   "id": "d18b65bc",
   "metadata": {},
   "source": [
    "## Password Validation"
   ]
  },
  {
   "cell_type": "code",
   "execution_count": 101,
   "id": "1b931e63",
   "metadata": {},
   "outputs": [
    {
     "name": "stdout",
     "output_type": "stream",
     "text": [
      "what is your passsword:kelvin\n",
      "what is your passsword:kelvin\n",
      "what is your passsword:python\n",
      "Access granted\n"
     ]
    }
   ],
   "source": [
    "input_user=\" \"\n",
    "while input_user != \"python\":\n",
    "    input_user= input(\"what is your passsword:\")\n",
    "print(\"Access granted\")"
   ]
  },
  {
   "cell_type": "code",
   "execution_count": null,
   "id": "1784ff42",
   "metadata": {},
   "outputs": [],
   "source": [
    "#### Question:\n",
    "\n",
    "### Write a Python program that repeatedly asks the user to guess a secret number between 1 and 10. \n",
    "### Keep prompting the user until they guess the correct number. Once they guess it correctly, \n",
    "### print \"Congratulations, you guessed the secret number!\" and exit the loop.\n",
    "\n",
    "### You can use a while loop for this task."
   ]
  },
  {
   "cell_type": "code",
   "execution_count": 107,
   "id": "25d9df12",
   "metadata": {},
   "outputs": [
    {
     "name": "stdout",
     "output_type": "stream",
     "text": [
      "what is the secret number:78\n",
      "what is the secret number:90\n",
      "Congratulation,you guessed the secret number\n"
     ]
    }
   ],
   "source": [
    "secret_number= \" \"\n",
    "while secret_number != \"90\":\n",
    "    secret_number= input(\"what is the secret number:\")\n",
    "print(\"Congratulation,you guessed the secret number\")    "
   ]
  },
  {
   "cell_type": "code",
   "execution_count": null,
   "id": "b176c17a",
   "metadata": {},
   "outputs": [],
   "source": [
    "## Question:\n",
    "\n",
    "### Write a Python program that simulates a simple guessing game. The program should generate \n",
    "### a random number between 1 and 100 (inclusive) and then repeatedly ask the user to guess the number. \n",
    "### After each guess, the program should provide feedback on whether the guess is too high, too low, or correct. \n",
    "## The program should continue until the user guesses the correct number. Additionally,\n",
    "### count and display the number of attempts it took the user to guess the correct number."
   ]
  },
  {
   "cell_type": "code",
   "execution_count": 113,
   "id": "913fff4f",
   "metadata": {},
   "outputs": [
    {
     "name": "stdout",
     "output_type": "stream",
     "text": [
      "what is your guessed number:90\n",
      "Guess is too low\n",
      "what is your guessed number:89\n",
      "Guess is too low\n",
      "what is your guessed number:95\n",
      "Guess is too low\n",
      "what is your guessed number:98\n",
      "Guess is too high\n",
      "what is your guessed number:97\n",
      "Congratulation you have won the Guess\n"
     ]
    }
   ],
   "source": [
    "import random\n",
    "secret_number = random.randint(1,100)\n",
    "attempt = 0\n",
    "while True:\n",
    "    user_guess= int(input(\"what is your guessed number:\"))\n",
    "    attempt += 1\n",
    "    if user_guess == secret_number:\n",
    "        print(\"Congratulation you have won the Guess\")\n",
    "        break\n",
    "    elif user_guess < secret_number:\n",
    "        print(\"Guess is too low\")\n",
    "    \n",
    "    else:\n",
    "        print(\"Guess is too high\")"
   ]
  },
  {
   "cell_type": "code",
   "execution_count": 129,
   "id": "d1d1dcca",
   "metadata": {},
   "outputs": [
    {
     "name": "stdout",
     "output_type": "stream",
     "text": [
      "what is the secret number between {min_value} and {max_value} or click on the option {quit} to end the Game:59\n",
      "The number is too high\n",
      "what is the secret number between {min_value} and {max_value} or click on the option {quit} to end the Game:57\n",
      "The number is too high\n",
      "what is the secret number between {min_value} and {max_value} or click on the option {quit} to end the Game:40\n",
      "The number is too high\n",
      "what is the secret number between {min_value} and {max_value} or click on the option {quit} to end the Game:32\n",
      "The number is too high\n",
      "what is the secret number between {min_value} and {max_value} or click on the option {quit} to end the Game:28\n",
      "The number is too high\n",
      "what is the secret number between {min_value} and {max_value} or click on the option {quit} to end the Game:25\n",
      "The number is too high\n",
      "what is the secret number between {min_value} and {max_value} or click on the option {quit} to end the Game:20\n",
      "The number is too low\n",
      "what is the secret number between {min_value} and {max_value} or click on the option {quit} to end the Game:21\n",
      "The number is too low\n",
      "what is the secret number between {min_value} and {max_value} or click on the option {quit} to end the Game:24\n",
      "Congratulation you have Guessed the number:\n"
     ]
    }
   ],
   "source": [
    "##### min_value=1\n",
    "max_value=100\n",
    "secret_number= random.randint(min_value,max_value)\n",
    "attempts = 0\n",
    "while True:\n",
    "    user_guess= int(input(\"what is the secret number between {min_value} and {max_value} or click on the option {quit} to end the Game:\"))\n",
    "    if user_guess == \"quit\":\n",
    "        print(\"Nice Game play .. You wil get it next time\")\n",
    "        break  \n",
    "    attempts += 1    \n",
    "    if user_guess == secret_number:\n",
    "        print(\"Congratulation you have Guessed the number:\")\n",
    "        break ## This break out when all conditions are all meant.\n",
    "    elif user_guess < secret_number:\n",
    "        print(\"The number is too low\")\n",
    "    else:\n",
    "        print(\"The number is too high\")"
   ]
  },
  {
   "cell_type": "code",
   "execution_count": 136,
   "id": "9ed4e54b",
   "metadata": {},
   "outputs": [
    {
     "name": "stdout",
     "output_type": "stream",
     "text": [
      "What is your password:earlycode32\n",
      "Access granted\n"
     ]
    }
   ],
   "source": [
    "user_password=\" \"\n",
    "while user_password != \"earlycode32\":\n",
    "    user_password= input(\"What is your password:\")\n",
    "print(\"Access granted\")"
   ]
  },
  {
   "cell_type": "markdown",
   "id": "ad9f9a12",
   "metadata": {},
   "source": [
    "## Problem: Counting Vowels"
   ]
  },
  {
   "cell_type": "code",
   "execution_count": 142,
   "id": "874e8028",
   "metadata": {},
   "outputs": [
    {
     "name": "stdout",
     "output_type": "stream",
     "text": [
      "what is the vowel or {quit}:PAT\n",
      "number of vowel is:0\n",
      "what is the vowel or {quit}:BOY\n",
      "number of vowel is:0\n",
      "what is the vowel or {quit}:FAMER\n",
      "number of vowel is:0\n",
      "what is the vowel or {quit}:PAT\n",
      "number of vowel is:0\n",
      "what is the vowel or {quit}:CAREER\n",
      "number of vowel is:0\n",
      "what is the vowel or {quit}:QUIT\n"
     ]
    }
   ],
   "source": [
    "vowel_counts=0\n",
    "vowels= set[\"aeiouAEIOU\"]\n",
    "while True:\n",
    "    user_input= input(\"what is the vowel or {quit}:\")\n",
    "    if user_input.lower() == \"quit\":\n",
    "        break\n",
    "    for cha in user_input.lower():\n",
    "        if cha in vowels:\n",
    "            vowel_counts += 1\n",
    "    print(f'number of vowel is:{vowel_counts}') \n",
    "    vowel_counts=0"
   ]
  },
  {
   "cell_type": "code",
   "execution_count": null,
   "id": "55dd89a6",
   "metadata": {},
   "outputs": [],
   "source": []
  }
 ],
 "metadata": {
  "kernelspec": {
   "display_name": "Python 3 (ipykernel)",
   "language": "python",
   "name": "python3"
  },
  "language_info": {
   "codemirror_mode": {
    "name": "ipython",
    "version": 3
   },
   "file_extension": ".py",
   "mimetype": "text/x-python",
   "name": "python",
   "nbconvert_exporter": "python",
   "pygments_lexer": "ipython3",
   "version": "3.11.5"
  }
 },
 "nbformat": 4,
 "nbformat_minor": 5
}
