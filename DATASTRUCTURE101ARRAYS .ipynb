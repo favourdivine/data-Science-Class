{
 "cells": [
  {
   "cell_type": "code",
   "execution_count": 20,
   "id": "e1a13fa1",
   "metadata": {},
   "outputs": [
    {
     "name": "stdout",
     "output_type": "stream",
     "text": [
      " 0.500000\n",
      " 0.333333\n",
      "0.166667\n"
     ]
    }
   ],
   "source": [
    "def calculate_ratios(arr):\n",
    "    n = len(arr)\n",
    "    postive_counts=0\n",
    "    negative_counts=0\n",
    "    zero_counts=0\n",
    "    \n",
    "    for num in arr:\n",
    "        if num > 0 :\n",
    "            postive_counts += 1\n",
    "        elif num < 0:\n",
    "            negative_counts += 1\n",
    "        else:\n",
    "            zero_counts += 1        \n",
    "    postive_ratio=postive_counts/n\n",
    "    negative_ratio=negative_counts/n\n",
    "    zero_ratio=zero_counts/n\n",
    "    print(f'{postive_ratio: 6f}')\n",
    "    print(f'{negative_ratio: 6f}')\n",
    "    print(f'{zero_ratio:6f}')\n",
    "array = [-4, 3, -9, 0, 4, 1]\n",
    "calculate_ratios(array)"
   ]
  },
  {
   "cell_type": "code",
   "execution_count": null,
   "id": "190cefc1",
   "metadata": {},
   "outputs": [],
   "source": []
  }
 ],
 "metadata": {
  "kernelspec": {
   "display_name": "Python 3 (ipykernel)",
   "language": "python",
   "name": "python3"
  },
  "language_info": {
   "codemirror_mode": {
    "name": "ipython",
    "version": 3
   },
   "file_extension": ".py",
   "mimetype": "text/x-python",
   "name": "python",
   "nbconvert_exporter": "python",
   "pygments_lexer": "ipython3",
   "version": "3.9.12"
  }
 },
 "nbformat": 4,
 "nbformat_minor": 5
}
