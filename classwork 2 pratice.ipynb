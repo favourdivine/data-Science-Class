{
 "cells": [
  {
   "cell_type": "code",
   "execution_count": 2,
   "id": "6b691fe8",
   "metadata": {},
   "outputs": [
    {
     "name": "stdout",
     "output_type": "stream",
     "text": [
      "amout of the apples4\n",
      "total cost of apples is 2.0\n"
     ]
    }
   ],
   "source": [
    "sellingprice=0.50\n",
    "totalapples=int(input('amout of the apples'))\n",
    "costofapples=totalapples * sellingprice\n",
    "print(f'total cost of apples is {costofapples}')"
   ]
  },
  {
   "cell_type": "code",
   "execution_count": null,
   "id": "afdbe1f1",
   "metadata": {},
   "outputs": [],
   "source": []
  }
 ],
 "metadata": {
  "kernelspec": {
   "display_name": "Python 3 (ipykernel)",
   "language": "python",
   "name": "python3"
  },
  "language_info": {
   "codemirror_mode": {
    "name": "ipython",
    "version": 3
   },
   "file_extension": ".py",
   "mimetype": "text/x-python",
   "name": "python",
   "nbconvert_exporter": "python",
   "pygments_lexer": "ipython3",
   "version": "3.9.12"
  }
 },
 "nbformat": 4,
 "nbformat_minor": 5
}
