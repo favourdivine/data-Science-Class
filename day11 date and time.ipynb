{
 "cells": [
  {
   "cell_type": "markdown",
   "id": "ecbfd09d",
   "metadata": {},
   "source": [
    "## DATE AND TIME"
   ]
  },
  {
   "cell_type": "code",
   "execution_count": 1,
   "id": "781cba37",
   "metadata": {},
   "outputs": [
    {
     "name": "stdout",
     "output_type": "stream",
     "text": [
      "['MAXYEAR', 'MINYEAR', '__all__', '__builtins__', '__cached__', '__doc__', '__file__', '__loader__', '__name__', '__package__', '__spec__', 'date', 'datetime', 'datetime_CAPI', 'sys', 'time', 'timedelta', 'timezone', 'tzinfo']\n"
     ]
    }
   ],
   "source": [
    "import datetime\n",
    "print(dir(datetime))"
   ]
  },
  {
   "cell_type": "code",
   "execution_count": 2,
   "id": "57dd695b",
   "metadata": {},
   "outputs": [
    {
     "data": {
      "text/plain": [
       "datetime.date(2022, 2, 15)"
      ]
     },
     "execution_count": 2,
     "metadata": {},
     "output_type": "execute_result"
    }
   ],
   "source": [
    "date1=datetime.date(2022,2,15)\n",
    "date1    "
   ]
  },
  {
   "cell_type": "code",
   "execution_count": 3,
   "id": "d733ebc5",
   "metadata": {},
   "outputs": [
    {
     "name": "stdout",
     "output_type": "stream",
     "text": [
      "2022\n",
      "15\n",
      "2\n",
      "1\n",
      "2\n"
     ]
    }
   ],
   "source": [
    "print(date1.year)\n",
    "print(date1.day)\n",
    "print(date1.month)\n",
    "print(date1.weekday())\n",
    "print(date1.isoweekday())"
   ]
  },
  {
   "cell_type": "code",
   "execution_count": 4,
   "id": "5a25c1d7",
   "metadata": {},
   "outputs": [
    {
     "data": {
      "text/plain": [
       "datetime.date(2023, 5, 19)"
      ]
     },
     "execution_count": 4,
     "metadata": {},
     "output_type": "execute_result"
    }
   ],
   "source": [
    "currentdate = datetime.date.today()\n",
    "currentdate"
   ]
  },
  {
   "cell_type": "code",
   "execution_count": 5,
   "id": "ec6efe1f",
   "metadata": {},
   "outputs": [
    {
     "data": {
      "text/plain": [
       "'19 of May,2023'"
      ]
     },
     "execution_count": 5,
     "metadata": {},
     "output_type": "execute_result"
    }
   ],
   "source": [
    "# strftime: this is used for the modification of date and time\n",
    "currentdate.strftime('%d of %B,%Y')"
   ]
  },
  {
   "cell_type": "code",
   "execution_count": 11,
   "id": "393cd746",
   "metadata": {},
   "outputs": [
    {
     "data": {
      "text/plain": [
       "datetime.time(12, 42, 10, 622676)"
      ]
     },
     "execution_count": 11,
     "metadata": {},
     "output_type": "execute_result"
    }
   ],
   "source": [
    "currenttime= datetime.datetime.now().time()\n",
    "currenttime"
   ]
  },
  {
   "cell_type": "code",
   "execution_count": 13,
   "id": "ad8b0d12",
   "metadata": {},
   "outputs": [
    {
     "data": {
      "text/plain": [
       "'12::42::10::PM'"
      ]
     },
     "execution_count": 13,
     "metadata": {},
     "output_type": "execute_result"
    }
   ],
   "source": [
    "currenttime.strftime('%H::%M::%S::%p')"
   ]
  },
  {
   "cell_type": "raw",
   "id": "a006da40",
   "metadata": {},
   "source": []
  },
  {
   "cell_type": "code",
   "execution_count": 14,
   "id": "743805cd",
   "metadata": {},
   "outputs": [
    {
     "data": {
      "text/plain": [
       "datetime.datetime(2023, 5, 19, 12, 45, 18, 719951)"
      ]
     },
     "execution_count": 14,
     "metadata": {},
     "output_type": "execute_result"
    }
   ],
   "source": [
    "current_date_time= datetime.datetime.now()\n",
    "current_date_time"
   ]
  },
  {
   "cell_type": "code",
   "execution_count": 16,
   "id": "3270f9d0",
   "metadata": {},
   "outputs": [
    {
     "name": "stdout",
     "output_type": "stream",
     "text": [
      "Enter your date[mm/dd/yy]:12/05/2001\n"
     ]
    },
    {
     "data": {
      "text/plain": [
       "datetime.date(2001, 12, 5)"
      ]
     },
     "execution_count": 16,
     "metadata": {},
     "output_type": "execute_result"
    }
   ],
   "source": [
    "## strptime: this is used to convert a date in string to date time format\n",
    "cdate= input('Enter your date[mm/dd/yy]:')\n",
    "condate= datetime.datetime.strptime(cdate,'%m/%d/%Y').date()\n",
    "condate"
   ]
  },
  {
   "cell_type": "code",
   "execution_count": 17,
   "id": "caca77d7",
   "metadata": {},
   "outputs": [
    {
     "data": {
      "text/plain": [
       "datetime.timedelta(days=7835)"
      ]
     },
     "execution_count": 17,
     "metadata": {},
     "output_type": "execute_result"
    }
   ],
   "source": [
    "currentdate - condate"
   ]
  },
  {
   "cell_type": "code",
   "execution_count": 18,
   "id": "03ba1e77",
   "metadata": {},
   "outputs": [
    {
     "data": {
      "text/plain": [
       "datetime.date(2022, 12, 20)"
      ]
     },
     "execution_count": 18,
     "metadata": {},
     "output_type": "execute_result"
    }
   ],
   "source": [
    "currentdate - datetime.timedelta(days = 150)"
   ]
  },
  {
   "cell_type": "code",
   "execution_count": 19,
   "id": "d6514031",
   "metadata": {},
   "outputs": [
    {
     "data": {
      "text/plain": [
       "datetime.date(2023, 10, 16)"
      ]
     },
     "execution_count": 19,
     "metadata": {},
     "output_type": "execute_result"
    }
   ],
   "source": [
    "currentdate + datetime.timedelta(days = 150)"
   ]
  },
  {
   "cell_type": "markdown",
   "id": "e3493f4c",
   "metadata": {},
   "source": [
    "# write a program to calculate how many weeks and days a user has until his/her appointment from the current date"
   ]
  },
  {
   "cell_type": "code",
   "execution_count": 20,
   "id": "bda03d19",
   "metadata": {},
   "outputs": [
    {
     "data": {
      "text/plain": [
       "datetime.date(2001, 12, 5)"
      ]
     },
     "execution_count": 20,
     "metadata": {},
     "output_type": "execute_result"
    }
   ],
   "source": [
    "condate=datetime.datetime.strptime(cdate,'%m/%d/%Y').date()\n",
    "condate"
   ]
  },
  {
   "cell_type": "code",
   "execution_count": 21,
   "id": "9140b6b3",
   "metadata": {},
   "outputs": [
    {
     "data": {
      "text/plain": [
       "datetime.datetime(2023, 5, 19, 13, 5, 34, 952160)"
      ]
     },
     "execution_count": 21,
     "metadata": {},
     "output_type": "execute_result"
    }
   ],
   "source": [
    "current_date_time= datetime.datetime.now()\n",
    "current_date_time"
   ]
  },
  {
   "cell_type": "code",
   "execution_count": 29,
   "id": "1c93cd0d",
   "metadata": {},
   "outputs": [
    {
     "name": "stdout",
     "output_type": "stream",
     "text": [
      "Enter your date[mm/dd/yy]:12/5/2022\n"
     ]
    },
    {
     "data": {
      "text/plain": [
       "datetime.date(2022, 12, 5)"
      ]
     },
     "execution_count": 29,
     "metadata": {},
     "output_type": "execute_result"
    }
   ],
   "source": [
    "cdate= input('Enter your date[mm/dd/yy]:')\n",
    "condate= datetime.datetime.strptime(cdate,'%m/%d/%Y').date()\n",
    "condate"
   ]
  },
  {
   "cell_type": "code",
   "execution_count": 27,
   "id": "df533f90",
   "metadata": {},
   "outputs": [
    {
     "data": {
      "text/plain": [
       "datetime.date(2022, 12, 5)"
      ]
     },
     "execution_count": 27,
     "metadata": {},
     "output_type": "execute_result"
    }
   ],
   "source": [
    "currentdate - datetime.timedelta(days = 165)"
   ]
  },
  {
   "cell_type": "code",
   "execution_count": 30,
   "id": "42a82bb6",
   "metadata": {},
   "outputs": [
    {
     "data": {
      "text/plain": [
       "datetime.timedelta(days=165)"
      ]
     },
     "execution_count": 30,
     "metadata": {},
     "output_type": "execute_result"
    }
   ],
   "source": [
    "currentdate - condate"
   ]
  },
  {
   "cell_type": "code",
   "execution_count": 31,
   "id": "07a6683b",
   "metadata": {},
   "outputs": [
    {
     "data": {
      "text/plain": [
       "datetime.date(2022, 12, 5)"
      ]
     },
     "execution_count": 31,
     "metadata": {},
     "output_type": "execute_result"
    }
   ],
   "source": [
    "date1=datetime.date(2022,12,5)\n",
    "date1"
   ]
  },
  {
   "cell_type": "code",
   "execution_count": 32,
   "id": "a58f7812",
   "metadata": {},
   "outputs": [
    {
     "name": "stdout",
     "output_type": "stream",
     "text": [
      "1\n"
     ]
    }
   ],
   "source": [
    "print(date1.isoweekday())"
   ]
  },
  {
   "cell_type": "code",
   "execution_count": 33,
   "id": "2456c731",
   "metadata": {},
   "outputs": [
    {
     "data": {
      "text/plain": [
       "datetime.date(2022, 12, 5)"
      ]
     },
     "execution_count": 33,
     "metadata": {},
     "output_type": "execute_result"
    }
   ],
   "source": [
    "currentdate - datetime.timedelta(days = 165)"
   ]
  },
  {
   "cell_type": "code",
   "execution_count": 38,
   "id": "0ca3a012",
   "metadata": {},
   "outputs": [
    {
     "name": "stdout",
     "output_type": "stream",
     "text": [
      "Enter your date[yy/mm/dd]:2023/7/5\n"
     ]
    },
    {
     "data": {
      "text/plain": [
       "datetime.date(2023, 7, 5)"
      ]
     },
     "execution_count": 38,
     "metadata": {},
     "output_type": "execute_result"
    }
   ],
   "source": [
    "cdate= input('Enter your date[yy/mm/dd]:')\n",
    "condate= datetime.datetime.strptime(cdate,'%Y/%m/%d').date()\n",
    "condate"
   ]
  },
  {
   "cell_type": "code",
   "execution_count": 39,
   "id": "eb138b6b",
   "metadata": {},
   "outputs": [
    {
     "data": {
      "text/plain": [
       "datetime.timedelta(days=-47)"
      ]
     },
     "execution_count": 39,
     "metadata": {},
     "output_type": "execute_result"
    }
   ],
   "source": [
    "currentdate - condate"
   ]
  },
  {
   "cell_type": "code",
   "execution_count": 40,
   "id": "97b48152",
   "metadata": {},
   "outputs": [],
   "source": [
    "date2=datetime.date(2023,7,5)"
   ]
  },
  {
   "cell_type": "code",
   "execution_count": 45,
   "id": "5a925bba",
   "metadata": {},
   "outputs": [
    {
     "name": "stdout",
     "output_type": "stream",
     "text": [
      "Enter your date[yy/mm/dd]:2023/6/12\n"
     ]
    },
    {
     "data": {
      "text/plain": [
       "datetime.date(2023, 6, 12)"
      ]
     },
     "execution_count": 45,
     "metadata": {},
     "output_type": "execute_result"
    }
   ],
   "source": [
    "strappdate= input('Enter your date[yy/mm/dd]:')\n",
    "appdate= datetime.datetime.strptime(strappdate,'%Y/%m/%d').date()\n",
    "appdate"
   ]
  },
  {
   "cell_type": "markdown",
   "id": "78492f4f",
   "metadata": {},
   "source": [
    "## correction"
   ]
  },
  {
   "cell_type": "code",
   "execution_count": 47,
   "id": "4ddbca5f",
   "metadata": {},
   "outputs": [
    {
     "name": "stdout",
     "output_type": "stream",
     "text": [
      "Enter your date[yy/mm/dd]:2023/06/21\n",
      " DEAR USER YOU HAVE 4 weeks and 5 days until your appointment\n"
     ]
    }
   ],
   "source": [
    "strappdate= input('Enter your date[yy/mm/dd]:')\n",
    "appdate= datetime.datetime.strptime(strappdate,'%Y/%m/%d').date()\n",
    "currentdate = datetime.date.today()\n",
    "diff = appdate - currentdate\n",
    "noweeks = diff.days// 7\n",
    "nodays= diff.days % 7\n",
    "print(f' DEAR USER YOU HAVE {noweeks} weeks and {nodays} days until your appointment')"
   ]
  },
  {
   "cell_type": "code",
   "execution_count": 48,
   "id": "577373c3",
   "metadata": {},
   "outputs": [
    {
     "data": {
      "text/plain": [
       "datetime.timedelta(days=33)"
      ]
     },
     "execution_count": 48,
     "metadata": {},
     "output_type": "execute_result"
    }
   ],
   "source": [
    "diff"
   ]
  },
  {
   "cell_type": "code",
   "execution_count": null,
   "id": "36d06d7c",
   "metadata": {},
   "outputs": [],
   "source": []
  }
 ],
 "metadata": {
  "kernelspec": {
   "display_name": "Python 3 (ipykernel)",
   "language": "python",
   "name": "python3"
  },
  "language_info": {
   "codemirror_mode": {
    "name": "ipython",
    "version": 3
   },
   "file_extension": ".py",
   "mimetype": "text/x-python",
   "name": "python",
   "nbconvert_exporter": "python",
   "pygments_lexer": "ipython3",
   "version": "3.9.12"
  }
 },
 "nbformat": 4,
 "nbformat_minor": 5
}
