{
 "cells": [
  {
   "cell_type": "code",
   "execution_count": 1,
   "id": "0d4f34e6",
   "metadata": {},
   "outputs": [],
   "source": [
    "class person:\n",
    "    attrl1='sam'\n",
    "    attrl2='dark'\n",
    "person1=person()    "
   ]
  },
  {
   "cell_type": "code",
   "execution_count": 2,
   "id": "d2d19a23",
   "metadata": {},
   "outputs": [
    {
     "data": {
      "text/plain": [
       "'sam'"
      ]
     },
     "execution_count": 2,
     "metadata": {},
     "output_type": "execute_result"
    }
   ],
   "source": [
    "person.attrl1"
   ]
  },
  {
   "cell_type": "code",
   "execution_count": 10,
   "id": "b74511e5",
   "metadata": {},
   "outputs": [],
   "source": [
    "class person:\n",
    "    attrl1= 'sam'\n",
    "    attrl2= 'dark'\n",
    "\n",
    "    def details(self):\n",
    "        print(f'''Name:{self.attrl1}\n",
    "complexsion: {self.attrl2}                        \n",
    "        ''')\n",
    "person1=person()        "
   ]
  },
  {
   "cell_type": "code",
   "execution_count": 11,
   "id": "01c20001",
   "metadata": {},
   "outputs": [
    {
     "name": "stdout",
     "output_type": "stream",
     "text": [
      "Name:sam\n",
      "complexsion: dark                        \n",
      "        \n"
     ]
    }
   ],
   "source": [
    "person1.details()"
   ]
  },
  {
   "cell_type": "code",
   "execution_count": 2,
   "id": "269b583f",
   "metadata": {},
   "outputs": [],
   "source": [
    "class monieapp:\n",
    "    def __init__(self):\n",
    "        self.balance=0\n",
    "    \n",
    "    def deposit(self):\n",
    "        amount = float(input('enter deposit amount'))\n",
    "        self.balance += amount\n",
    "        print('Tnasaction successfull!!!!!')\n",
    "    def transfer(self):\n",
    "        amount = float(input('enter transfer amount'))\n",
    "        bankname: input('enter bank name:')\n",
    "        acct: input('enter acct no:')    \n",
    "        if amount > self.balance or amount==0:\n",
    "            print('cannot complete transaction due to zero of insufficient fund')\n",
    "        else:\n",
    "            self.balance-=amount\n",
    "            print('Transaction SUCCESSFULLY!!!')\n",
    "    def airtime(self):\n",
    "        amount = float(input('enter airtime amount'))\n",
    "        provider: input('enter provider name:')\n",
    "        num: input('enter phone no:')    \n",
    "        if amount > self.balance or amount==0:\n",
    "            print('cannot complete transaction due to zero of insufficient fund')\n",
    "        else:\n",
    "            self.balance-=amount\n",
    "            print('Transaction SUCCESSFULLY!!!')\n",
    "    def data(self):\n",
    "        amount = float(input('enter data amount'))\n",
    "        provider: input('enter provider name:')\n",
    "        num: input('enter phone no:')    \n",
    "        if amount > self.balance or amount==0:\n",
    "            print('cannot complete transaction due to zero of insufficient fund')\n",
    "        else:\n",
    "            self.balance-=amount\n",
    "            print('Transaction SUCCESSFULLY!!!') \n",
    "    def checkbalance(self):\n",
    "        print(f' your AVAILABLE BALANCE IS {self.balance}')\n",
    "app=monieapp()              "
   ]
  },
  {
   "cell_type": "code",
   "execution_count": 34,
   "id": "621610d6",
   "metadata": {},
   "outputs": [
    {
     "name": "stdout",
     "output_type": "stream",
     "text": [
      " your AVAILABLE BALANCE IS 91000000.0\n"
     ]
    }
   ],
   "source": [
    "app.checkbalance()"
   ]
  },
  {
   "cell_type": "code",
   "execution_count": 3,
   "id": "6e80419b",
   "metadata": {},
   "outputs": [
    {
     "name": "stdout",
     "output_type": "stream",
     "text": [
      "enter deposit amount700000\n",
      "Tnasaction successfull!!!!!\n"
     ]
    }
   ],
   "source": [
    "app.deposit()"
   ]
  },
  {
   "cell_type": "code",
   "execution_count": 32,
   "id": "758036d2",
   "metadata": {},
   "outputs": [
    {
     "name": "stdout",
     "output_type": "stream",
     "text": [
      "enter transfer amount9000000\n",
      "Transaction SUCCESSFULLY!!!\n"
     ]
    }
   ],
   "source": [
    "app.transfer()"
   ]
  },
  {
   "cell_type": "code",
   "execution_count": 2,
   "id": "636edc3c",
   "metadata": {},
   "outputs": [
    {
     "name": "stdout",
     "output_type": "stream",
     "text": [
      "Enter your password:2222\n",
      "Enter connect to perform operation:connect\n",
      "enter choice:tranfer\n",
      "enter connect to perform operationconnect\n",
      "enter choice:data\n",
      "enter data amount5000\n",
      "cannot complete transaction due to zero of insufficient fund\n",
      "enter connect to perform operationconnect\n",
      "enter choice:deposit\n",
      "enter deposit amount90000\n",
      "Tnasaction successfull!!!!!\n",
      "enter connect to perform operationconnect\n",
      "enter choice:tranfer\n",
      "enter connect to perform operationconnect\n",
      "enter choice:data\n",
      "enter data amount8000\n",
      "Transaction SUCCESSFULLY!!!\n",
      "enter connect to perform operationconnect\n",
      "enter choice:logout\n",
      "LOG OUT\n"
     ]
    }
   ],
   "source": [
    "#class\n",
    "class monieapp:\n",
    "    def __init__(self):\n",
    "        self.balance=0\n",
    "    \n",
    "    def deposit(self):\n",
    "        amount = float(input('enter deposit amount'))\n",
    "        self.balance += amount\n",
    "        print('Tnasaction successfull!!!!!')\n",
    "    def transfer(self):\n",
    "        amount = float(input('enter transfer amount'))\n",
    "        bankname: input('enter bank name:')\n",
    "        acct: input('enter acct no:')    \n",
    "        if amount > self.balance or amount==0:\n",
    "            print('cannot complete transaction due to zero of insufficient fund')\n",
    "        else:\n",
    "            self.balance-=amount\n",
    "            print('Transaction SUCCESSFULLY!!!')\n",
    "    def airtime(self):\n",
    "        amount = float(input('enter airtime amount'))\n",
    "        provider: input('enter provider name:')\n",
    "        num: input('enter phone no:')    \n",
    "        if amount > self.balance or amount==0:\n",
    "            print('cannot complete transaction due to zero of insufficient fund')\n",
    "        else:\n",
    "            self.balance-=amount\n",
    "            print('Transaction SUCCESSFULLY!!!')\n",
    "    def data(self):\n",
    "        amount = float(input('enter data amount'))\n",
    "        provider: input('enter provider name:')\n",
    "        num: input('enter phone no:')    \n",
    "        if amount > self.balance or amount==0:\n",
    "            print('cannot complete transaction due to zero of insufficient fund')\n",
    "        else:\n",
    "            self.balance-=amount\n",
    "            print('Transaction SUCCESSFULLY!!!') \n",
    "    def checkbalance(self):\n",
    "        print(f' your AVAILABLE BALANCE IS {self.balance}')\n",
    "app=monieapp()\n",
    "passid=[2222,5558,6368]\n",
    "password= int(input('Enter your password:'))\n",
    "if password in passid:\n",
    "    counter=0\n",
    "    operation=input('Enter connect to perform operation:')\n",
    "    while operation =='connect':\n",
    "        option= input('enter choice:')\n",
    "        if option == 'deposit':\n",
    "                    app.deposit()\n",
    "        elif option == 'transfer':\n",
    "                    app.transfer()\n",
    "        elif option == 'airtime':\n",
    "                    app.airtime()\n",
    "        elif option == 'data':\n",
    "                    app.data() \n",
    "        elif option == 'checkbalance':\n",
    "                    app.checkbalance()\n",
    "        elif option == 'logout':\n",
    "                print('LOG OUT')\n",
    "                break\n",
    "        counter +=1\n",
    "        operation = input('enter connect to perform operation')\n",
    "                \n",
    "else:\n",
    "    print('Record not found')\n",
    "    "
   ]
  },
  {
   "cell_type": "code",
   "execution_count": null,
   "id": "d44743b4",
   "metadata": {},
   "outputs": [],
   "source": []
  }
 ],
 "metadata": {
  "kernelspec": {
   "display_name": "Python 3 (ipykernel)",
   "language": "python",
   "name": "python3"
  },
  "language_info": {
   "codemirror_mode": {
    "name": "ipython",
    "version": 3
   },
   "file_extension": ".py",
   "mimetype": "text/x-python",
   "name": "python",
   "nbconvert_exporter": "python",
   "pygments_lexer": "ipython3",
   "version": "3.9.12"
  }
 },
 "nbformat": 4,
 "nbformat_minor": 5
}
