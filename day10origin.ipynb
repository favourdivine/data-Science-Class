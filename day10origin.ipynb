{
 "cells": [
  {
   "cell_type": "markdown",
   "id": "514bf5bc",
   "metadata": {},
   "source": [
    "## exercise\n",
    "## write a program to the following to display patient record,calculate their checking fee based on the continent,check their body mass index note read and understand the question to know what attribute are needed¶"
   ]
  },
  {
   "cell_type": "code",
   "execution_count": 20,
   "id": "c3c9aa28",
   "metadata": {},
   "outputs": [
    {
     "name": "stdout",
     "output_type": "stream",
     "text": [
      "enter your height in meters:9\n",
      "Enter your weight in kg:34\n",
      "your BMI is 0.41975308641975306,you are underweight,see your doctor\n",
      "what is your option,[nigeria,usa,kwanda,sweden,canada]usa\n",
      "The amount usa in dollars is $80\n",
      "______ patient record_____\n",
      "        NAME:julius\n",
      "        AGE:40\n",
      "        HEIGHT:9.0\n",
      "        WEIGHT:34\n",
      "        COMPLEXION:Dark\n",
      "        \n"
     ]
    }
   ],
   "source": [
    "class patientrecord:\n",
    "    def __init__(self,name,age,height,weight,complexion):\n",
    "        self.name= name\n",
    "        self.age= age\n",
    "        self.height= height\n",
    "        self.weight= weight\n",
    "        self.complexion= complexion\n",
    "    def start(self):\n",
    "        print(f'''______ patient record_____\n",
    "        NAME:{self.name}\n",
    "        AGE:{self.age}\n",
    "        HEIGHT:{self.height}\n",
    "        WEIGHT:{self.weight}\n",
    "        COMPLEXION:{self.complexion}\n",
    "        ''')\n",
    "    def continentprice(self):\n",
    "        option=input('what is your option,[nigeria,usa,kwanda,sweden,canada]')\n",
    "        if option =='nigeria':\n",
    "            print('The amount nigeria in dollars is $60')\n",
    "        elif option =='usa':\n",
    "            print('The amount usa in dollars is $80')\n",
    "        elif option =='kwanda':\n",
    "            print('The amount kwanda in dollars is $50')    \n",
    "        elif option =='sweden':\n",
    "            print('The amount sweden in dollars is $65')\n",
    "        elif option =='canada':\n",
    "            print('The amount canada in dollars is $75')\n",
    "            \n",
    "    def bodymassindex(self):\n",
    "        height=float(input('enter your height in meters:'))\n",
    "        weight=float(input('Enter your weight in kg:'))\n",
    "        bmi=weight/(height**2)\n",
    "        if bmi < 18.5:\n",
    "            print(f'your BMI is {bmi},you are underweight,see your doctor')\n",
    "        elif bmi >=18.5 and bmi<=24.99:\n",
    "            print(f'your BMI is {bmi},YOU ARE HEALTHY')\n",
    "        elif bmi >=25 and bmi<=30:\n",
    "            print(f'your BMI is {bmi},YOU ARE OVERWEIGHT, SEE YOUR DOCTOR')\n",
    "        elif bmi >=18.5 and bmi<=24.99:\n",
    "            print(f'your BMI is {bmi},YOU ARE OBESSE, SEE YOUR DOCTOR')\n",
    "        else:\n",
    "            print(f'your BMI is {bmi}, you are extremely obesity, see your doctor')\n",
    "health=patientrecord('julius',40, 9.0, 34,'Dark')\n",
    "\n",
    "health.bodymassindex()\n",
    "health.continentprice()\n",
    "health.start()"
   ]
  },
  {
   "cell_type": "markdown",
   "id": "a1eb902b",
   "metadata": {},
   "source": [
    "## ERROR HANDLING\n",
    "## TRY,EXCEPT,ELSE,FINALLY"
   ]
  },
  {
   "cell_type": "code",
   "execution_count": 10,
   "id": "cafc715d",
   "metadata": {},
   "outputs": [
    {
     "name": "stdout",
     "output_type": "stream",
     "text": [
      "enter your height in meters:9.0\n",
      "Enter your weight in kg:90\n",
      "your BMI is 1.1111111111111112,you are underweight,see your doctor\n",
      "90\n",
      "end program now!!!\n"
     ]
    }
   ],
   "source": [
    "try:\n",
    "    height=float(input('enter your height in meters:'))\n",
    "    weight=float(input('Enter your weight in kg:'))\n",
    "    bmi=weight/(height **2)\n",
    "    if bmi < 18.5:\n",
    "        print(f'your BMI is {bmi},you are underweight,see your doctor')\n",
    "    elif bmi >=18.5 and bmi<=24.99:\n",
    "        print(f'your BMI is {bmi},YOU ARE HEALTHY')\n",
    "    elif bmi >=25 and bmi<=30:\n",
    "        print(f'your BMI is {bmi},YOU ARE OVERWEIGHT, SEE YOUR DOCTOR')\n",
    "    elif bmi >=18.5 and bmi<=24.99:\n",
    "        print(f'your BMI is {bmi},YOU ARE OBESSE, SEE YOUR DOCTOR')\n",
    "    else:\n",
    "        print(f'your BMI is {bmi}, you are extremely obesity, see your doctor')\n",
    "except ValueError:\n",
    "    print('wrong value,integer or float value is expected')\n",
    "except:\n",
    "      print('you have encountered one or more errors')\n",
    "else:\n",
    "    print(45*2)\n",
    "finally:\n",
    "    print('end program now!!!')"
   ]
  },
  {
   "cell_type": "code",
   "execution_count": null,
   "id": "5cd20bac",
   "metadata": {},
   "outputs": [],
   "source": []
  }
 ],
 "metadata": {
  "kernelspec": {
   "display_name": "Python 3 (ipykernel)",
   "language": "python",
   "name": "python3"
  },
  "language_info": {
   "codemirror_mode": {
    "name": "ipython",
    "version": 3
   },
   "file_extension": ".py",
   "mimetype": "text/x-python",
   "name": "python",
   "nbconvert_exporter": "python",
   "pygments_lexer": "ipython3",
   "version": "3.9.12"
  }
 },
 "nbformat": 4,
 "nbformat_minor": 5
}
