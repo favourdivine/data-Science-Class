{
 "cells": [
  {
   "cell_type": "code",
   "execution_count": 6,
   "id": "8d6971d9",
   "metadata": {},
   "outputs": [],
   "source": [
    "import mysql.connector"
   ]
  },
  {
   "cell_type": "code",
   "execution_count": 5,
   "id": "d45d7fbe",
   "metadata": {},
   "outputs": [
    {
     "ename": "NameError",
     "evalue": "name 'mysql' is not defined",
     "output_type": "error",
     "traceback": [
      "\u001b[1;31m---------------------------------------------------------------------------\u001b[0m",
      "\u001b[1;31mNameError\u001b[0m                                 Traceback (most recent call last)",
      "Input \u001b[1;32mIn [5]\u001b[0m, in \u001b[0;36m<cell line: 1>\u001b[1;34m()\u001b[0m\n\u001b[1;32m----> 1\u001b[0m mydb\u001b[38;5;241m=\u001b[39m \u001b[43mmysql\u001b[49m\u001b[38;5;241m.\u001b[39mconnector\u001b[38;5;241m.\u001b[39mconnect(\n\u001b[0;32m      2\u001b[0m     host \u001b[38;5;241m=\u001b[39m \u001b[38;5;124m'\u001b[39m\u001b[38;5;124mlocalhost\u001b[39m\u001b[38;5;124m'\u001b[39m,\n\u001b[0;32m      3\u001b[0m     user\u001b[38;5;241m=\u001b[39m\u001b[38;5;124m'\u001b[39m\u001b[38;5;124mroot\u001b[39m\u001b[38;5;124m'\u001b[39m,\n\u001b[0;32m      4\u001b[0m     password \u001b[38;5;241m=\u001b[39m \u001b[38;5;124m'\u001b[39m\u001b[38;5;124m898989\u001b[39m\u001b[38;5;124m'\u001b[39m\n\u001b[0;32m      5\u001b[0m     \n\u001b[0;32m      6\u001b[0m )\n\u001b[0;32m      7\u001b[0m mycursor\u001b[38;5;241m=\u001b[39m mydb\u001b[38;5;241m.\u001b[39mcursor()\n",
      "\u001b[1;31mNameError\u001b[0m: name 'mysql' is not defined"
     ]
    }
   ],
   "source": [
    "mydb= mysql.connector.connect(\n",
    "    host = 'localhost',\n",
    "    user='root',\n",
    "    password = '898989'\n",
    "    \n",
    ")\n",
    "mycursor= mydb.cursor()"
   ]
  },
  {
   "cell_type": "code",
   "execution_count": 4,
   "id": "1905f42f",
   "metadata": {},
   "outputs": [
    {
     "ename": "NameError",
     "evalue": "name 'mycursor' is not defined",
     "output_type": "error",
     "traceback": [
      "\u001b[1;31m---------------------------------------------------------------------------\u001b[0m",
      "\u001b[1;31mNameError\u001b[0m                                 Traceback (most recent call last)",
      "Input \u001b[1;32mIn [4]\u001b[0m, in \u001b[0;36m<cell line: 1>\u001b[1;34m()\u001b[0m\n\u001b[1;32m----> 1\u001b[0m \u001b[43mmycursor\u001b[49m\u001b[38;5;241m.\u001b[39mexecute(\u001b[38;5;124m'\u001b[39m\u001b[38;5;124mcreate database librarymanagementsystem\u001b[39m\u001b[38;5;124m'\u001b[39m)\n",
      "\u001b[1;31mNameError\u001b[0m: name 'mycursor' is not defined"
     ]
    }
   ],
   "source": [
    "mycursor.execute('create database librarymanagementsystem')"
   ]
  },
  {
   "cell_type": "code",
   "execution_count": 12,
   "id": "c3cc97b6",
   "metadata": {},
   "outputs": [],
   "source": [
    "mydb = mysql.connector.connect(\n",
    "    host = 'localhost',\n",
    "    user='root',\n",
    "    password='898989',\n",
    "    database = 'librarymanagementsystem'\n",
    "\n",
    ")\n",
    "mycursor = mydb.cursor()"
   ]
  },
  {
   "cell_type": "code",
   "execution_count": 3,
   "id": "ad8c8de3",
   "metadata": {},
   "outputs": [
    {
     "ename": "NameError",
     "evalue": "name 'Bookcategormycursor' is not defined",
     "output_type": "error",
     "traceback": [
      "\u001b[1;31m---------------------------------------------------------------------------\u001b[0m",
      "\u001b[1;31mNameError\u001b[0m                                 Traceback (most recent call last)",
      "Input \u001b[1;32mIn [3]\u001b[0m, in \u001b[0;36m<cell line: 1>\u001b[1;34m()\u001b[0m\n\u001b[1;32m----> 1\u001b[0m \u001b[43mBookcategormycursor\u001b[49m\u001b[38;5;241m.\u001b[39mexecute(\u001b[38;5;124m'\u001b[39m\u001b[38;5;124mcreate table bookrecords(bookid int primary key not null,Booktitle text not null,BookAuthors text not null text not null, Bookyear int not null,ISBN text not null)\u001b[39m\u001b[38;5;124m'\u001b[39m)\n",
      "\u001b[1;31mNameError\u001b[0m: name 'Bookcategormycursor' is not defined"
     ]
    }
   ],
   "source": [
    "Bookcategormycursor.execute('create table bookrecords(bookid int primary key not null,Booktitle text not null,BookAuthors text not null text not null, Bookyear int not null,ISBN text not null)')"
   ]
  },
  {
   "cell_type": "code",
   "execution_count": 27,
   "id": "ba19c29d",
   "metadata": {},
   "outputs": [
    {
     "name": "stdout",
     "output_type": "stream",
     "text": [
      "enter your password:admin101\n",
      "Enter yes to perform operationyes\n",
      "choose operation option[accept,display,search,update,delete,logout]:search\n",
      "ENTER Book id To search:1\n",
      "(1, 'last of us', 'moyinwa', 'love', 2009, 'SBN883774')\n",
      "Enter yes to perfrom operationyes\n",
      "choose operation option[accept,display,search,update,delete,logout]:update\n",
      "Enter Book id To search:2\n",
      "Enter the column to update:Bookyear\n",
      "Enter the new value:1997\n",
      "(1, 'last of us', 'moyinwa', 'love', 2009, 'SBN883774')\n",
      "(2, 'last of us ', 'joe mayor', 'love', 1997, 'ISBN89887998')\n",
      "(3, 'love is a mistery', 'kelvin nate', 'love and friction', 1998, 'ISBNOI8756758578')\n",
      "Enter yes to perfrom operationyes\n",
      "choose operation option[accept,display,search,update,delete,logout]:logout\n",
      "Loging out.....\n",
      "Enter yes to perfrom operationno\n"
     ]
    }
   ],
   "source": [
    "class bookmanagement:\n",
    "    def accept(self):\n",
    "        bookid = int(input('ENTER BOOK ID:'))\n",
    "        Booktitle = input('ENTER BOOK TITLE:')\n",
    "        BookAuthors = input('ENTER BOOK AUTHORS:')\n",
    "        Bookcategory = input('ENTER BOOK CATEGORY:')\n",
    "        Bookyear = int(input('ENTER BOOK YEAR:'))\n",
    "        ISBN= input('ENTER BOOK REGISTRATION NUMBER:')\n",
    "        \n",
    "        sql = 'insert into Bookrecords(bookid,Booktitle,BookAuthors,Bookcategory,Bookyear,ISBN) values(%s,%s,%s,%s,%s,%s)'\n",
    "        val = [(bookid,Booktitle,BookAuthors,Bookcategory,Bookyear,ISBN)]\n",
    "        mycursor.executemany(sql,val)\n",
    "        mydb.commit()\n",
    "        print('Records added successfully.......')\n",
    "    def display(self):\n",
    "        mycursor.execute('select * from bookrecords')\n",
    "        for x in mycursor:\n",
    "            print (x)\n",
    "            \n",
    "    def search(self):\n",
    "        id = input('ENTER Book id To search:')\n",
    "        mycursor.execute('Select * from bookrecords where bookid = {}'.format(id))\n",
    "        for x in mycursor:\n",
    "            print (x)\n",
    "    def update(self):\n",
    "        id=input('Enter Book id To search:')\n",
    "        column= input('Enter the column to update:')\n",
    "        newval = input('Enter the new value:')\n",
    "        mycursor.execute('update bookrecords set {} = {} where bookid = {}'.format(column,newval,id))\n",
    "        mydb.commit()\n",
    "        mycursor.execute('select * from bookrecords')\n",
    "        for x in mycursor:\n",
    "            print(x)\n",
    "    def delete(self):\n",
    "        id = input('Enter bookid to search:')\n",
    "        mycursor.execute('delete from bookrecords where bookid = {}'.format(id))\n",
    "        mydb.commit()\n",
    "        mycursor.execute('select * from bookrecords')\n",
    "        for x in mycursor:\n",
    "            print(x)\n",
    "            \n",
    "program = bookmanagement()\n",
    "password = 'admin101'\n",
    "passid = input('enter your password:')\n",
    "if password == passid:\n",
    "    operation = input ('Enter yes to perform operation')\n",
    "    counter = 0\n",
    "    while operation == 'yes':\n",
    "        option = input('choose operation option[accept,display,search,update,delete,logout]:')\n",
    "        if option == 'accept':\n",
    "            program.accept()\n",
    "        elif option == 'display':\n",
    "            program.display()\n",
    "        elif option == 'search':\n",
    "            program.search()\n",
    "        elif option == 'update':\n",
    "            program.update()\n",
    "        elif option == 'delete':\n",
    "            program.delete()\n",
    "        elif option == 'logout':\n",
    "            print('Loging out.....')\n",
    "        operation = input('Enter yes to perfrom operation')\n",
    "        counter +=1\n",
    "else:\n",
    "    print('Invalid password')"
   ]
  },
  {
   "cell_type": "code",
   "execution_count": null,
   "id": "1fae7c5e",
   "metadata": {},
   "outputs": [],
   "source": []
  }
 ],
 "metadata": {
  "kernelspec": {
   "display_name": "Python 3 (ipykernel)",
   "language": "python",
   "name": "python3"
  },
  "language_info": {
   "codemirror_mode": {
    "name": "ipython",
    "version": 3
   },
   "file_extension": ".py",
   "mimetype": "text/x-python",
   "name": "python",
   "nbconvert_exporter": "python",
   "pygments_lexer": "ipython3",
   "version": "3.9.12"
  }
 },
 "nbformat": 4,
 "nbformat_minor": 5
}
