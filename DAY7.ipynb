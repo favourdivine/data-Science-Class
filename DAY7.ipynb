{
 "cells": [
  {
   "cell_type": "markdown",
   "id": "fea258f5",
   "metadata": {},
   "source": [
    "# EXERCISE\n",
    "# USING A FUNCTION, WRITE A PROGRAM TO CALCULATE THE TOTAL COST OF A CUSTOMER'S PURCHASE, INCLUDING DISCOUNTS AND SALES TAX?\n",
    "# IF THE CUSTOMER PURCHASE IS ABOVE 500000 YOU GIVE DISCOUNT\n",
    "# SOUTH SOUTH 15%\n",
    "# SOUTH EAST 10%\n",
    "# SOUTH WEST 8%\n",
    "# NORTH EAST 12%\n",
    "# NORTH WEST 11%\n",
    "# NORTH CENTRAL 6%\n",
    "# THE VA5T IS SLATED AT 3.5%"
   ]
  },
  {
   "cell_type": "code",
   "execution_count": 14,
   "id": "a5fcc89c",
   "metadata": {},
   "outputs": [
    {
     "name": "stdout",
     "output_type": "stream",
     "text": [
      "toal amount700000\n",
      "ENTER YOUR REGIONsouth south\n",
      "you order have been placed succesfull of 700350.0\n"
     ]
    }
   ],
   "source": [
    "def customerpurchase():\n",
    "    customermoney=float(input('toal amount'))\n",
    "    customertotal=customermoney+350\n",
    "    region= input('ENTER YOUR REGION')\n",
    "    if customermoney >=500000 and region== 'southsouth':\n",
    "        discount=customertotal-1500\n",
    "        print(f'you have been offered a discount {customertotal} of 15%')\n",
    "    elif  customermoney >=500000 and region== 'southeast':\n",
    "        discount=customertotal-1000\n",
    "        print(f'you have been offered a discount {customertotal} of 10%')\n",
    "    elif  customermoney >=500000 and region== 'southwest':\n",
    "        discount=customertotal- 800\n",
    "        print(f'you have been offered a discount {customertotal} of 8%')\n",
    "    elif  customermoney >=500000 and region== 'north east':\n",
    "        discount=customertotal-1200\n",
    "        print(f'you have been offered a discount{customertotal} of 12%')\n",
    "    elif  customermoney >=500000 and region== 'north west':\n",
    "        discount=customertotal-1100\n",
    "        print(f'you have been offered a discount{customertotal} of 11%')\n",
    "    elif  customermoney >=500000 and region== 'north central':\n",
    "        discount=customertotal-600\n",
    "        print(f'you have been offered a discount{customertotal} of 6%')\n",
    "    else:\n",
    "        print(f'you order have been placed succesfull of {customertotal}')\n",
    "customerpurchase()              "
   ]
  },
  {
   "cell_type": "markdown",
   "id": "d5cf15c4",
   "metadata": {},
   "source": [
    "# correction"
   ]
  },
  {
   "cell_type": "code",
   "execution_count": 17,
   "id": "5607a86b",
   "metadata": {},
   "outputs": [
    {
     "name": "stdout",
     "output_type": "stream",
     "text": [
      "Enter customer purchase amount:900000\n",
      "Enter customer regionSOUTH SOUTH\n",
      "___________PURCHASE RECEIPT__________\n",
      "PURCHASE AMOUNT: 900000.0        \n",
      "DISCOUNT: NO       \n",
      "VAT:31500.000000000004\n",
      "TOTAL AMOUNT INCLUDING VAT MINUS DISCOUNT: 931500.0\n",
      "\n"
     ]
    }
   ],
   "source": [
    "def boardstore():\n",
    "    purchaseamount = float(input('Enter customer purchase amount:'))\n",
    "    region = input('Enter customer region')\n",
    "    if purchaseamount > 500000 and region=='south south':\n",
    "        print(f'''___________PURCHASE RECEIPT__________\n",
    "PURCHASE AMOUNT: {purchaseamount}        \n",
    "DISCOUNT: {purchaseamount * 0.15}        \n",
    "VAT:{purchaseamount * 0.035}\n",
    "TOTAL AMOUNT INCLUDING VAT MINUS DISCOUNT: {purchaseamount + (purchaseamount * 0.035)-(purchaseamount * 0.15)}\n",
    "''')\n",
    "    elif purchaseamount > 500000 and region=='south east':\n",
    "        print(f'''___________PURCHASE RECEIPT__________\n",
    "PURCHASE AMOUNT: {purchaseamount}        \n",
    "DISCOUNT: {purchaseamount * 0.10}        \n",
    "VAT:{purchaseamount * 0.035}\n",
    "TOTAL AMOUNT INCLUDING VAT MINUS DISCOUNT: {purchaseamount + (purchaseamount * 0.035)-(purchaseamount * 0.10)}\n",
    "''')\n",
    "    elif purchaseamount > 500000 and region=='south west':\n",
    "        print(f'''___________PURCHASE RECEIPT__________\n",
    "PURCHASE AMOUNT: {purchaseamount}        \n",
    "DISCOUNT: {purchaseamount * 0.08}        \n",
    "VAT:{purchaseamount * 0.035}\n",
    "TOTAL AMOUNT INCLUDING VAT MINUS DISCOUNT: {purchaseamount + (purchaseamount * 0.035)-(purchaseamount * 0.08)}\n",
    "''')\n",
    "    elif purchaseamount > 500000 and region=='north east':\n",
    "        print(f'''___________PURCHASE RECEIPT__________\n",
    "PURCHASE AMOUNT: {purchaseamount}        \n",
    "DISCOUNT: {purchaseamount * 0.12}        \n",
    "VAT:{purchaseamount * 0.035}\n",
    "TOTAL AMOUNT INCLUDING VAT MINUS DISCOUNT: {purchaseamount + (purchaseamount * 0.035)-(purchaseamount * 0.12)}\n",
    "''')\n",
    "    elif purchaseamount > 500000 and region=='north west':\n",
    "        print(f'''___________PURCHASE RECEIPT__________\n",
    "PURCHASE AMOUNT: {purchaseamount}        \n",
    "DISCOUNT: {purchaseamount * 0.11}        \n",
    "VAT:{purchaseamount * 0.035}\n",
    "TOTAL AMOUNT INCLUDING VAT MINUS DISCOUNT: {purchaseamount + (purchaseamount * 0.035)-(purchaseamount * 0.11)}\n",
    "''')\n",
    "    elif purchaseamount > 500000 and region=='north central':\n",
    "        print(f'''___________PURCHASE RECEIPT__________\n",
    "PURCHASE AMOUNT: {purchaseamount}        \n",
    "DISCOUNT: {purchaseamount * 0.06}        \n",
    "VAT:{purchaseamount * 0.035}\n",
    "TOTAL AMOUNT INCLUDING VAT MINUS DISCOUNT: {purchaseamount + (purchaseamount * 0.035)-(purchaseamount * 0.06)}\n",
    "''')\n",
    "    else:\n",
    "        print(f'''___________PURCHASE RECEIPT__________\n",
    "PURCHASE AMOUNT: {purchaseamount}        \n",
    "DISCOUNT: NO       \n",
    "VAT:{purchaseamount * 0.035}\n",
    "TOTAL AMOUNT INCLUDING VAT MINUS DISCOUNT: {purchaseamount + (purchaseamount * 0.035)}\n",
    "''')\n",
    "boardstore()        "
   ]
  },
  {
   "cell_type": "code",
   "execution_count": 18,
   "id": "79ddf672",
   "metadata": {},
   "outputs": [
    {
     "data": {
      "text/plain": [
       "124"
      ]
     },
     "execution_count": 18,
     "metadata": {},
     "output_type": "execute_result"
    }
   ],
   "source": [
    "(lambda x,y: x+y)(44,80)"
   ]
  },
  {
   "cell_type": "code",
   "execution_count": 14,
   "id": "69288e84",
   "metadata": {},
   "outputs": [
    {
     "ename": "SyntaxError",
     "evalue": "invalid syntax (476922077.py, line 1)",
     "output_type": "error",
     "traceback": [
      "\u001b[1;36m  Input \u001b[1;32mIn [14]\u001b[1;36m\u001b[0m\n\u001b[1;33m    (lambda name:x if name{0}.startswith('S')else f'{name} does not start with upper case S')(input('enter name:'))\u001b[0m\n\u001b[1;37m                          ^\u001b[0m\n\u001b[1;31mSyntaxError\u001b[0m\u001b[1;31m:\u001b[0m invalid syntax\n"
     ]
    }
   ],
   "source": [
    "(lambda name:x if name{0}.startswith('S')else f'{name} does not start with upper case S')(input('enter name:'))"
   ]
  },
  {
   "cell_type": "code",
   "execution_count": 25,
   "id": "bc79b3eb",
   "metadata": {},
   "outputs": [
    {
     "name": "stdout",
     "output_type": "stream",
     "text": [
      "['BINGO', 'BECKY', 'ROCKY', 'HAMS', 'JACKY', 'ROQUXY']\n"
     ]
    }
   ],
   "source": [
    "dogname=['bingo','becky','rocky','hams','jacky','roquxy']\n",
    "ulist= list(map(lambda x: str.upper(x),dogname))\n",
    "print(ulist)"
   ]
  },
  {
   "cell_type": "code",
   "execution_count": 26,
   "id": "5a0f6bfb",
   "metadata": {},
   "outputs": [
    {
     "name": "stdout",
     "output_type": "stream",
     "text": [
      "['bingo', 'becky']\n"
     ]
    }
   ],
   "source": [
    "ulist=list(filter(lambda x: x.startswith('b'),dogname))\n",
    "print(ulist)"
   ]
  },
  {
   "cell_type": "code",
   "execution_count": 29,
   "id": "74e54113",
   "metadata": {},
   "outputs": [
    {
     "name": "stdout",
     "output_type": "stream",
     "text": [
      "[46, 59, 22, 47, 42, 58, 46, 43, 53, 47, 37, 47, 14, 60, 24, 25, 39, 32, 37, 49, 44, 47, 60, 29, 60, 38, 48, 28, 36, 49, 50, 55, 19, 30, 55, 17, 36, 17, 41, 37, 43, 45, 40, 40, 30, 38, 48, 47, 22, 43]\n"
     ]
    }
   ],
   "source": [
    "numbers=[]\n",
    "counter=1\n",
    "import random \n",
    "while counter <= 50:\n",
    "    num = random.randint(14,60)\n",
    "    numbers.append(num)\n",
    "    counter +=1\n",
    "    \n",
    "print(numbers)    "
   ]
  },
  {
   "cell_type": "code",
   "execution_count": 1,
   "id": "2b320f2c",
   "metadata": {},
   "outputs": [],
   "source": [
    "# modify by find the sqrt and log \n",
    "# filter by selcting the odd and even numbers"
   ]
  },
  {
   "cell_type": "code",
   "execution_count": 4,
   "id": "a41fbc3f",
   "metadata": {},
   "outputs": [
    {
     "name": "stdout",
     "output_type": "stream",
     "text": [
      "['__doc__', '__loader__', '__name__', '__package__', '__spec__', 'acos', 'acosh', 'asin', 'asinh', 'atan', 'atan2', 'atanh', 'ceil', 'comb', 'copysign', 'cos', 'cosh', 'degrees', 'dist', 'e', 'erf', 'erfc', 'exp', 'expm1', 'fabs', 'factorial', 'floor', 'fmod', 'frexp', 'fsum', 'gamma', 'gcd', 'hypot', 'inf', 'isclose', 'isfinite', 'isinf', 'isnan', 'isqrt', 'lcm', 'ldexp', 'lgamma', 'log', 'log10', 'log1p', 'log2', 'modf', 'nan', 'nextafter', 'perm', 'pi', 'pow', 'prod', 'radians', 'remainder', 'sin', 'sinh', 'sqrt', 'tan', 'tanh', 'tau', 'trunc', 'ulp']\n"
     ]
    }
   ],
   "source": [
    "import math\n",
    "print(dir(math))"
   ]
  },
  {
   "cell_type": "code",
   "execution_count": 6,
   "id": "d3211081",
   "metadata": {},
   "outputs": [
    {
     "name": "stdout",
     "output_type": "stream",
     "text": [
      "10.0\n",
      "4.605170185988092\n"
     ]
    }
   ],
   "source": [
    "num=100\n",
    "print(math.sqrt(num))\n",
    "print(math.log(num))"
   ]
  },
  {
   "cell_type": "code",
   "execution_count": 4,
   "id": "6338ad39",
   "metadata": {},
   "outputs": [
    {
     "ename": "SyntaxError",
     "evalue": "unexpected EOF while parsing (4246168722.py, line 2)",
     "output_type": "error",
     "traceback": [
      "\u001b[1;36m  Input \u001b[1;32mIn [4]\u001b[1;36m\u001b[0m\n\u001b[1;33m    nlist= list(filter(lambda x: x.oddnumbers,num2)\u001b[0m\n\u001b[1;37m                                                                  ^\u001b[0m\n\u001b[1;31mSyntaxError\u001b[0m\u001b[1;31m:\u001b[0m unexpected EOF while parsing\n"
     ]
    }
   ],
   "source": [
    "num2 =[46, 59, 22, 47, 42, 58, 46, 43, 53, 47, 37, 47, 14, 60, 24, 25, 39, 32, 37, 49, 44, 47, 60, 29, 60, 38]\n",
    "nlist= list(filter(lambda x: x.oddnumbers,num2)               "
   ]
  },
  {
   "cell_type": "code",
   "execution_count": 10,
   "id": "8c72f56f",
   "metadata": {},
   "outputs": [
    {
     "ename": "SyntaxError",
     "evalue": "unexpected EOF while parsing (2706717472.py, line 2)",
     "output_type": "error",
     "traceback": [
      "\u001b[1;36m  Input \u001b[1;32mIn [10]\u001b[1;36m\u001b[0m\n\u001b[1;33m    nlist=(map(lambda x:x.math.sqrt(num))\u001b[0m\n\u001b[1;37m                                                ^\u001b[0m\n\u001b[1;31mSyntaxError\u001b[0m\u001b[1;31m:\u001b[0m unexpected EOF while parsing\n"
     ]
    }
   ],
   "source": [
    "num=100\n",
    "nlist=(map(lambda x:x.math.sqrt(num))       "
   ]
  },
  {
   "cell_type": "code",
   "execution_count": null,
   "id": "bd0e61b6",
   "metadata": {},
   "outputs": [],
   "source": []
  },
  {
   "cell_type": "code",
   "execution_count": null,
   "id": "8399cefc",
   "metadata": {},
   "outputs": [],
   "source": []
  }
 ],
 "metadata": {
  "kernelspec": {
   "display_name": "Python 3 (ipykernel)",
   "language": "python",
   "name": "python3"
  },
  "language_info": {
   "codemirror_mode": {
    "name": "ipython",
    "version": 3
   },
   "file_extension": ".py",
   "mimetype": "text/x-python",
   "name": "python",
   "nbconvert_exporter": "python",
   "pygments_lexer": "ipython3",
   "version": "3.11.5"
  }
 },
 "nbformat": 4,
 "nbformat_minor": 5
}
