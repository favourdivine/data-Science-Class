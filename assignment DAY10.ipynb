{
 "cells": [
  {
   "cell_type": "markdown",
   "id": "f3ff35f8",
   "metadata": {},
   "source": [
    "## exercise\n",
    "## write a program to the following to display patient record,calculate their checking fee based on the continent,check their body mass index note read and understand the question to know what attribute are needed¶¶"
   ]
  },
  {
   "cell_type": "code",
   "execution_count": 1,
   "id": "42204ce1",
   "metadata": {},
   "outputs": [],
   "source": [
    "class patientrecord:\n",
    "    def __init__(self,name,age,height,weight,complexion):\n",
    "        self.name= name\n",
    "        self.age= age\n",
    "        self.height= height\n",
    "        self.weight= weight\n",
    "        self.complexion= complexion\n",
    "    def start(self):\n",
    "        print(f'''______ patient record_____\n",
    "        NAME:{self.name}\n",
    "        AGE:{self.age}\n",
    "        HEIGHT:{self.height}\n",
    "        WEIGHT:{self.weight}\n",
    "        COMPLEXION:{self.complexion}\n",
    "        ''')\n",
    "    def continentprice(self):\n",
    "        option=input('what is your option,[nigeria,usa,kwanda,sweden,canada]')\n",
    "        if option =='nigeria':\n",
    "            print('The amount nigeria in dollars is $60')\n",
    "        elif option =='usa':\n",
    "            print('The amount usa in dollars is $80')\n",
    "        elif option =='kwanda':\n",
    "            print('The amount kwanda in dollars is $50')    \n",
    "        elif option =='sweden':\n",
    "            print('The amount sweden in dollars is $65')\n",
    "        elif option =='canada':\n",
    "            print('The amount canada in dollars is $75')\n",
    "            \n",
    "    def bodymassindex(self):\n",
    "        height=float(input('enter your height in meters:'))\n",
    "        weight=float(input('Enter your weight in kg:'))\n",
    "        bmi=weight/(height**2)\n",
    "        if bmi < 18.5:\n",
    "            print(f'your BMI is {bmi},you are underweight,see your doctor')\n",
    "        elif bmi >=18.5 and bmi<=24.99:\n",
    "            print(f'your BMI is {bmi},YOU ARE HEALTHY')\n",
    "        elif bmi >=25 and bmi<=30:\n",
    "            print(f'your BMI is {bmi},YOU ARE OVERWEIGHT, SEE YOUR DOCTOR')\n",
    "        elif bmi >=18.5 and bmi<=24.99:\n",
    "            print(f'your BMI is {bmi},YOU ARE OBESSE, SEE YOUR DOCTOR')\n",
    "        else:\n",
    "            print(f'your BMI is {bmi}, you are extremely obesity, see your doctor')\n",
    "health=patientrecord('julius',40, 9.0, 34,'Dark')"
   ]
  },
  {
   "cell_type": "code",
   "execution_count": 2,
   "id": "a80d3d03",
   "metadata": {},
   "outputs": [
    {
     "name": "stdout",
     "output_type": "stream",
     "text": [
      "enter your height in meters:9\n",
      "Enter your weight in kg:23\n",
      "your BMI is 0.2839506172839506,you are underweight,see your doctor\n"
     ]
    }
   ],
   "source": [
    "health.bodymassindex()"
   ]
  },
  {
   "cell_type": "code",
   "execution_count": 3,
   "id": "dc709b8a",
   "metadata": {},
   "outputs": [
    {
     "name": "stdout",
     "output_type": "stream",
     "text": [
      "what is your option,[nigeria,usa,kwanda,sweden,canada]usa\n",
      "The amount usa in dollars is $80\n"
     ]
    }
   ],
   "source": [
    "health.continentprice()"
   ]
  },
  {
   "cell_type": "code",
   "execution_count": 4,
   "id": "837e5d88",
   "metadata": {},
   "outputs": [
    {
     "name": "stdout",
     "output_type": "stream",
     "text": [
      "______ patient record_____\n",
      "        NAME:julius\n",
      "        AGE:40\n",
      "        HEIGHT:9.0\n",
      "        WEIGHT:34\n",
      "        COMPLEXION:Dark\n",
      "        \n"
     ]
    }
   ],
   "source": [
    "health.start()"
   ]
  },
  {
   "cell_type": "code",
   "execution_count": null,
   "id": "1954d528",
   "metadata": {},
   "outputs": [],
   "source": []
  }
 ],
 "metadata": {
  "kernelspec": {
   "display_name": "Python 3 (ipykernel)",
   "language": "python",
   "name": "python3"
  },
  "language_info": {
   "codemirror_mode": {
    "name": "ipython",
    "version": 3
   },
   "file_extension": ".py",
   "mimetype": "text/x-python",
   "name": "python",
   "nbconvert_exporter": "python",
   "pygments_lexer": "ipython3",
   "version": "3.9.12"
  }
 },
 "nbformat": 4,
 "nbformat_minor": 5
}
