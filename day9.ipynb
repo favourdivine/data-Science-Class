{
 "cells": [
  {
   "cell_type": "markdown",
   "id": "aa67cf73",
   "metadata": {},
   "source": [
    "## exercise\n",
    "## write a simulation program that has the following attribute [brand,model,color,year,speed]and\n",
    "## The following method [start,change gear,acceration,and stop]"
   ]
  },
  {
   "cell_type": "code",
   "execution_count": 9,
   "id": "486c5cc1",
   "metadata": {},
   "outputs": [
    {
     "ename": "SyntaxError",
     "evalue": "invalid syntax (104636306.py, line 10)",
     "output_type": "error",
     "traceback": [
      "\u001b[1;36m  Input \u001b[1;32mIn [9]\u001b[1;36m\u001b[0m\n\u001b[1;33m    while begin== self.attrl1\u001b[0m\n\u001b[1;37m                             ^\u001b[0m\n\u001b[1;31mSyntaxError\u001b[0m\u001b[1;31m:\u001b[0m invalid syntax\n"
     ]
    }
   ],
   "source": [
    "class simulation:\n",
    "    attrl1='start'\n",
    "    attrl2='change gear'\n",
    "    attrl3= 'gear'\n",
    "    attrl4= 'acceration'\n",
    "    attrl5= 'stop'\n",
    "    \n",
    "    def method(self):\n",
    "        brand=(input('begin'))\n",
    "        while begin== self.attrl1\n",
    "        print(f'you are about to start a simulation')\n",
    "        \n",
    "    def method2(self):\n",
    "        model=(input('what model is the car'))\n",
    "        while model==self.attrl4\n",
    "        print(f'the model of the car{model} determine the movement')\n",
    "        \n",
    "    def method3(self):\n",
    "        color=(input('what is the color'))\n",
    "        while color==self.attrl5\n",
    "        print(f'your car color{color} is succesfully updated')\n",
    "        \n",
    "    def method4(self):\n",
    "        speed=float(input('what is your speed limit'))\n",
    "        if speed >=250:\n",
    "            print(f'stop overspeeding{speed}')\n",
    "        else:\n",
    "            print(f' your speed is perfectly accurate the journey')\n",
    "            \n",
    "work=simulation()     "
   ]
  },
  {
   "cell_type": "code",
   "execution_count": 7,
   "id": "96955b44",
   "metadata": {},
   "outputs": [
    {
     "name": "stdout",
     "output_type": "stream",
     "text": [
      "brand:start\n",
      "MODEL:change gear\n",
      "COLOR:gear        \n",
      "YEAR:acceration        \n",
      "SPEED:stop        \n",
      "        \n"
     ]
    }
   ],
   "source": [
    "following.method()"
   ]
  },
  {
   "cell_type": "code",
   "execution_count": 23,
   "id": "636427bf",
   "metadata": {},
   "outputs": [],
   "source": [
    "class simulation:\n",
    "    def __init__(self,brand,model,color,year,speed):\n",
    "        self.brand= brand\n",
    "        self.model= model\n",
    "        self.color= color\n",
    "        self.year= year\n",
    "        self.speed=speed\n",
    "     \n",
    "    def start(self):\n",
    "        print(f'{self.brand} {self.model} has started ')\n",
    "    def gear (self):\n",
    "        option=input('choose gear option with,[1,2,3,4,5,R]:')\n",
    "        if option=='1':\n",
    "            print(f'Gear changed to one {self.speed}')\n",
    "            \n",
    "        elif option=='1':\n",
    "            print(f'Gear changed to one {self.speed}')\n",
    "            \n",
    "        elif option=='2':\n",
    "            print(f'Gear changed to two {self.speed}')\n",
    "            \n",
    "        elif option=='3':\n",
    "            print(f'Gear changed to three {self.speed}')\n",
    "            \n",
    "        elif option=='4':\n",
    "            print(f'Gear changed to four {self.speed}')\n",
    "            \n",
    "        elif option=='5':\n",
    "            print(f'Gear changed to five {self.speed}')\n",
    "            \n",
    "        elif option=='R':\n",
    "            print(f'Gear changed to reversed')\n",
    "            \n",
    "    def acceration(self):\n",
    "        option=input('what is your acceration selection[on,off]:')\n",
    "        if option=='on':\n",
    "            print('nitro engaged')\n",
    "        elif option =='off':\n",
    "            print('nitro disengaged')\n",
    "            \n",
    "    def stop(self):\n",
    "        print('ENGINE OFF!!')\n",
    "car1=simulation('mecerdes benz','4matic E20','black',2023,'500MPH')        "
   ]
  },
  {
   "cell_type": "code",
   "execution_count": 5,
   "id": "2068a61a",
   "metadata": {},
   "outputs": [
    {
     "name": "stdout",
     "output_type": "stream",
     "text": [
      "mecerdes benz 4matic E20 has started \n"
     ]
    }
   ],
   "source": [
    "car1.start()"
   ]
  },
  {
   "cell_type": "code",
   "execution_count": 6,
   "id": "7b5f01cf",
   "metadata": {},
   "outputs": [
    {
     "name": "stdout",
     "output_type": "stream",
     "text": [
      "what is your acceration selection[on,off]:on\n",
      "nitro engaged\n"
     ]
    }
   ],
   "source": [
    "car1.acceration()"
   ]
  },
  {
   "cell_type": "code",
   "execution_count": 24,
   "id": "2c5e2300",
   "metadata": {},
   "outputs": [
    {
     "name": "stdout",
     "output_type": "stream",
     "text": [
      "choose gear option with,[1,2,3,4,5,R]:5\n",
      "Gear changed to five 500MPH\n"
     ]
    }
   ],
   "source": [
    "car1.gear()"
   ]
  },
  {
   "cell_type": "code",
   "execution_count": 13,
   "id": "b763d158",
   "metadata": {},
   "outputs": [],
   "source": [
    "class simulation2(simulation):\n",
    "      def openroof(self):\n",
    "        option=input('what is your open rood[open,close]:')\n",
    "        if option=='open':\n",
    "            print('roof opened')\n",
    "        elif option =='close':\n",
    "            print('roof opened')\n",
    "car2=simulation2('mecerdes benz','4matic E20','black',2023,500)"
   ]
  },
  {
   "cell_type": "code",
   "execution_count": 15,
   "id": "4b1aa469",
   "metadata": {},
   "outputs": [
    {
     "name": "stdout",
     "output_type": "stream",
     "text": [
      "mecerdes benz 4matic E20 has started \n"
     ]
    }
   ],
   "source": [
    "car2.start()"
   ]
  },
  {
   "cell_type": "code",
   "execution_count": 17,
   "id": "27db03fc",
   "metadata": {},
   "outputs": [
    {
     "name": "stdout",
     "output_type": "stream",
     "text": [
      "what is your acceration selection[on,off]:on\n",
      "nitro engaged\n"
     ]
    }
   ],
   "source": [
    "car2.acceration()"
   ]
  },
  {
   "cell_type": "code",
   "execution_count": null,
   "id": "25cf59c7",
   "metadata": {},
   "outputs": [],
   "source": []
  }
 ],
 "metadata": {
  "kernelspec": {
   "display_name": "Python 3 (ipykernel)",
   "language": "python",
   "name": "python3"
  },
  "language_info": {
   "codemirror_mode": {
    "name": "ipython",
    "version": 3
   },
   "file_extension": ".py",
   "mimetype": "text/x-python",
   "name": "python",
   "nbconvert_exporter": "python",
   "pygments_lexer": "ipython3",
   "version": "3.9.12"
  }
 },
 "nbformat": 4,
 "nbformat_minor": 5
}
