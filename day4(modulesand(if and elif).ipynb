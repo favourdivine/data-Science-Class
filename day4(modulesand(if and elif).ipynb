{
 "cells": [
  {
   "cell_type": "markdown",
   "id": "e469df81",
   "metadata": {},
   "source": [
    "### MODULES"
   ]
  },
  {
   "cell_type": "code",
   "execution_count": 1,
   "id": "bbbef61e",
   "metadata": {},
   "outputs": [
    {
     "name": "stdout",
     "output_type": "stream",
     "text": [
      "['__doc__', '__loader__', '__name__', '__package__', '__spec__', 'acos', 'acosh', 'asin', 'asinh', 'atan', 'atan2', 'atanh', 'ceil', 'comb', 'copysign', 'cos', 'cosh', 'degrees', 'dist', 'e', 'erf', 'erfc', 'exp', 'expm1', 'fabs', 'factorial', 'floor', 'fmod', 'frexp', 'fsum', 'gamma', 'gcd', 'hypot', 'inf', 'isclose', 'isfinite', 'isinf', 'isnan', 'isqrt', 'lcm', 'ldexp', 'lgamma', 'log', 'log10', 'log1p', 'log2', 'modf', 'nan', 'nextafter', 'perm', 'pi', 'pow', 'prod', 'radians', 'remainder', 'sin', 'sinh', 'sqrt', 'tan', 'tanh', 'tau', 'trunc', 'ulp']\n"
     ]
    }
   ],
   "source": [
    "import math\n",
    "print(dir(math))"
   ]
  },
  {
   "cell_type": "code",
   "execution_count": 2,
   "id": "d4733e88",
   "metadata": {},
   "outputs": [
    {
     "name": "stdout",
     "output_type": "stream",
     "text": [
      "15\n"
     ]
    }
   ],
   "source": [
    "num=15.6\n",
    "print(math.floor(num))"
   ]
  },
  {
   "cell_type": "code",
   "execution_count": 3,
   "id": "d9b2a04b",
   "metadata": {},
   "outputs": [
    {
     "name": "stdout",
     "output_type": "stream",
     "text": [
      "16\n",
      "3.9496835316262997\n",
      "-0.9941776251838151\n"
     ]
    }
   ],
   "source": [
    "print(math.ceil(num))\n",
    "print(math.sqrt(num))\n",
    "print(math.cos(num))"
   ]
  },
  {
   "cell_type": "code",
   "execution_count": 6,
   "id": "06990327",
   "metadata": {},
   "outputs": [
    {
     "name": "stdout",
     "output_type": "stream",
     "text": [
      "['Counter', 'Decimal', 'Fraction', 'NormalDist', 'StatisticsError', '__all__', '__builtins__', '__cached__', '__doc__', '__file__', '__loader__', '__name__', '__package__', '__spec__', '_coerce', '_convert', '_exact_ratio', '_fail_neg', '_find_lteq', '_find_rteq', '_isfinite', '_normal_dist_inv_cdf', '_ss', '_sum', 'bisect_left', 'bisect_right', 'erf', 'exp', 'fabs', 'fmean', 'fsum', 'geometric_mean', 'groupby', 'harmonic_mean', 'hypot', 'itemgetter', 'log', 'math', 'mean', 'median', 'median_grouped', 'median_high', 'median_low', 'mode', 'multimode', 'numbers', 'pstdev', 'pvariance', 'quantiles', 'random', 'sqrt', 'stdev', 'tau', 'variance']\n"
     ]
    }
   ],
   "source": [
    "import statistics as stat\n",
    "print(dir(stat))"
   ]
  },
  {
   "cell_type": "code",
   "execution_count": 7,
   "id": "cb9be770",
   "metadata": {},
   "outputs": [
    {
     "name": "stdout",
     "output_type": "stream",
     "text": [
      "46.77777777777778\n",
      "36\n",
      "25.989314043361063\n"
     ]
    }
   ],
   "source": [
    "numbers=[45,85,96,36,35,25,28,45,26]\n",
    "print(stat.mean(numbers))\n",
    "print(stat.median(numbers))\n",
    "print(stat.stdev(numbers))"
   ]
  },
  {
   "cell_type": "code",
   "execution_count": 8,
   "id": "0234935f",
   "metadata": {},
   "outputs": [
    {
     "name": "stdout",
     "output_type": "stream",
     "text": [
      "['BPF', 'LOG4', 'NV_MAGICCONST', 'RECIP_BPF', 'Random', 'SG_MAGICCONST', 'SystemRandom', 'TWOPI', '_Sequence', '_Set', '__all__', '__builtins__', '__cached__', '__doc__', '__file__', '__loader__', '__name__', '__package__', '__spec__', '_accumulate', '_acos', '_bisect', '_ceil', '_cos', '_e', '_exp', '_floor', '_inst', '_log', '_os', '_pi', '_random', '_repeat', '_sha512', '_sin', '_sqrt', '_test', '_test_generator', '_urandom', '_warn', 'betavariate', 'choice', 'choices', 'expovariate', 'gammavariate', 'gauss', 'getrandbits', 'getstate', 'lognormvariate', 'normalvariate', 'paretovariate', 'randbytes', 'randint', 'random', 'randrange', 'sample', 'seed', 'setstate', 'shuffle', 'triangular', 'uniform', 'vonmisesvariate', 'weibullvariate']\n"
     ]
    }
   ],
   "source": [
    "import random\n",
    "print(dir(random))"
   ]
  },
  {
   "cell_type": "code",
   "execution_count": 9,
   "id": "f4a2c3fa",
   "metadata": {},
   "outputs": [
    {
     "name": "stdout",
     "output_type": "stream",
     "text": [
      "[45, 85, 25, 35, 36, 96, 28, 26, 45]\n"
     ]
    }
   ],
   "source": [
    "random.shuffle(numbers)\n",
    "print(numbers)"
   ]
  },
  {
   "cell_type": "code",
   "execution_count": 10,
   "id": "950293ea",
   "metadata": {},
   "outputs": [
    {
     "data": {
      "text/plain": [
       "26"
      ]
     },
     "execution_count": 10,
     "metadata": {},
     "output_type": "execute_result"
    }
   ],
   "source": [
    "random.choice(numbers)"
   ]
  },
  {
   "cell_type": "code",
   "execution_count": 11,
   "id": "5e95e26c",
   "metadata": {},
   "outputs": [
    {
     "data": {
      "text/plain": [
       "38"
      ]
     },
     "execution_count": 11,
     "metadata": {},
     "output_type": "execute_result"
    }
   ],
   "source": [
    "random.randint(14,50) # ran interger"
   ]
  },
  {
   "cell_type": "code",
   "execution_count": 12,
   "id": "804b3a2d",
   "metadata": {},
   "outputs": [
    {
     "name": "stdout",
     "output_type": "stream",
     "text": [
      "['Formatter', 'Template', '_ChainMap', '__all__', '__builtins__', '__cached__', '__doc__', '__file__', '__loader__', '__name__', '__package__', '__spec__', '_re', '_sentinel_dict', '_string', 'ascii_letters', 'ascii_lowercase', 'ascii_uppercase', 'capwords', 'digits', 'hexdigits', 'octdigits', 'printable', 'punctuation', 'whitespace']\n"
     ]
    }
   ],
   "source": [
    "import string\n",
    "print(dir(string))"
   ]
  },
  {
   "cell_type": "code",
   "execution_count": 13,
   "id": "4f7c9dd6",
   "metadata": {},
   "outputs": [
    {
     "data": {
      "text/plain": [
       "'abcdefghijklmnopqrstuvwxyzABCDEFGHIJKLMNOPQRSTUVWXYZ'"
      ]
     },
     "execution_count": 13,
     "metadata": {},
     "output_type": "execute_result"
    }
   ],
   "source": [
    "string.ascii_letters"
   ]
  },
  {
   "cell_type": "code",
   "execution_count": 15,
   "id": "65e88d4c",
   "metadata": {},
   "outputs": [
    {
     "data": {
      "text/plain": [
       "'!\"#$%&\\'()*+,-./:;<=>?@[\\\\]^_`{|}~'"
      ]
     },
     "execution_count": 15,
     "metadata": {},
     "output_type": "execute_result"
    }
   ],
   "source": [
    "string.punctuation"
   ]
  },
  {
   "cell_type": "code",
   "execution_count": 16,
   "id": "9e3576a8",
   "metadata": {},
   "outputs": [
    {
     "name": "stdout",
     "output_type": "stream",
     "text": [
      "['A', 'ASCII', 'DEBUG', 'DOTALL', 'I', 'IGNORECASE', 'L', 'LOCALE', 'M', 'MULTILINE', 'Match', 'Pattern', 'RegexFlag', 'S', 'Scanner', 'T', 'TEMPLATE', 'U', 'UNICODE', 'VERBOSE', 'X', '_MAXCACHE', '__all__', '__builtins__', '__cached__', '__doc__', '__file__', '__loader__', '__name__', '__package__', '__spec__', '__version__', '_cache', '_compile', '_compile_repl', '_expand', '_locale', '_pickle', '_special_chars_map', '_subx', 'compile', 'copyreg', 'enum', 'error', 'escape', 'findall', 'finditer', 'fullmatch', 'functools', 'match', 'purge', 'search', 'split', 'sre_compile', 'sre_parse', 'sub', 'subn', 'template']\n"
     ]
    }
   ],
   "source": [
    "import re\n",
    "print(dir(re)) # regular expression"
   ]
  },
  {
   "cell_type": "code",
   "execution_count": 17,
   "id": "3343e8c4",
   "metadata": {},
   "outputs": [
    {
     "data": {
      "text/plain": [
       "['fgfggffggfg', '']"
      ]
     },
     "execution_count": 17,
     "metadata": {},
     "output_type": "execute_result"
    }
   ],
   "source": [
    "re.split('d','fgfggffggfgd')"
   ]
  },
  {
   "cell_type": "code",
   "execution_count": 18,
   "id": "cbbc9ab0",
   "metadata": {},
   "outputs": [
    {
     "data": {
      "text/plain": [
       "['f', 'f', 'f']"
      ]
     },
     "execution_count": 18,
     "metadata": {},
     "output_type": "execute_result"
    }
   ],
   "source": [
    "re.findall('f','fyftycgvjhjbgcfdsdh')"
   ]
  },
  {
   "cell_type": "markdown",
   "id": "99f9ff0a",
   "metadata": {},
   "source": [
    "## CONDITIONAL SELECTION"
   ]
  },
  {
   "cell_type": "code",
   "execution_count": 23,
   "id": "41ad3154",
   "metadata": {},
   "outputs": [
    {
     "name": "stdout",
     "output_type": "stream",
     "text": [
      "Enter your age:19\n",
      "you are eligible to vote\n"
     ]
    }
   ],
   "source": [
    "age=int(input('Enter your age:'))\n",
    "if age >= 18:\n",
    "    print('you are eligible to vote')"
   ]
  },
  {
   "cell_type": "code",
   "execution_count": 24,
   "id": "8777d6b3",
   "metadata": {},
   "outputs": [
    {
     "name": "stdout",
     "output_type": "stream",
     "text": [
      "Enter your age:12\n",
      "sorry you are not eligible to vote\n"
     ]
    }
   ],
   "source": [
    "age=int(input('Enter your age:'))\n",
    "if age >= 18:\n",
    "    print('you are eligible to vote')\n",
    "else:\n",
    "    print('sorry you are not eligible to vote')"
   ]
  },
  {
   "cell_type": "code",
   "execution_count": 27,
   "id": "e8da36d4",
   "metadata": {},
   "outputs": [
    {
     "name": "stdout",
     "output_type": "stream",
     "text": [
      "Enter your age:45\n",
      "enter your region:East\n",
      "you are eligible to vote\n"
     ]
    }
   ],
   "source": [
    "age=int(input('Enter your age:'))\n",
    "region= input('enter your region:')\n",
    "if age >= 18 and region == 'East':\n",
    "    print('you are eligible to vote')\n",
    "else:\n",
    "    print('sorry Either you are not up to 18 or region is not East ,you are not eligible for the job offer')\n",
    "    "
   ]
  },
  {
   "cell_type": "markdown",
   "id": "33dd49f6",
   "metadata": {},
   "source": [
    "## NEXTED IF CONDITION "
   ]
  },
  {
   "cell_type": "code",
   "execution_count": null,
   "id": "89358fb9",
   "metadata": {},
   "outputs": [],
   "source": [
    "state=['abia','Enugu','kwara','FCT','Kano','Akwa-ibom','Delta','sokoto']\n",
    "age=int(input('Enter your age:'))\n",
    "region= input('enter your region:')\n",
    "if age >= 18 and region == 'south East':\n",
    "    print(f'you are eligible for the job offer in {random.choice(state)}')\n",
    "else:\n",
    "    if age >= 18 and region == 'south west':\n",
    "        print(f'you are eligible for the job offer in {random.choice(state)}')\n",
    "    else: \n",
    "        if age >= 18 and region == 'North East':\n",
    "            print(f'you are eligible for the job offer in {random.choice(state)}')\n",
    "        else:\n",
    "            if age >= 18 and region == 'south south':\n",
    "                print(f'you are eligible for the offer in {random.choice(state)}')\n",
    "            else:\n",
    "                print('sorry Either you are not up to 18 or region is not available, you are not eligible for the job offer')"
   ]
  },
  {
   "cell_type": "code",
   "execution_count": 5,
   "id": "1d0ae787",
   "metadata": {},
   "outputs": [
    {
     "name": "stdout",
     "output_type": "stream",
     "text": [
      "Enter your age:90\n",
      "enter your region:south south\n"
     ]
    },
    {
     "ename": "NameError",
     "evalue": "name 'random' is not defined",
     "output_type": "error",
     "traceback": [
      "\u001b[1;31m---------------------------------------------------------------------------\u001b[0m",
      "\u001b[1;31mNameError\u001b[0m                                 Traceback (most recent call last)",
      "Input \u001b[1;32mIn [5]\u001b[0m, in \u001b[0;36m<cell line: 5>\u001b[1;34m()\u001b[0m\n\u001b[0;32m     10\u001b[0m      \u001b[38;5;28mprint\u001b[39m(\u001b[38;5;124mf\u001b[39m\u001b[38;5;124m'\u001b[39m\u001b[38;5;124myou are eligible for the job offer in \u001b[39m\u001b[38;5;132;01m{\u001b[39;00mrandom\u001b[38;5;241m.\u001b[39mchoice(state)\u001b[38;5;132;01m}\u001b[39;00m\u001b[38;5;124m'\u001b[39m)\n\u001b[0;32m     11\u001b[0m \u001b[38;5;28;01melif\u001b[39;00m age \u001b[38;5;241m>\u001b[39m\u001b[38;5;241m=\u001b[39m \u001b[38;5;241m18\u001b[39m \u001b[38;5;129;01mand\u001b[39;00m region \u001b[38;5;241m==\u001b[39m \u001b[38;5;124m'\u001b[39m\u001b[38;5;124msouth south\u001b[39m\u001b[38;5;124m'\u001b[39m:\n\u001b[1;32m---> 12\u001b[0m      \u001b[38;5;28mprint\u001b[39m(\u001b[38;5;124mf\u001b[39m\u001b[38;5;124m'\u001b[39m\u001b[38;5;124myou are eligible for the job offer in\u001b[39m\u001b[38;5;132;01m{\u001b[39;00mrandom\u001b[38;5;241m.\u001b[39mchoice(state)\u001b[38;5;132;01m}\u001b[39;00m\u001b[38;5;124m'\u001b[39m)\n\u001b[0;32m     13\u001b[0m \u001b[38;5;28;01melse\u001b[39;00m:\n\u001b[0;32m     14\u001b[0m     \u001b[38;5;28mprint\u001b[39m(\u001b[38;5;124m'\u001b[39m\u001b[38;5;124msorry Either you are not up to 18 or region is not available, you are not eligible for the job offer\u001b[39m\u001b[38;5;124m'\u001b[39m)\n",
      "\u001b[1;31mNameError\u001b[0m: name 'random' is not defined"
     ]
    }
   ],
   "source": [
    "## else-if (elsif)\n",
    "state=['abia','Enugu','kwara','FCT','Kano','Akwa-ibom','Delta','sokoto']\n",
    "age=int(input('Enter your age:'))\n",
    "region= input('enter your region:')\n",
    "if   age >= 18 and region == 'south East':\n",
    "     print(f'you are eligible for the job offer in {random.choice(state)}')\n",
    "elif age >= 18 and region == 'south west':\n",
    "     print(f'you are eligible for the job offer in {random.choice(state)}')\n",
    "elif age >= 18 and region == 'North East':\n",
    "     print(f'you are eligible for the job offer in {random.choice(state)}')\n",
    "elif age >= 18 and region == 'south south':\n",
    "     print(f'you are eligible for the job offer in {random.choice(state)}')\n",
    "else:\n",
    "    print('sorry Either you are not up to 18 or region is not available, you are not eligible for the job offer')"
   ]
  },
  {
   "cell_type": "markdown",
   "id": "c9ea2a25",
   "metadata": {},
   "source": [
    "### AS a DEVELOPER M AND D AND BANK YOU ARE ASKED TO WRITE A SIMPLE PROGRAM TO DETERMINE IF A CUSTOMER HAS A MET CERTAIN \n",
    "## ELIGIBILITY CRITERIA FOR A REWARDS PROGRAM \n",
    "\n",
    "### USE THE FOLLOWING CRITERIA \n",
    "## (MONTHLY TRANSACTION >=100,000 AND MONTHLY TRANSACTION<500,000)AND (SAVINGS>500,000 AND SAVINGS <1,000,000)\n",
    "## (MONTHLY TRANSACTION >=500,000 AND MONTHLY TRANSACTION <1,000,000) AND SAVINGS >= 1,000,000 AND SAVINGS < 2,000,000\n",
    "## (MONTHLY TRANSACTION >= 5,000,000 AND MONTHLY TRANSACTION <1,000,000) AND SAVINGS >= 10,000,000 AND SAVINGS < 20,000,000\n",
    "## ELSE NOT ELIGIBLE "
   ]
  },
  {
   "cell_type": "code",
   "execution_count": 1,
   "id": "bda266d1",
   "metadata": {},
   "outputs": [
    {
     "name": "stdout",
     "output_type": "stream",
     "text": [
      "customer saving1:90900000\n",
      "monthly transaction1:9000000\n",
      "customer saving2:6000000\n",
      "monthly transaction2:6000000\n",
      "you are not eligible for the rewards either you the not up with the monthly transaction or saving\n"
     ]
    }
   ],
   "source": [
    "sv=float(input('customer saving1:'))\n",
    "mt=float(input('monthly transaction1:'))\n",
    "sv2=float(input('customer saving2:'))\n",
    "mt2=float(input('monthly transaction2:'))\n",
    "if   (mt>=100000 and mt2<500000) and (sv>500000 and sv2<100000):\n",
    "    print(f'you are eligible for the beautiful rewards')\n",
    "elif (mt>=500000 and mt2<1000000) and (sv>=1000000 and sv2<2000000):\n",
    "    print(f' you are eligible for the beautiful rewards')\n",
    "elif (mt>=5000000 and mt2<1000000) and (sv>=10000000 and sv2<20000000):\n",
    "    print(f' you are eligible for the beautiful rewards')\n",
    "else:\n",
    "    print(f'you are not eligible for the rewards either you the not up with the monthly transaction or saving')     \n"
   ]
  },
  {
   "cell_type": "markdown",
   "id": "dae7ac53",
   "metadata": {},
   "source": []
  },
  {
   "cell_type": "code",
   "execution_count": null,
   "id": "7232f6af",
   "metadata": {},
   "outputs": [],
   "source": []
  },
  {
   "cell_type": "code",
   "execution_count": null,
   "id": "db87f153",
   "metadata": {},
   "outputs": [],
   "source": []
  }
 ],
 "metadata": {
  "kernelspec": {
   "display_name": "Python 3 (ipykernel)",
   "language": "python",
   "name": "python3"
  },
  "language_info": {
   "codemirror_mode": {
    "name": "ipython",
    "version": 3
   },
   "file_extension": ".py",
   "mimetype": "text/x-python",
   "name": "python",
   "nbconvert_exporter": "python",
   "pygments_lexer": "ipython3",
   "version": "3.9.12"
  }
 },
 "nbformat": 4,
 "nbformat_minor": 5
}
