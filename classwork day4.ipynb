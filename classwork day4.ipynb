{
 "cells": [
  {
   "cell_type": "code",
   "execution_count": 2,
   "id": "ff62536a",
   "metadata": {},
   "outputs": [
    {
     "name": "stdout",
     "output_type": "stream",
     "text": [
      "customer saving:10000000\n",
      "customer montly transaction:50000000\n",
      "sorry you are are not eligible for any rewards due to some target not meant\n"
     ]
    }
   ],
   "source": [
    "sv=float(input('customer saving:'))\n",
    "mt=float(input('customer montly transaction:'))\n",
    "if (mt>=100000 and mt<500000) and(sv>500000 and sv<100000):\n",
    "    print(f'you are eligible for the reward')\n",
    "elif(mt>=500000 and mt<1000000) and (sv>100000 and sv<2000000):\n",
    "    print(f'you are eligible for the reward')\n",
    "elif(mt>=5000000 and mt<1000000) and (sv>=10000000 and sv<20000000):\n",
    "    print(f'you are eligible for the reward')\n",
    "else:\n",
    "    print(f'sorry you are are not eligible for any rewards due to some target not meant')\n",
    "    "
   ]
  },
  {
   "cell_type": "code",
   "execution_count": null,
   "id": "3eec5626",
   "metadata": {},
   "outputs": [],
   "source": []
  }
 ],
 "metadata": {
  "kernelspec": {
   "display_name": "Python 3 (ipykernel)",
   "language": "python",
   "name": "python3"
  },
  "language_info": {
   "codemirror_mode": {
    "name": "ipython",
    "version": 3
   },
   "file_extension": ".py",
   "mimetype": "text/x-python",
   "name": "python",
   "nbconvert_exporter": "python",
   "pygments_lexer": "ipython3",
   "version": "3.9.12"
  }
 },
 "nbformat": 4,
 "nbformat_minor": 5
}
