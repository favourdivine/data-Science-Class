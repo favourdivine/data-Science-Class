{
 "cells": [
  {
   "cell_type": "code",
   "execution_count": 1,
   "id": "7ae50d79",
   "metadata": {},
   "outputs": [
    {
     "name": "stdout",
     "output_type": "stream",
     "text": [
      "MY NAME IS JAMES\n"
     ]
    }
   ],
   "source": [
    "word='MY NAME IS JAMES' \n",
    "print(word)"
   ]
  },
  {
   "cell_type": "code",
   "execution_count": 8,
   "id": "a7ca448e",
   "metadata": {},
   "outputs": [
    {
     "name": "stdout",
     "output_type": "stream",
     "text": [
      "i'm froma well -known village with good culture in kogi state\n"
     ]
    }
   ],
   "source": [
    "state='i\\'m froma well -known village with good culture in kogi state'\n",
    "print(state)"
   ]
  },
  {
   "cell_type": "code",
   "execution_count": 13,
   "id": "11faa861",
   "metadata": {},
   "outputs": [
    {
     "name": "stdout",
     "output_type": "stream",
     "text": [
      "i have 3 dollars so i can buy 450 football for 1000 dollars\n"
     ]
    }
   ],
   "source": [
    "totalmoney=1000\n",
    "quantity=3\n",
    "price=450\n",
    "report='i have {} dollars so i can buy {} football for {} dollars'\n",
    "print(report.format(quantity,price,totalmoney))"
   ]
  },
  {
   "cell_type": "code",
   "execution_count": 15,
   "id": "1b819a37",
   "metadata": {},
   "outputs": [
    {
     "name": "stdout",
     "output_type": "stream",
     "text": [
      " I have a beautiful smile that brightens everyone face\n",
      "that makes me happy,\n",
      "when i sleep all i think is the smile i put on everyone face, \n",
      "sleep sleep beautiful angel, \n",
      "wake up happier and make everyone happy\n"
     ]
    }
   ],
   "source": [
    "poem=''' I have a beautiful smile that brightens everyone face\n",
    "that makes me happy,\n",
    "when i sleep all i think is the smile i put on everyone face, \n",
    "sleep sleep beautiful angel, \n",
    "wake up happier and make everyone happy'''\n",
    "print(poem)"
   ]
  },
  {
   "cell_type": "code",
   "execution_count": 17,
   "id": "a1ea18a0",
   "metadata": {},
   "outputs": [
    {
     "name": "stdout",
     "output_type": "stream",
     "text": [
      " I HAVE A BEAUTIFUL SMILE THAT BRIGHTENS EVERYONE FACE\n",
      "THAT MAKES ME HAPPY,\n",
      "WHEN I SLEEP ALL I THINK IS THE SMILE I PUT ON EVERYONE FACE, \n",
      "SLEEP SLEEP BEAUTIFUL ANGEL, \n",
      "WAKE UP HAPPIER AND MAKE EVERYONE HAPPY\n"
     ]
    }
   ],
   "source": [
    "print(poem.upper())"
   ]
  },
  {
   "cell_type": "code",
   "execution_count": null,
   "id": "30f95723",
   "metadata": {},
   "outputs": [],
   "source": []
  }
 ],
 "metadata": {
  "kernelspec": {
   "display_name": "Python 3 (ipykernel)",
   "language": "python",
   "name": "python3"
  },
  "language_info": {
   "codemirror_mode": {
    "name": "ipython",
    "version": 3
   },
   "file_extension": ".py",
   "mimetype": "text/x-python",
   "name": "python",
   "nbconvert_exporter": "python",
   "pygments_lexer": "ipython3",
   "version": "3.10.9"
  }
 },
 "nbformat": 4,
 "nbformat_minor": 5
}
