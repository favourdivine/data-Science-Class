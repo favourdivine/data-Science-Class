{
 "cells": [
  {
   "cell_type": "markdown",
   "id": "ea6e9bc4",
   "metadata": {},
   "source": [
    "## function"
   ]
  },
  {
   "cell_type": "code",
   "execution_count": 2,
   "id": "79fbc213",
   "metadata": {},
   "outputs": [
    {
     "name": "stdout",
     "output_type": "stream",
     "text": [
      "Welcome to python class\n"
     ]
    }
   ],
   "source": [
    "def greet():\n",
    "    print('Welcome to python class')\n",
    "greet()    "
   ]
  },
  {
   "cell_type": "code",
   "execution_count": 3,
   "id": "014ab68e",
   "metadata": {},
   "outputs": [
    {
     "name": "stdout",
     "output_type": "stream",
     "text": [
      "Welcome to python class\n"
     ]
    }
   ],
   "source": [
    "greet()"
   ]
  },
  {
   "cell_type": "code",
   "execution_count": 9,
   "id": "f91aaaf1",
   "metadata": {},
   "outputs": [
    {
     "name": "stdout",
     "output_type": "stream",
     "text": [
      "Welcome to phyton class job\n"
     ]
    }
   ],
   "source": [
    "def greet2(name):\n",
    "    print(f'Welcome to phyton class {name}')\n",
    "greet2('job')    "
   ]
  },
  {
   "cell_type": "code",
   "execution_count": 14,
   "id": "c94e9de0",
   "metadata": {},
   "outputs": [
    {
     "name": "stdout",
     "output_type": "stream",
     "text": [
      " ______________ CITIZEN DETAILS_____________\n",
      "    NAME:sam\n",
      "    GENDER:male\n",
      "    AGE:30\n",
      "  \n",
      "you are eligible for to vote\n"
     ]
    }
   ],
   "source": [
    "def vote(name,gender,age):\n",
    "    print(f''' ______________ CITIZEN DETAILS_____________\n",
    "    NAME:{name}\n",
    "    GENDER:{gender}\n",
    "    AGE:{age}\n",
    "  ''')\n",
    "    if age > 18:\n",
    "        print('you are eligible for to vote')\n",
    "    else:\n",
    "        print('not eligible to vote')\n",
    "vote('sam','male',30)        "
   ]
  },
  {
   "cell_type": "code",
   "execution_count": 11,
   "id": "3f0afa98",
   "metadata": {},
   "outputs": [
    {
     "name": "stdout",
     "output_type": "stream",
     "text": [
      " ______________ CITIZEN DETAILS_____________\n",
      "    NAME:mary\n",
      "    GENDER:female\n",
      "    AGE:15\n",
      "  \n",
      "not eligible to vote\n"
     ]
    }
   ],
   "source": [
    "vote('mary','female',15)"
   ]
  },
  {
   "cell_type": "code",
   "execution_count": 12,
   "id": "e5419227",
   "metadata": {},
   "outputs": [
    {
     "name": "stdout",
     "output_type": "stream",
     "text": [
      " ______________ CITIZEN DETAILS_____________\n",
      "    NAME:sam\n",
      "    GENDER:male\n",
      "    AGE:18\n",
      "  \n",
      "not eligible to vote\n"
     ]
    }
   ],
   "source": [
    "def vote(name,gender,age =18):\n",
    "    print(f''' ______________ CITIZEN DETAILS_____________\n",
    "    NAME:{name}\n",
    "    GENDER:{gender}\n",
    "    AGE:{age}\n",
    "  ''')\n",
    "    if age > 18:\n",
    "        print('you are eligible for to vote')\n",
    "    else:\n",
    "        print('not eligible to vote')\n",
    "vote('sam','male',)        "
   ]
  },
  {
   "cell_type": "markdown",
   "id": "87d298d7",
   "metadata": {},
   "source": [
    "# excise\n",
    "# using a function write a program to deliver an item until it is successful"
   ]
  },
  {
   "cell_type": "code",
   "execution_count": 1,
   "id": "7cfc3a0d",
   "metadata": {},
   "outputs": [
    {
     "name": "stdout",
     "output_type": "stream",
     "text": [
      "item iphone 14 delivery failed,trying again!!!\n",
      "item iphone 14 delivery failed,trying again!!!\n",
      "item iphone 14 delivery failed,trying again!!!\n",
      "item iphone 14 delivery failed,trying again!!!\n",
      "item iphone 14 delivery failed,trying again!!!\n",
      "item iphone 14 delivery failed,trying again!!!\n",
      "item iphone 14 delivery failed,trying again!!!\n",
      "item iphone 14 delivered successfully\n"
     ]
    }
   ],
   "source": [
    "import random\n",
    "def delivery_successful():\n",
    "    success_rate = random.randint(1,100)\n",
    "    if success_rate >= 85:\n",
    "        return True\n",
    "    else:\n",
    "        return False\n",
    "def deliver_item(item):\n",
    "    \n",
    "    delivery_attempts =0\n",
    "    while True:\n",
    "        delivery_attempts += 1\n",
    "        if delivery_successful():\n",
    "            print(f'item {item} delivered successfully')\n",
    "            break\n",
    "        else:\n",
    "            print(f'item {item} delivery failed,trying again!!!')\n",
    "            \n",
    "            \n",
    "deliver_item('iphone 14')           "
   ]
  },
  {
   "cell_type": "code",
   "execution_count": 2,
   "id": "ca10abf6",
   "metadata": {},
   "outputs": [
    {
     "name": "stdout",
     "output_type": "stream",
     "text": [
      "math score:12\n",
      "physics score:12\n",
      "geography:12\n",
      "c.r.k:12\n",
      "biology:12\n",
      "agric:12\n",
      "health edu:12\n",
      "f.math:12\n",
      "your averge score in 8 subject is 12.0, your grade is too low\n"
     ]
    }
   ],
   "source": [
    "def gradessystem():\n",
    "    sub1=float(input('math score:'))\n",
    "    sub2=float(input('physics score:'))\n",
    "    sub3=float(input('geography:'))\n",
    "    sub4=float(input('c.r.k:'))\n",
    "    sub5=float(input('biology:'))\n",
    "    sub6=float(input('agric:'))\n",
    "    sub7=float(input('health edu:'))\n",
    "    sub8=float(input('f.math:'))\n",
    "    avg=((sub1+sub2+sub3+sub4+sub5+sub6+sub7+sub8)/8)\n",
    "    if avg >=70 and avg <=100:\n",
    "        print(f'your averge score in 8 subject is {avg}, your grade is A')\n",
    "    elif avg >=60 and avg<= 69.99:\n",
    "        print(f'your averge score in 8 subject is {avg}, your grade is B')\n",
    "    elif avg >= 50 and avg <= 59.99:\n",
    "        print(f'your averge score in 8 subject is {avg}, your grade is c')\n",
    "    elif avg >= 40 and avg <= 49.99:\n",
    "        print(f'your averge score in 8 subject is {avg}, your grade is D')\n",
    "    elif avg >= 31 and avg <=39.99:\n",
    "        print(f'your averge score in 8 subject is {avg}, your grade is f')\n",
    "    else:\n",
    "        print(f'your averge score in 8 subject is {avg}, your grade is too low')\n",
    "        \n",
    "gradessystem()\n",
    "\n"
   ]
  },
  {
   "cell_type": "code",
   "execution_count": null,
   "id": "ab933778",
   "metadata": {},
   "outputs": [],
   "source": []
  }
 ],
 "metadata": {
  "kernelspec": {
   "display_name": "Python 3 (ipykernel)",
   "language": "python",
   "name": "python3"
  },
  "language_info": {
   "codemirror_mode": {
    "name": "ipython",
    "version": 3
   },
   "file_extension": ".py",
   "mimetype": "text/x-python",
   "name": "python",
   "nbconvert_exporter": "python",
   "pygments_lexer": "ipython3",
   "version": "3.9.12"
  }
 },
 "nbformat": 4,
 "nbformat_minor": 5
}
