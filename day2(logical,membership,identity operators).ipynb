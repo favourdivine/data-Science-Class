{
 "cells": [
  {
   "cell_type": "markdown",
   "id": "df91bc8c",
   "metadata": {},
   "source": [
    "# DATA TYPE CONVERSION "
   ]
  },
  {
   "cell_type": "code",
   "execution_count": 2,
   "id": "7268dc1e",
   "metadata": {},
   "outputs": [
    {
     "name": "stdout",
     "output_type": "stream",
     "text": [
      "14\n"
     ]
    }
   ],
   "source": [
    "num1 = int(14.5)\n",
    "print(num1)\n",
    "# float canbe converted to interger "
   ]
  },
  {
   "cell_type": "code",
   "execution_count": 3,
   "id": "483b2315",
   "metadata": {},
   "outputs": [
    {
     "name": "stdout",
     "output_type": "stream",
     "text": [
      "14\n"
     ]
    }
   ],
   "source": [
    "print(str(num1))\n",
    "# interger can be converted to string"
   ]
  },
  {
   "cell_type": "code",
   "execution_count": 4,
   "id": "cf06f3a1",
   "metadata": {},
   "outputs": [
    {
     "name": "stdout",
     "output_type": "stream",
     "text": [
      "14.0\n"
     ]
    }
   ],
   "source": [
    "print(float(num1))\n",
    "# interger can be converted to float "
   ]
  },
  {
   "cell_type": "code",
   "execution_count": 5,
   "id": "27fab9f8",
   "metadata": {},
   "outputs": [
    {
     "name": "stdout",
     "output_type": "stream",
     "text": [
      "15.23\n"
     ]
    }
   ],
   "source": [
    "num2 = 15.23\n",
    "print(str(num2))\n",
    "# float can be converted to string "
   ]
  },
  {
   "cell_type": "code",
   "execution_count": 6,
   "id": "4b8e6624",
   "metadata": {},
   "outputs": [
    {
     "name": "stdout",
     "output_type": "stream",
     "text": [
      "45.0\n"
     ]
    }
   ],
   "source": [
    "num3 ='45'\n",
    "print(float(num3))\n",
    "#string cannot be converted to integer or float except the string value is a digit"
   ]
  },
  {
   "cell_type": "markdown",
   "id": "653bf145",
   "metadata": {},
   "source": [
    "# input function"
   ]
  },
  {
   "cell_type": "code",
   "execution_count": 7,
   "id": "8c88358c",
   "metadata": {},
   "outputs": [
    {
     "name": "stdout",
     "output_type": "stream",
     "text": [
      "Enter your name:early code \n"
     ]
    }
   ],
   "source": [
    "name = input('Enter your name:')"
   ]
  },
  {
   "cell_type": "code",
   "execution_count": 8,
   "id": "942a2fcc",
   "metadata": {},
   "outputs": [
    {
     "name": "stdout",
     "output_type": "stream",
     "text": [
      "early code \n"
     ]
    }
   ],
   "source": [
    "print(name)"
   ]
  },
  {
   "cell_type": "code",
   "execution_count": 9,
   "id": "b5a51c75",
   "metadata": {},
   "outputs": [
    {
     "name": "stdout",
     "output_type": "stream",
     "text": [
      "enter your age:26\n"
     ]
    }
   ],
   "source": [
    "Age = int(input('enter your age:'))"
   ]
  },
  {
   "cell_type": "code",
   "execution_count": 11,
   "id": "8d19d6ab",
   "metadata": {},
   "outputs": [
    {
     "name": "stdout",
     "output_type": "stream",
     "text": [
      "enter your age:15\n"
     ]
    }
   ],
   "source": [
    "age = float(input('enter your age:'))"
   ]
  },
  {
   "cell_type": "code",
   "execution_count": 12,
   "id": "67ee67dc",
   "metadata": {},
   "outputs": [
    {
     "name": "stdout",
     "output_type": "stream",
     "text": [
      "15.0\n"
     ]
    }
   ],
   "source": [
    "print(age)"
   ]
  },
  {
   "cell_type": "markdown",
   "id": "e96e4045",
   "metadata": {},
   "source": [
    "# operators\n",
    "# ARITHIMETIC OPERATOR \n",
    "# ADDITION::+\n",
    "# SUBTRACTION ::-\n",
    "# MULTIPLICATION ::*\n",
    "# DIVISION::/\n",
    "# MODULUS (REMAINDER)::%\n",
    "# INTERGER DIVISION:: //\n",
    "# EXPONENTIAL(RAISE TO POWER OF)::**"
   ]
  },
  {
   "cell_type": "code",
   "execution_count": 14,
   "id": "f3c5ae2f",
   "metadata": {},
   "outputs": [
    {
     "name": "stdout",
     "output_type": "stream",
     "text": [
      "enter first number40\n",
      "enter second number10\n",
      "40 + 10 =50\n",
      "40 - 10 =30\n",
      "40 * 10 =400\n",
      "40 / 10 =4.0\n",
      "40 % 10 =0\n",
      "40 // 10 =4\n",
      "40 ** 10 =10485760000000000\n"
     ]
    }
   ],
   "source": [
    "num1=int(input('enter first number'))\n",
    "num2=int(input('enter second number'))\n",
    "print(f'{num1} + {num2} ={num1 + num2}')\n",
    "print(f'{num1} - {num2} ={num1 - num2}')\n",
    "print(f'{num1} * {num2} ={num1 * num2}')\n",
    "print(f'{num1} / {num2} ={num1 / num2}')\n",
    "print(f'{num1} % {num2} ={num1 % num2}')\n",
    "print(f'{num1} // {num2} ={num1 // num2}')\n",
    "print(f'{num1} ** {num2} ={num1 ** num2}')"
   ]
  },
  {
   "cell_type": "markdown",
   "id": "10bdbde5",
   "metadata": {},
   "source": [
    "# comparison operatror \n",
    "# GREATER THAN ::>\n",
    "# LESS THAN :: <\n",
    "# GREATER THAN OR EQUAL TO ::>=\n",
    "# LESS THAN OR EQUAL TO :: <=\n",
    "# EQUAL TO :: ==\n",
    "# NOTEQUAL TO :: !="
   ]
  },
  {
   "cell_type": "code",
   "execution_count": 16,
   "id": "19970d16",
   "metadata": {},
   "outputs": [
    {
     "name": "stdout",
     "output_type": "stream",
     "text": [
      "enter first number25\n",
      "enter second number30\n",
      "25 > 30 =False\n",
      "25 < 30 =True\n",
      "25 >= 30 =False\n",
      "25 <= 30 =True\n",
      "25 == 30 =False\n",
      "25 != 30 =True\n"
     ]
    }
   ],
   "source": [
    "num1=int(input('enter first number'))\n",
    "num2=int(input('enter second number'))\n",
    "print(f'{num1} > {num2} ={num1 > num2}')\n",
    "print(f'{num1} < {num2} ={num1 < num2}')\n",
    "print(f'{num1} >= {num2} ={num1 >= num2}')\n",
    "print(f'{num1} <= {num2} ={num1 <= num2}')\n",
    "print(f'{num1} == {num2} ={num1 == num2}')\n",
    "print(f'{num1} != {num2} ={num1 != num2}')\n"
   ]
  },
  {
   "cell_type": "markdown",
   "id": "a9da7781",
   "metadata": {},
   "source": [
    "# LOGICAL OPERATORS \n",
    "# AND\n",
    "# OR\n",
    "# NOT"
   ]
  },
  {
   "cell_type": "code",
   "execution_count": 17,
   "id": "d9b9d12c",
   "metadata": {},
   "outputs": [
    {
     "name": "stdout",
     "output_type": "stream",
     "text": [
      "False\n",
      "True\n",
      "False\n"
     ]
    }
   ],
   "source": [
    "print(num1 > num2 and num1 != num2)\n",
    "print(num1 < num2 or num1 == num2)\n",
    "print(not num1)"
   ]
  },
  {
   "cell_type": "markdown",
   "id": "2b78ea5f",
   "metadata": {},
   "source": [
    "## identity operator \n",
    "### is \n",
    "### is not"
   ]
  },
  {
   "cell_type": "code",
   "execution_count": 18,
   "id": "0de266ff",
   "metadata": {},
   "outputs": [
    {
     "name": "stdout",
     "output_type": "stream",
     "text": [
      "False\n",
      "True\n"
     ]
    }
   ],
   "source": [
    "print(num1 is num2)\n",
    "print(num1 is not num2)"
   ]
  },
  {
   "cell_type": "markdown",
   "id": "45480930",
   "metadata": {},
   "source": [
    "## MEMBERSHIP OPERATOR \n",
    "### IN\n",
    "### NOT IN"
   ]
  },
  {
   "cell_type": "code",
   "execution_count": 19,
   "id": "4c47ae3b",
   "metadata": {},
   "outputs": [
    {
     "name": "stdout",
     "output_type": "stream",
     "text": [
      "True\n",
      "True\n"
     ]
    }
   ],
   "source": [
    "word = 'python'\n",
    "print('p' in word)\n",
    "print('P' not in word )"
   ]
  },
  {
   "cell_type": "code",
   "execution_count": 22,
   "id": "1415a8f0",
   "metadata": {},
   "outputs": [
    {
     "name": "stdout",
     "output_type": "stream",
     "text": [
      "enter number of apples:400\n",
      " the total cost of 400 apples is $200.0\n"
     ]
    }
   ],
   "source": [
    "sellingprice = 0.50\n",
    "totalapple = int(input('enter number of apples:'))\n",
    "cost = totalapple * sellingprice\n",
    "print(f' the total cost of {totalapple} apples is ${cost}')"
   ]
  },
  {
   "cell_type": "code",
   "execution_count": 25,
   "id": "07002e11",
   "metadata": {},
   "outputs": [
    {
     "name": "stdout",
     "output_type": "stream",
     "text": [
      "enterunit of product A TO produce25\n",
      "enter unit of product B to produce15\n",
      "the total profit made on 25.0unit of product A and 15.0unit of product B IS 21250.0\n"
     ]
    }
   ],
   "source": [
    "maxhours = 800\n",
    "perhrsA = 4\n",
    "perhrsB = 5\n",
    "PAprofit = 100\n",
    "PBprofit = 150\n",
    "PA = perhrsA * PAprofit\n",
    "PB = perhrsB * PBprofit\n",
    "unitA = float(input('enterunit of product A TO produce'))\n",
    "unitB = float(input('enter unit of product B to produce'))\n",
    "total = unitA * PA + unitB * PB \n",
    "print(f'the total profit made on {unitA}unit of product A and {unitB}unit of product B IS {total}')"
   ]
  },
  {
   "cell_type": "code",
   "execution_count": null,
   "id": "8c148fdb",
   "metadata": {},
   "outputs": [],
   "source": []
  }
 ],
 "metadata": {
  "kernelspec": {
   "display_name": "Python 3 (ipykernel)",
   "language": "python",
   "name": "python3"
  },
  "language_info": {
   "codemirror_mode": {
    "name": "ipython",
    "version": 3
   },
   "file_extension": ".py",
   "mimetype": "text/x-python",
   "name": "python",
   "nbconvert_exporter": "python",
   "pygments_lexer": "ipython3",
   "version": "3.9.12"
  }
 },
 "nbformat": 4,
 "nbformat_minor": 5
}
