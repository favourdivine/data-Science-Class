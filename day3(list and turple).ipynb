{
 "cells": [
  {
   "cell_type": "markdown",
   "id": "8b8a92d8",
   "metadata": {},
   "source": [
    "### ITERABLE OBJECT(ADVANCDED DATATYPES)\n",
    "#### TURPLE \n",
    "### TUPLE IS UNCHANGEABLE\n",
    "### TUPLE MUST ORDERED\n",
    "### TO ACCESS A VALUE IN A TURPLE WE USE THE INDEX LOCATION\n",
    "#### TUPLE IS DENOTED WITH ()\n",
    "#### NOTE:: TUPLE IS NOT LIMITED TO ONE DATA TYPE "
   ]
  },
  {
   "cell_type": "code",
   "execution_count": 3,
   "id": "791a13e0",
   "metadata": {},
   "outputs": [
    {
     "name": "stdout",
     "output_type": "stream",
     "text": [
      "<class 'tuple'>\n",
      "14\n"
     ]
    }
   ],
   "source": [
    "numbers = (45,85,96,90,23,25,45,80,82,87,47,42,45,100)\n",
    "print(type(numbers))\n",
    "print(len(numbers))"
   ]
  },
  {
   "cell_type": "code",
   "execution_count": 4,
   "id": "8770bfab",
   "metadata": {},
   "outputs": [
    {
     "name": "stdout",
     "output_type": "stream",
     "text": [
      "23\n"
     ]
    }
   ],
   "source": [
    "print(numbers[4]) # retriving a value based on forward index location"
   ]
  },
  {
   "cell_type": "code",
   "execution_count": 5,
   "id": "27c0739d",
   "metadata": {},
   "outputs": [
    {
     "name": "stdout",
     "output_type": "stream",
     "text": [
      "(23, 25, 45, 80, 82, 87)\n"
     ]
    }
   ],
   "source": [
    "print(numbers[4:10]) # retriving a range  value based on forward index location\n"
   ]
  },
  {
   "cell_type": "code",
   "execution_count": 6,
   "id": "c809dcc2",
   "metadata": {},
   "outputs": [
    {
     "name": "stdout",
     "output_type": "stream",
     "text": [
      "23\n"
     ]
    }
   ],
   "source": [
    "print(numbers[-10]) # retriving a value based on backward index location "
   ]
  },
  {
   "cell_type": "code",
   "execution_count": 7,
   "id": "74adf779",
   "metadata": {},
   "outputs": [
    {
     "name": "stdout",
     "output_type": "stream",
     "text": [
      "(23, 25, 45, 80, 82, 87)\n"
     ]
    }
   ],
   "source": [
    "print(numbers[4:-4]) #  retriving a range value based on backward index location "
   ]
  },
  {
   "cell_type": "code",
   "execution_count": 8,
   "id": "67aea7fb",
   "metadata": {},
   "outputs": [
    {
     "name": "stdout",
     "output_type": "stream",
     "text": [
      "3\n"
     ]
    }
   ],
   "source": [
    "print(numbers.count(45))"
   ]
  },
  {
   "cell_type": "code",
   "execution_count": 9,
   "id": "e5f03d65",
   "metadata": {},
   "outputs": [
    {
     "name": "stdout",
     "output_type": "stream",
     "text": [
      "13\n"
     ]
    }
   ],
   "source": [
    "print(numbers.index(100))"
   ]
  },
  {
   "cell_type": "code",
   "execution_count": 10,
   "id": "93ddec04",
   "metadata": {},
   "outputs": [
    {
     "name": "stdout",
     "output_type": "stream",
     "text": [
      "False\n"
     ]
    }
   ],
   "source": [
    "print(86 in numbers)"
   ]
  },
  {
   "cell_type": "code",
   "execution_count": 11,
   "id": "30bf9d62",
   "metadata": {},
   "outputs": [
    {
     "name": "stdout",
     "output_type": "stream",
     "text": [
      "(100, 45, 42, 47, 87, 82, 80, 45, 25, 23, 90, 96, 85, 45)\n"
     ]
    }
   ],
   "source": [
    "print(numbers[::-1])"
   ]
  },
  {
   "cell_type": "markdown",
   "id": "bd3f61e2",
   "metadata": {},
   "source": [
    "## list \n",
    "## list IS UNCHANGEABLE\n",
    "## list MUST ORDERED\n",
    "## TO ACCESS A VALUE IN A list WE USE THE INDEX LOCATION\n",
    "## list IS DENOTED WITH ()\n",
    " ### NOTE:: TUPLE IS NOT LIMITED TO ONE DATA TYPE"
   ]
  },
  {
   "cell_type": "code",
   "execution_count": 49,
   "id": "627a7843",
   "metadata": {},
   "outputs": [
    {
     "ename": "TypeError",
     "evalue": "'list' object is not callable",
     "output_type": "error",
     "traceback": [
      "\u001b[1;31m---------------------------------------------------------------------------\u001b[0m",
      "\u001b[1;31mTypeError\u001b[0m                                 Traceback (most recent call last)",
      "Input \u001b[1;32mIn [49]\u001b[0m, in \u001b[0;36m<cell line: 2>\u001b[1;34m()\u001b[0m\n\u001b[0;32m      1\u001b[0m fruits \u001b[38;5;241m=\u001b[39m [ \u001b[38;5;124m'\u001b[39m\u001b[38;5;124mapple\u001b[39m\u001b[38;5;124m'\u001b[39m, \u001b[38;5;124m'\u001b[39m\u001b[38;5;124mlemon\u001b[39m\u001b[38;5;124m'\u001b[39m,\u001b[38;5;124m'\u001b[39m\u001b[38;5;124mstrawberry\u001b[39m\u001b[38;5;124m'\u001b[39m,\u001b[38;5;124m'\u001b[39m\u001b[38;5;124mcherry\u001b[39m\u001b[38;5;124m'\u001b[39m,\u001b[38;5;124m'\u001b[39m\u001b[38;5;124mgrape\u001b[39m\u001b[38;5;124m'\u001b[39m ]\n\u001b[1;32m----> 2\u001b[0m \u001b[38;5;28;43mprint\u001b[39;49m\u001b[43m(\u001b[49m\u001b[43mfruits\u001b[49m\u001b[43m)\u001b[49m\n",
      "\u001b[1;31mTypeError\u001b[0m: 'list' object is not callable"
     ]
    }
   ],
   "source": [
    "fruits = [ 'apple', 'lemon','strawberry','cherry','grape' ]\n",
    "print(fruits)"
   ]
  },
  {
   "cell_type": "code",
   "execution_count": 14,
   "id": "d20bb19a",
   "metadata": {},
   "outputs": [
    {
     "name": "stdout",
     "output_type": "stream",
     "text": [
      "['apple', 'lemon', 'strawberry', 'cherry', 'grape', 'pear']\n"
     ]
    }
   ],
   "source": [
    "fruits.append('pear') (# append will add the new value to the end of the existing list\n",
    "print(fruits)"
   ]
  },
  {
   "cell_type": "code",
   "execution_count": 17,
   "id": "e359ae75",
   "metadata": {},
   "outputs": [
    {
     "name": "stdout",
     "output_type": "stream",
     "text": [
      "['apple', 'lemon', 'strawberry', 'pawpaw', 'pawpaw', 'pawpaw', 'cherry', 'grape', 'pear']\n"
     ]
    }
   ],
   "source": [
    "fruits.insert(3,'pawpaw')\n",
    "# insert will add the new value to the specified location on the existing list \n",
    "print(fruits)"
   ]
  },
  {
   "cell_type": "code",
   "execution_count": 18,
   "id": "bbd80426",
   "metadata": {},
   "outputs": [
    {
     "name": "stdout",
     "output_type": "stream",
     "text": [
      "['apple', 'lemon', 'strawberry', 'pawpaw', 'pawpaw', 'pawpaw', 'cherry', 'grape', 'pear', 'Apples', 'banaba', 'mango']\n"
     ]
    }
   ],
   "source": [
    "fruits.extend(['Apples','banaba','mango'])# extend will add the new value from another list \n",
    "print(fruits)"
   ]
  },
  {
   "cell_type": "code",
   "execution_count": 19,
   "id": "f2e09c8c",
   "metadata": {},
   "outputs": [
    {
     "name": "stdout",
     "output_type": "stream",
     "text": [
      "['apple', 'lemon', 'strawberry', 'pawpaw', 'pawpaw', 'pawpaw', 'cherry', 'grape', 'Apples', 'banaba', 'mango']\n"
     ]
    }
   ],
   "source": [
    "fruits.remove('pear')# remove will drop the value that is specified\n",
    "print(fruits)"
   ]
  },
  {
   "cell_type": "code",
   "execution_count": 22,
   "id": "d203fbeb",
   "metadata": {},
   "outputs": [
    {
     "name": "stdout",
     "output_type": "stream",
     "text": [
      "['Apples', 'apple', 'banaba', 'cherry', 'grape', 'lemon', 'mango', 'pawpaw', 'pawpaw', 'pawpaw', 'strawberry']\n"
     ]
    }
   ],
   "source": [
    "fruits.sort() # its arranges it in ascending order alphabetically\n",
    "print(fruits)"
   ]
  },
  {
   "cell_type": "code",
   "execution_count": 2,
   "id": "5571210d",
   "metadata": {},
   "outputs": [
    {
     "ename": "AttributeError",
     "evalue": "'tuple' object has no attribute 'reverse'",
     "output_type": "error",
     "traceback": [
      "\u001b[1;31m---------------------------------------------------------------------------\u001b[0m",
      "\u001b[1;31mAttributeError\u001b[0m                            Traceback (most recent call last)",
      "Input \u001b[1;32mIn [2]\u001b[0m, in \u001b[0;36m<cell line: 2>\u001b[1;34m()\u001b[0m\n\u001b[0;32m      1\u001b[0m fruits\u001b[38;5;241m=\u001b[39m\u001b[38;5;124m'\u001b[39m\u001b[38;5;124mmango\u001b[39m\u001b[38;5;124m'\u001b[39m,\u001b[38;5;124m'\u001b[39m\u001b[38;5;124morange\u001b[39m\u001b[38;5;124m'\u001b[39m,\u001b[38;5;124m'\u001b[39m\u001b[38;5;124mpawpaw\u001b[39m\u001b[38;5;124m'\u001b[39m,\u001b[38;5;124m'\u001b[39m\u001b[38;5;124mwatermelon\u001b[39m\u001b[38;5;124m'\u001b[39m\n\u001b[1;32m----> 2\u001b[0m \u001b[38;5;28mprint\u001b[39m(\u001b[43mfruits\u001b[49m\u001b[38;5;241;43m.\u001b[39;49m\u001b[43mreverse\u001b[49m())\n",
      "\u001b[1;31mAttributeError\u001b[0m: 'tuple' object has no attribute 'reverse'"
     ]
    }
   ],
   "source": [
    "fruits='mango','orange\n",
    "print(fruits.reverse())"
   ]
  },
  {
   "cell_type": "code",
   "execution_count": 27,
   "id": "eb3d1218",
   "metadata": {},
   "outputs": [
    {
     "name": "stdout",
     "output_type": "stream",
     "text": [
      "['strawberry', 'pawpaw', 'pawpaw', 'pawpaw', 'mango', 'lemon', 'grape', 'cherry', 'banaba', 'apple', 'Apples']\n"
     ]
    }
   ],
   "source": [
    "items = fruits.copy()\n",
    "print(items)"
   ]
  },
  {
   "cell_type": "code",
   "execution_count": 29,
   "id": "0e51d4aa",
   "metadata": {},
   "outputs": [
    {
     "name": "stdout",
     "output_type": "stream",
     "text": [
      "[]\n"
     ]
    }
   ],
   "source": [
    "items.clear()\n",
    "print(items)"
   ]
  },
  {
   "cell_type": "code",
   "execution_count": 30,
   "id": "eae62060",
   "metadata": {},
   "outputs": [
    {
     "ename": "NameError",
     "evalue": "name 'items' is not defined",
     "output_type": "error",
     "traceback": [
      "\u001b[1;31m---------------------------------------------------------------------------\u001b[0m",
      "\u001b[1;31mNameError\u001b[0m                                 Traceback (most recent call last)",
      "Input \u001b[1;32mIn [30]\u001b[0m, in \u001b[0;36m<cell line: 2>\u001b[1;34m()\u001b[0m\n\u001b[0;32m      1\u001b[0m \u001b[38;5;28;01mdel\u001b[39;00m(items)\n\u001b[1;32m----> 2\u001b[0m \u001b[38;5;28mprint\u001b[39m(\u001b[43mitems\u001b[49m)\n",
      "\u001b[1;31mNameError\u001b[0m: name 'items' is not defined"
     ]
    }
   ],
   "source": [
    "del(items)\n",
    "print(items)"
   ]
  },
  {
   "cell_type": "markdown",
   "id": "7d29ddd9",
   "metadata": {},
   "source": [
    "### DICTIONARY\n",
    "### DICTIONARY IS CHANGEABLE\n",
    "### DICTIONARY CAN BE ORDERED OR UNORDERED\n",
    "### TO ACCESS A VALUE IN A DICTIONARY WE USE THE KEY\n",
    "## DICTIONARY IS NOT LIMITED TO ONE DATA TYPE"
   ]
  },
  {
   "cell_type": "code",
   "execution_count": 31,
   "id": "cfa7e259",
   "metadata": {},
   "outputs": [],
   "source": [
    "records = {\n",
    "    'Name': 'Adebisi Balogun',\n",
    "    'Gender': 'Male',\n",
    "    'Age': 45,\n",
    "    'Height': 1.82,\n",
    "    'Weight': 75\n",
    "}"
   ]
  },
  {
   "cell_type": "code",
   "execution_count": 32,
   "id": "2addfbab",
   "metadata": {},
   "outputs": [
    {
     "name": "stdout",
     "output_type": "stream",
     "text": [
      "45\n"
     ]
    }
   ],
   "source": [
    "print(records['Age'])"
   ]
  },
  {
   "cell_type": "code",
   "execution_count": 33,
   "id": "838a3325",
   "metadata": {},
   "outputs": [
    {
     "name": "stdout",
     "output_type": "stream",
     "text": [
      "dict_keys(['Name', 'Gender', 'Age', 'Height', 'Weight'])\n"
     ]
    }
   ],
   "source": [
    "print(records.keys())"
   ]
  },
  {
   "cell_type": "code",
   "execution_count": 34,
   "id": "1df2cf22",
   "metadata": {},
   "outputs": [
    {
     "name": "stdout",
     "output_type": "stream",
     "text": [
      "dict_values(['Adebisi Balogun', 'Male', 45, 1.82, 75])\n"
     ]
    }
   ],
   "source": [
    "print(records.values())"
   ]
  },
  {
   "cell_type": "code",
   "execution_count": 35,
   "id": "5ba41cf8",
   "metadata": {},
   "outputs": [
    {
     "name": "stdout",
     "output_type": "stream",
     "text": [
      "dict_items([('Name', 'Adebisi Balogun'), ('Gender', 'Male'), ('Age', 45), ('Height', 1.82), ('Weight', 75)])\n"
     ]
    }
   ],
   "source": [
    "print(records.items())"
   ]
  },
  {
   "cell_type": "code",
   "execution_count": 36,
   "id": "d9c6d1dc",
   "metadata": {},
   "outputs": [
    {
     "name": "stdout",
     "output_type": "stream",
     "text": [
      "{'Name': 'Adebisi Balogun', 'Gender': 'Male', 'Age': 45, 'Height': 1.9, 'Weight': 75}\n"
     ]
    }
   ],
   "source": [
    "r = {'Height':1.90}\n",
    "records.update(r)\n",
    "print(records)"
   ]
  },
  {
   "cell_type": "code",
   "execution_count": 37,
   "id": "b02ce77e",
   "metadata": {},
   "outputs": [
    {
     "name": "stdout",
     "output_type": "stream",
     "text": [
      "{'Name': 'Adebisi Balogun', 'Gender': 'Male', 'Age': 45, 'Height': 1.9, 'Weight': 75, 'Complexion': 'Dark'}\n"
     ]
    }
   ],
   "source": [
    "records['Complexion']= 'Dark'\n",
    "print(records)"
   ]
  },
  {
   "cell_type": "code",
   "execution_count": 38,
   "id": "3ae62db9",
   "metadata": {},
   "outputs": [
    {
     "name": "stdout",
     "output_type": "stream",
     "text": [
      "{'Name': 'Adebisi Balogun', 'Gender': 'Male', 'Height': 1.9, 'Weight': 75, 'Complexion': 'Dark'}\n"
     ]
    }
   ],
   "source": [
    "records.pop('Age')\n",
    "print(records)"
   ]
  },
  {
   "cell_type": "code",
   "execution_count": 40,
   "id": "dbf412bd",
   "metadata": {},
   "outputs": [
    {
     "name": "stdout",
     "output_type": "stream",
     "text": [
      "{'Name': 'Adebisi Balogun', 'Gender': 'Male', 'Height': 1.9, 'Weight': 75}\n"
     ]
    }
   ],
   "source": [
    "records.popitem()\n",
    "print(records)"
   ]
  },
  {
   "cell_type": "code",
   "execution_count": 42,
   "id": "b0a9e919",
   "metadata": {},
   "outputs": [
    {
     "name": "stdout",
     "output_type": "stream",
     "text": [
      "Mary\n"
     ]
    }
   ],
   "source": [
    "details = {\n",
    "    'Name':{'Name1':'jane','Name2':'Ade','Name3':'Mary','Name4':'hope','Name5':'Favor'},\n",
    "    'Age': [12,12,14,10,13],\n",
    "    'Gender':['Female','Male','Female,''Female', 'Male']\n",
    "}\n",
    "print(details['Name']['Name3']) # make sure you nuse the dictionary with specific brackets "
   ]
  },
  {
   "cell_type": "code",
   "execution_count": 5,
   "id": "95849d03",
   "metadata": {},
   "outputs": [
    {
     "name": "stdout",
     "output_type": "stream",
     "text": [
      "mary\n"
     ]
    }
   ],
   "source": [
    "details ={\n",
    "    'Name':['jane','ade','mary','hope','favor'],\n",
    "    'Age':[12,12,14,10,13],\n",
    "    'Gender': ['female','male','female']\n",
    "}\n",
    "print(details['Name'][2]) # a dictionary with a key having mutiple value using dictionary with sub key\n"
   ]
  },
  {
   "cell_type": "markdown",
   "id": "cfeb82c9",
   "metadata": {},
   "source": [
    "### exercise"
   ]
  },
  {
   "cell_type": "markdown",
   "id": "a17af445",
   "metadata": {},
   "source": [
    "##How can you use a dictionary to store and access information about a customers orders, including the order number,date,\n",
    "##and items purchased? 5 records "
   ]
  },
  {
   "cell_type": "code",
   "execution_count": 3,
   "id": "42ab2930",
   "metadata": {},
   "outputs": [
    {
     "name": "stdout",
     "output_type": "stream",
     "text": [
      "dict_values([['bags', 'shoe', 'bracklet', 'hairbrush', 'gamepad'], ['70', '20', '30', '25', '70'], ['21 of may', '25 of june', '31st of august', '1st of july', '2nd of april']])\n"
     ]
    }
   ],
   "source": [
    "purchased ={\n",
    "    'customerorder':['bags','shoe','bracklet','hairbrush','gamepad'],\n",
    "    'ordernumber':['70','20','30','25','70'],\n",
    "    'Date':['21 of may','25 of june','31st of august','1st of july','2nd of april']\n",
    "}\n",
    "print(purchased.values())"
   ]
  },
  {
   "cell_type": "code",
   "execution_count": 4,
   "id": "0e647471",
   "metadata": {},
   "outputs": [
    {
     "name": "stdout",
     "output_type": "stream",
     "text": [
      "('Date', ['21 of may', '25 of june', '31st of august', '1st of july', '2nd of april'])\n"
     ]
    }
   ],
   "source": [
    "print(purchased.popitem())"
   ]
  },
  {
   "cell_type": "code",
   "execution_count": 9,
   "id": "06da4834",
   "metadata": {},
   "outputs": [
    {
     "name": "stdout",
     "output_type": "stream",
     "text": [
      "bracklet\n"
     ]
    }
   ],
   "source": [
    "print(purchased['customerorder'][2])"
   ]
  },
  {
   "cell_type": "code",
   "execution_count": 12,
   "id": "ecbc6461",
   "metadata": {},
   "outputs": [
    {
     "ename": "KeyError",
     "evalue": "'date'",
     "output_type": "error",
     "traceback": [
      "\u001b[1;31m---------------------------------------------------------------------------\u001b[0m",
      "\u001b[1;31mKeyError\u001b[0m                                  Traceback (most recent call last)",
      "Input \u001b[1;32mIn [12]\u001b[0m, in \u001b[0;36m<cell line: 1>\u001b[1;34m()\u001b[0m\n\u001b[1;32m----> 1\u001b[0m \u001b[43mpurchased\u001b[49m\u001b[38;5;241;43m.\u001b[39;49m\u001b[43mpop\u001b[49m\u001b[43m(\u001b[49m\u001b[38;5;124;43m'\u001b[39;49m\u001b[38;5;124;43mdate\u001b[39;49m\u001b[38;5;124;43m'\u001b[39;49m\u001b[43m)\u001b[49m\n\u001b[0;32m      2\u001b[0m \u001b[38;5;28mprint\u001b[39m(purchased)\n",
      "\u001b[1;31mKeyError\u001b[0m: 'date'"
     ]
    }
   ],
   "source": []
  },
  {
   "cell_type": "code",
   "execution_count": 13,
   "id": "5aea5020",
   "metadata": {},
   "outputs": [],
   "source": [
    "import math"
   ]
  },
  {
   "cell_type": "code",
   "execution_count": null,
   "id": "3f02e0ce",
   "metadata": {},
   "outputs": [],
   "source": []
  }
 ],
 "metadata": {
  "kernelspec": {
   "display_name": "Python 3 (ipykernel)",
   "language": "python",
   "name": "python3"
  },
  "language_info": {
   "codemirror_mode": {
    "name": "ipython",
    "version": 3
   },
   "file_extension": ".py",
   "mimetype": "text/x-python",
   "name": "python",
   "nbconvert_exporter": "python",
   "pygments_lexer": "ipython3",
   "version": "3.9.12"
  }
 },
 "nbformat": 4,
 "nbformat_minor": 5
}
