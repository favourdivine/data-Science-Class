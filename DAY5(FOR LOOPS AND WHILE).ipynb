{
 "cells": [
  {
   "cell_type": "markdown",
   "id": "f13db5b7",
   "metadata": {},
   "source": [
    "## loops"
   ]
  },
  {
   "cell_type": "markdown",
   "id": "17cb8495",
   "metadata": {},
   "source": [
    "## for loop"
   ]
  },
  {
   "cell_type": "code",
   "execution_count": 2,
   "id": "64e9509f",
   "metadata": {},
   "outputs": [
    {
     "name": "stdout",
     "output_type": "stream",
     "text": [
      "ppp\n",
      "yyy\n",
      "ttt\n",
      "hhh\n",
      "ooo\n",
      "nnn\n"
     ]
    }
   ],
   "source": [
    "word='python'\n",
    "for char in word:\n",
    "    print(char * 3)"
   ]
  },
  {
   "cell_type": "code",
   "execution_count": 3,
   "id": "348dc117",
   "metadata": {},
   "outputs": [
    {
     "name": "stdout",
     "output_type": "stream",
     "text": [
      "Enter a character:p\n",
      "ppp\n"
     ]
    }
   ],
   "source": [
    "word= 'python'\n",
    "x =input('Enter a character:')\n",
    "for char in word:\n",
    "    if x == char:\n",
    "        print(char * 3)"
   ]
  },
  {
   "cell_type": "code",
   "execution_count": 5,
   "id": "30fc2093",
   "metadata": {},
   "outputs": [
    {
     "name": "stdout",
     "output_type": "stream",
     "text": [
      "ppp/yyy/ttt/hhh/ooo/nnn/"
     ]
    }
   ],
   "source": [
    "word= 'python'\n",
    "for char in word:\n",
    "    print(char * 3,end='/')"
   ]
  },
  {
   "cell_type": "code",
   "execution_count": 1,
   "id": "87bd6b53",
   "metadata": {},
   "outputs": [
    {
     "name": "stdout",
     "output_type": "stream",
     "text": [
      "Enter a character:p\n",
      "ppp\n"
     ]
    }
   ],
   "source": [
    "word='python'\n",
    "x = input('Enter a character:')\n",
    "for char in word:\n",
    "    if x == char:\n",
    "        print(char * 3)\n",
    "        break\n",
    "else:\n",
    "    print('character not found')"
   ]
  },
  {
   "cell_type": "code",
   "execution_count": 2,
   "id": "f706b5b7",
   "metadata": {},
   "outputs": [
    {
     "name": "stdout",
     "output_type": "stream",
     "text": [
      "PLAYER ONE WINS\n",
      "PLAYER ONE SCORE: 7\n",
      "PLAYER TWO SCORE : 3\n",
      "PLAYER ONE WINS\n",
      "PLAYER ONE SCORE: 7\n",
      "PLAYER TWO SCORE : 5\n",
      "PLAYER ONE WINS\n",
      "PLAYER ONE SCORE: 10\n",
      "PLAYER TWO SCORE : 3\n",
      "PLAYER ONE WINS\n",
      "PLAYER ONE SCORE: 6\n",
      "PLAYER TWO SCORE : 3\n",
      "PLAYER Two WINS\n",
      "PLAYER ONE SCORE: 6\n",
      "PLAYER TWO SCORE : 12\n",
      "PLAYER ONE WINS\n",
      "PLAYER ONE SCORE: 8\n",
      "PLAYER TWO SCORE : 7\n",
      "PLAYER ONE WINS\n",
      "PLAYER ONE SCORE: 7\n",
      "PLAYER TWO SCORE : 6\n",
      "PLAYER Two WINS\n",
      "PLAYER ONE SCORE: 3\n",
      "PLAYER TWO SCORE : 10\n",
      "PLAYER Two WINS\n",
      "PLAYER ONE SCORE: 4\n",
      "PLAYER TWO SCORE : 6\n",
      "PLAYER ONE WINS\n",
      "PLAYER ONE SCORE: 6\n",
      "PLAYER TWO SCORE : 5\n",
      "PLAYER ONE IS THE OVER ALL WINNER BY 50 point\n"
     ]
    }
   ],
   "source": [
    "score1 = 0 ## DICE RANDOM SELECTION\n",
    "score2 = 0\n",
    "import random\n",
    "for i in range(1,11):\n",
    "    dice1 =(random.randint(1,6) + random.randint(1,6))\n",
    "    dice2 =(random.randint(1,6) + random.randint(1,6))\n",
    "    \n",
    "    if dice1 > dice2:\n",
    "        score1 += 5\n",
    "        print('PLAYER ONE WINS')\n",
    "        print(f'PLAYER ONE SCORE: {dice1}')\n",
    "        print(f'PLAYER TWO SCORE : {dice2}')\n",
    "        \n",
    "        \n",
    "    elif dice2 > dice1:\n",
    "        score1 += 5\n",
    "        print('PLAYER Two WINS')\n",
    "        print(f'PLAYER ONE SCORE: {dice1}')\n",
    "        print(f'PLAYER TWO SCORE : {dice2}')\n",
    "    elif dice1 == dice2:\n",
    "        score1 += 1\n",
    "        score2 += 1\n",
    "        print('DRAW')\n",
    "        print(f'PLAYER ONE SCORE: {dice1}')\n",
    "        print(f'PLAYER TWO SCORE : {dice2}')\n",
    "if score1 > score2:\n",
    "    print(f'PLAYER ONE IS THE OVER ALL WINNER BY {score1} point')\n",
    "elif score2 > score1:\n",
    "    print(f'PLAYER ONE IS THE OVER ALL WINNER BY {score2} point')\n",
    "else:\n",
    "    print('BOTH PLAYERS HAVE SAME POINT::: IT IS A DRAW')\n",
    "    "
   ]
  },
  {
   "cell_type": "markdown",
   "id": "ca2781e3",
   "metadata": {},
   "source": [
    "## running program"
   ]
  },
  {
   "cell_type": "code",
   "execution_count": 9,
   "id": "005af440",
   "metadata": {},
   "outputs": [
    {
     "name": "stdout",
     "output_type": "stream",
     "text": [
      "enter your number:45\n",
      "the sqrt of 45 is 6.708203932499369\n",
      "enter your number :23\n",
      "the sqrt of 23 is 4.795831523312719\n",
      "enter your number :0\n"
     ]
    }
   ],
   "source": [
    "counter=0\n",
    "num = int(input('enter your number:'))\n",
    "import math\n",
    "while num != 0:\n",
    "    print(f'the sqrt of {num} is {math.sqrt(num)}')\n",
    "    num= int(input('enter your number :'))\n",
    "    counter +=1"
   ]
  },
  {
   "cell_type": "code",
   "execution_count": 1,
   "id": "f437238b",
   "metadata": {},
   "outputs": [
    {
     "name": "stdout",
     "output_type": "stream",
     "text": [
      "enter your number:90\n",
      "90 * 1 = 90\n",
      "90 * 2 = 180\n",
      "90 * 3 = 270\n",
      "90 * 4 = 360\n",
      "90 * 5 = 450\n",
      "90 * 6 = 540\n",
      "90 * 7 = 630\n",
      "90 * 8 = 720\n",
      "90 * 9 = 810\n",
      "90 * 10 = 900\n",
      "90 * 11 = 990\n",
      "90 * 12 = 1080\n"
     ]
    }
   ],
   "source": [
    "num= int(input('enter your number:'))\n",
    "counter =1\n",
    "while counter <= 12:\n",
    "    print(f'{num} * {counter} = {num * counter}')\n",
    "    counter +=1"
   ]
  },
  {
   "cell_type": "markdown",
   "id": "f0ccf080",
   "metadata": {},
   "source": [
    "# EXERCISE\n",
    "# RANDOMLY GENERATE A NUMBER AND WRITE A PROGRAM TO ASK A USER TO GUESS UNTIL IT IS CORRECT USE A CONDITION TO GIVE HINT"
   ]
  },
  {
   "cell_type": "code",
   "execution_count": 19,
   "id": "69540222",
   "metadata": {},
   "outputs": [
    {
     "name": "stdout",
     "output_type": "stream",
     "text": [
      "guess the number:20\n",
      "guess too high\n",
      "Enter your guess:10\n",
      "guess too high\n",
      "Enter your guess:12\n",
      "guess too high\n",
      "Enter your guess:6\n",
      "guess too low\n",
      "Enter your guess:5\n",
      "guess too low\n",
      "Enter your guess:7\n",
      "guess too low\n",
      "Enter your guess:8\n",
      "guess too low\n",
      "Enter your guess:9\n",
      "CONGRATULATION GUESS IS RIGHT\n"
     ]
    }
   ],
   "source": [
    "num=random.randint(1,31)\n",
    "counter = 1\n",
    "guess=int(input('guess the number:'))\n",
    "while guess != num:\n",
    "    if guess > num:\n",
    "        print('guess too high')\n",
    "    elif guess < num:\n",
    "        print('guess too low')\n",
    "    guess = int(input('Enter your guess:'))\n",
    "    counter =+1\n",
    "else:\n",
    "    print('CONGRATULATION GUESS IS RIGHT')"
   ]
  },
  {
   "cell_type": "code",
   "execution_count": null,
   "id": "aa070da3",
   "metadata": {},
   "outputs": [],
   "source": []
  }
 ],
 "metadata": {
  "kernelspec": {
   "display_name": "Python 3 (ipykernel)",
   "language": "python",
   "name": "python3"
  },
  "language_info": {
   "codemirror_mode": {
    "name": "ipython",
    "version": 3
   },
   "file_extension": ".py",
   "mimetype": "text/x-python",
   "name": "python",
   "nbconvert_exporter": "python",
   "pygments_lexer": "ipython3",
   "version": "3.9.12"
  }
 },
 "nbformat": 4,
 "nbformat_minor": 5
}
